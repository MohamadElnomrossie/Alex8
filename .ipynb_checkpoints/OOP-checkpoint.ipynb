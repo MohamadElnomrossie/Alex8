{
 "cells": [
  {
   "cell_type": "code",
   "execution_count": 86,
   "id": "ada6f99c",
   "metadata": {},
   "outputs": [],
   "source": [
    "from abc import ABC,abstractmethod"
   ]
  },
  {
   "cell_type": "code",
   "execution_count": 229,
   "id": "79d047de",
   "metadata": {},
   "outputs": [],
   "source": [
    "class student():\n",
    "    nn=\"dsd\"\n",
    "    def __init__(self,name,age,grade,gender):\n",
    "        self.__name=name\n",
    "        self.__age=age\n",
    "        self.__grade=grade\n",
    "        self.__gender=gender\n",
    "        \n",
    "    def print_data(self):\n",
    "        print('name: ',self.__name)\n",
    "        print('age: ',self.__age)\n",
    "        print('grade: ',self.__grade)\n",
    "        print('gender: ',self.__gender)\n",
    "        \n",
    "    def change_name(self,name):\n",
    "        self.__name=name\n",
    "    def get_name(self):\n",
    "        return self.__name\n",
    "    def print_address(self):\n",
    "        print(self)"
   ]
  },
  {
   "cell_type": "markdown",
   "id": "4a5ef291",
   "metadata": {},
   "source": [
    "# Create an instance (instantiate) of the class"
   ]
  },
  {
   "cell_type": "code",
   "execution_count": 82,
   "id": "6facab92",
   "metadata": {},
   "outputs": [],
   "source": [
    "st1=student('Ahmed',15,9,'male')\n",
    "st2=student('Alaa',14,8,'female')"
   ]
  },
  {
   "cell_type": "code",
   "execution_count": 83,
   "id": "9534d9ff",
   "metadata": {},
   "outputs": [],
   "source": [
    "st1.change_name('Waleed')"
   ]
  },
  {
   "cell_type": "code",
   "execution_count": 138,
   "id": "06c01afc",
   "metadata": {},
   "outputs": [],
   "source": [
    "class inherited(student):\n",
    "    def __init__(self,name,age,grade,gender):\n",
    "        super().__init__(name,age,grade,gender)\n",
    "    def print_data(self):\n",
    "        print('Hello')"
   ]
  },
  {
   "cell_type": "code",
   "execution_count": 140,
   "id": "c3f75636",
   "metadata": {},
   "outputs": [],
   "source": [
    "inh=inherited('Alaa',14,8,'female')\n"
   ]
  },
  {
   "cell_type": "code",
   "execution_count": 129,
   "id": "14503fc1",
   "metadata": {},
   "outputs": [
    {
     "ename": "SyntaxError",
     "evalue": "invalid syntax (2991202131.py, line 1)",
     "output_type": "error",
     "traceback": [
      "\u001b[1;36m  File \u001b[1;32m\"C:\\Users\\Mohammed\\AppData\\Local\\Temp\\ipykernel_13016\\2991202131.py\"\u001b[1;36m, line \u001b[1;32m1\u001b[0m\n\u001b[1;33m    inh.\u001b[0m\n\u001b[1;37m        ^\u001b[0m\n\u001b[1;31mSyntaxError\u001b[0m\u001b[1;31m:\u001b[0m invalid syntax\n"
     ]
    }
   ],
   "source": [
    "inh."
   ]
  },
  {
   "cell_type": "code",
   "execution_count": 23,
   "id": "27673ce1",
   "metadata": {},
   "outputs": [],
   "source": [
    "st2.first_name='Alaa'"
   ]
  },
  {
   "cell_type": "code",
   "execution_count": 24,
   "id": "3a67061a",
   "metadata": {},
   "outputs": [
    {
     "data": {
      "text/plain": [
       "'Ahmed'"
      ]
     },
     "execution_count": 24,
     "metadata": {},
     "output_type": "execute_result"
    }
   ],
   "source": [
    "st1.first_name"
   ]
  },
  {
   "cell_type": "code",
   "execution_count": 44,
   "id": "3b352b8a",
   "metadata": {},
   "outputs": [],
   "source": [
    "class st():\n",
    "    name='dsdsd'"
   ]
  },
  {
   "cell_type": "code",
   "execution_count": 47,
   "id": "bee17f53",
   "metadata": {},
   "outputs": [],
   "source": [
    "h=st()\n",
    "b=st()"
   ]
  },
  {
   "cell_type": "code",
   "execution_count": 46,
   "id": "66b4bfdc",
   "metadata": {},
   "outputs": [
    {
     "data": {
      "text/plain": [
       "'dsdsd'"
      ]
     },
     "execution_count": 46,
     "metadata": {},
     "output_type": "execute_result"
    }
   ],
   "source": [
    "h.name"
   ]
  },
  {
   "cell_type": "code",
   "execution_count": 147,
   "id": "ff219e67",
   "metadata": {},
   "outputs": [],
   "source": [
    "sub=student()"
   ]
  },
  {
   "cell_type": "code",
   "execution_count": 143,
   "id": "08462f3a",
   "metadata": {},
   "outputs": [],
   "source": [
    "sub.change_name(\"Ahmed\")"
   ]
  },
  {
   "cell_type": "code",
   "execution_count": 148,
   "id": "35f863cc",
   "metadata": {},
   "outputs": [
    {
     "ename": "AttributeError",
     "evalue": "'student' object has no attribute '_student__name'",
     "output_type": "error",
     "traceback": [
      "\u001b[1;31m---------------------------------------------------------------------------\u001b[0m",
      "\u001b[1;31mAttributeError\u001b[0m                            Traceback (most recent call last)",
      "\u001b[1;32m~\\AppData\\Local\\Temp\\ipykernel_13016\\1533060492.py\u001b[0m in \u001b[0;36m<module>\u001b[1;34m\u001b[0m\n\u001b[1;32m----> 1\u001b[1;33m \u001b[0msub\u001b[0m\u001b[1;33m.\u001b[0m\u001b[0mprint_data\u001b[0m\u001b[1;33m(\u001b[0m\u001b[1;33m)\u001b[0m\u001b[1;33m\u001b[0m\u001b[1;33m\u001b[0m\u001b[0m\n\u001b[0m",
      "\u001b[1;32m~\\AppData\\Local\\Temp\\ipykernel_13016\\266055988.py\u001b[0m in \u001b[0;36mprint_data\u001b[1;34m(self)\u001b[0m\n\u001b[0;32m      3\u001b[0m         \u001b[1;32mpass\u001b[0m\u001b[1;33m\u001b[0m\u001b[1;33m\u001b[0m\u001b[0m\n\u001b[0;32m      4\u001b[0m     \u001b[1;32mdef\u001b[0m \u001b[0mprint_data\u001b[0m\u001b[1;33m(\u001b[0m\u001b[0mself\u001b[0m\u001b[1;33m)\u001b[0m\u001b[1;33m:\u001b[0m\u001b[1;33m\u001b[0m\u001b[1;33m\u001b[0m\u001b[0m\n\u001b[1;32m----> 5\u001b[1;33m         \u001b[0mprint\u001b[0m\u001b[1;33m(\u001b[0m\u001b[1;34m'name: '\u001b[0m\u001b[1;33m,\u001b[0m\u001b[0mself\u001b[0m\u001b[1;33m.\u001b[0m\u001b[0m__name\u001b[0m\u001b[1;33m)\u001b[0m\u001b[1;33m\u001b[0m\u001b[1;33m\u001b[0m\u001b[0m\n\u001b[0m\u001b[0;32m      6\u001b[0m         \u001b[0mprint\u001b[0m\u001b[1;33m(\u001b[0m\u001b[1;34m'age: '\u001b[0m\u001b[1;33m,\u001b[0m\u001b[0mself\u001b[0m\u001b[1;33m.\u001b[0m\u001b[0m__age\u001b[0m\u001b[1;33m)\u001b[0m\u001b[1;33m\u001b[0m\u001b[1;33m\u001b[0m\u001b[0m\n\u001b[0;32m      7\u001b[0m         \u001b[0mprint\u001b[0m\u001b[1;33m(\u001b[0m\u001b[1;34m'grade: '\u001b[0m\u001b[1;33m,\u001b[0m\u001b[0mself\u001b[0m\u001b[1;33m.\u001b[0m\u001b[0m__grade\u001b[0m\u001b[1;33m)\u001b[0m\u001b[1;33m\u001b[0m\u001b[1;33m\u001b[0m\u001b[0m\n",
      "\u001b[1;31mAttributeError\u001b[0m: 'student' object has no attribute '_student__name'"
     ]
    }
   ],
   "source": [
    "sub.print_data()"
   ]
  },
  {
   "cell_type": "code",
   "execution_count": 279,
   "id": "d593c335",
   "metadata": {},
   "outputs": [],
   "source": [
    "class person():\n",
    "#     Constructor\n",
    "    def __init__(self,name,age,gender):\n",
    "        self.__name=name\n",
    "        self.__age=age\n",
    "        self.__gender=gender\n",
    "        \n",
    "    def set_name(self,name):\n",
    "        self.__name=name\n",
    "    def get_name(self):\n",
    "        return self.__name\n",
    "    \n",
    "    def set_age(self,age):\n",
    "        self.__age=age\n",
    "    def get_age(self):\n",
    "        return self.__age\n",
    "    def set_gender(self,gender):\n",
    "        self.__gender=gender\n",
    "    def __get_gender(self):\n",
    "        return self.__gender\n"
   ]
  },
  {
   "cell_type": "code",
   "execution_count": 269,
   "id": "8943495a",
   "metadata": {},
   "outputs": [],
   "source": [
    "class employee(person):\n",
    "    def __init__(self,name,age,gender,job,salary,department):\n",
    "        super().__init__(name,age,gender)\n",
    "        \n",
    "        self.__job=job\n",
    "        self.__department=department\n",
    "        self.__salary=salary\n",
    "        \n",
    "    def get_job(self):\n",
    "        return self.__job\n",
    "    def get_salary(salary):\n",
    "        return self.__salary\n",
    "    def get_department(self):\n",
    "        return self.__department"
   ]
  },
  {
   "cell_type": "code",
   "execution_count": 270,
   "id": "cf20aeeb",
   "metadata": {},
   "outputs": [],
   "source": [
    "emp=employee('ahmed',25,'male','accountant',25,'hr')"
   ]
  },
  {
   "cell_type": "code",
   "execution_count": 271,
   "id": "14e620c3",
   "metadata": {},
   "outputs": [
    {
     "data": {
      "text/plain": [
       "25"
      ]
     },
     "execution_count": 271,
     "metadata": {},
     "output_type": "execute_result"
    }
   ],
   "source": [
    "emp.get_age()"
   ]
  },
  {
   "cell_type": "code",
   "execution_count": 185,
   "id": "efdd2ee3",
   "metadata": {},
   "outputs": [],
   "source": [
    "emp.ge"
   ]
  },
  {
   "cell_type": "code",
   "execution_count": 186,
   "id": "34e147de",
   "metadata": {},
   "outputs": [],
   "source": [
    "per.set_age(15)"
   ]
  },
  {
   "cell_type": "code",
   "execution_count": 187,
   "id": "24f02271",
   "metadata": {},
   "outputs": [
    {
     "data": {
      "text/plain": [
       "15"
      ]
     },
     "execution_count": 187,
     "metadata": {},
     "output_type": "execute_result"
    }
   ],
   "source": [
    "per.age"
   ]
  },
  {
   "cell_type": "code",
   "execution_count": 274,
   "id": "07187f41",
   "metadata": {},
   "outputs": [],
   "source": [
    "p=person('ahmed',25,'male')"
   ]
  },
  {
   "cell_type": "code",
   "execution_count": 223,
   "id": "d05574be",
   "metadata": {},
   "outputs": [
    {
     "data": {
      "text/plain": [
       "15"
      ]
     },
     "execution_count": 223,
     "metadata": {},
     "output_type": "execute_result"
    }
   ],
   "source": [
    "p."
   ]
  }
 ],
 "metadata": {
  "kernelspec": {
   "display_name": "Python 3 (ipykernel)",
   "language": "python",
   "name": "python3"
  },
  "language_info": {
   "codemirror_mode": {
    "name": "ipython",
    "version": 3
   },
   "file_extension": ".py",
   "mimetype": "text/x-python",
   "name": "python",
   "nbconvert_exporter": "python",
   "pygments_lexer": "ipython3",
   "version": "3.9.13"
  }
 },
 "nbformat": 4,
 "nbformat_minor": 5
}
