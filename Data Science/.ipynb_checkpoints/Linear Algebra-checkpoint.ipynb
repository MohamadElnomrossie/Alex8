{
 "cells": [
  {
   "cell_type": "code",
   "execution_count": 1,
   "id": "97aab0f1-2bc9-453c-b557-bcb0b694dae8",
   "metadata": {},
   "outputs": [],
   "source": [
    "import matplotlib.pyplot as plt"
   ]
  },
  {
   "cell_type": "code",
   "execution_count": 2,
   "id": "f8bcd147-0e8c-4353-b6bd-3c4cf541186d",
   "metadata": {},
   "outputs": [],
   "source": [
    "height_weight_age=[70, # inches,\n",
    "170, # pounds,\n",
    "40 ] # years"
   ]
  },
  {
   "cell_type": "code",
   "execution_count": 3,
   "id": "64c7c318-4b16-4d75-8a01-37a1d8a72980",
   "metadata": {},
   "outputs": [],
   "source": [
    "grades = [95, # exam1\n",
    "80, # exam2\n",
    "75, # exam3\n",
    "62 ] # exam4"
   ]
  },
  {
   "cell_type": "code",
   "execution_count": 58,
   "id": "6a5e73d6-8e3b-4fa2-a4e9-09d0ac7ca49e",
   "metadata": {},
   "outputs": [
    {
     "data": {
      "image/png": "[encoded data removed]",
      "text/plain": [
       "<Figure size 640x480 with 1 Axes>"
      ]
     },
     "metadata": {},
     "output_type": "display_data"
    }
   ],
   "source": [
    "import numpy as np\n",
    "import matplotlib.pyplot as plt\n",
    "\n",
    "V = np.array([[1,1], [-2,2], [4,-7]])\n",
    "origin = np.array([[0, 0, 0],[0, 0, 0]]) # origin point\n",
    "\n",
    "plt.quiver(*origin,6,6, color=['r','b','g'], scale=15)\n",
    "plt.xticks(range(10))\n",
    "plt.yticks(range(10))\n",
    "plt.show()"
   ]
  },
  {
   "cell_type": "code",
   "execution_count": 60,
   "id": "84ce3700-7d10-47e9-9f5c-a174441a1772",
   "metadata": {},
   "outputs": [],
   "source": [
    "v1=[1,2,3]\n",
    "v2=[4,5,6]"
   ]
  },
  {
   "cell_type": "code",
   "execution_count": 4,
   "id": "e2325886-12a9-465f-a439-518f5d35c8bb",
   "metadata": {},
   "outputs": [],
   "source": [
    "def vector_add(v1,v2):\n",
    "    pass"
   ]
  },
  {
   "cell_type": "code",
   "execution_count": 5,
   "id": "81c98cf3-5743-419b-b281-ec9ee05a9f7d",
   "metadata": {},
   "outputs": [],
   "source": [
    "def vector_subtract(v1,v2):\n",
    "    pass"
   ]
  },
  {
   "cell_type": "code",
   "execution_count": 6,
   "id": "638cd310-17bc-46b8-bb53-d197dfb4a954",
   "metadata": {},
   "outputs": [],
   "source": [
    "def vector_multiply(v1,v2):\n",
    "    pass"
   ]
  },
  {
   "cell_type": "code",
   "execution_count": 8,
   "id": "d8972472-8ef1-48ba-9810-087a6203b39d",
   "metadata": {},
   "outputs": [],
   "source": [
    "def vector_divide(v1,v2):\n",
    "    pass"
   ]
  },
  {
   "cell_type": "code",
   "execution_count": null,
   "id": "d4005328-fb39-4a93-90f3-5a173defaed9",
   "metadata": {},
   "outputs": [],
   "source": []
  },
  {
   "cell_type": "code",
   "execution_count": 9,
   "id": "7d6ad317-0615-44f0-9b81-209350770320",
   "metadata": {},
   "outputs": [],
   "source": [
    "def verctor_dot_product(v1,v2):\n",
    "    pass"
   ]
  },
  {
   "cell_type": "code",
   "execution_count": 10,
   "id": "9baf2124-7e47-4bd7-bdb7-029ba83ba2fe",
   "metadata": {},
   "outputs": [],
   "source": [
    "def vector_sum(v):\n",
    "    pass"
   ]
  },
  {
   "cell_type": "code",
   "execution_count": 11,
   "id": "d7475eff-7c00-4d00-a647-a89e94614de7",
   "metadata": {},
   "outputs": [],
   "source": [
    "def vactor_multilpy(v,s):\n",
    "    pass"
   ]
  },
  {
   "cell_type": "code",
   "execution_count": 12,
   "id": "db080a9a-94f8-481a-897b-cda75734dada",
   "metadata": {},
   "outputs": [],
   "source": [
    "def vector_mean(v):\n",
    "    pass"
   ]
  },
  {
   "cell_type": "markdown",
   "id": "ac44785a-0efc-4836-bf11-27f8258a5bf1",
   "metadata": {},
   "source": [
    "<center><img src=\".\\vector-mag-dir.svg\"></center>\n",
    "<br>\n",
    "<center><img src=\".\\eee.png\"></center>\n",
    "vector-mag-dir.svg"
   ]
  },
  {
   "cell_type": "code",
   "execution_count": 13,
   "id": "8ac6c569-90af-46e4-8c98-0bd4c0226453",
   "metadata": {},
   "outputs": [],
   "source": [
    "def magnitude(v):\n",
    "    pass"
   ]
  },
  {
   "cell_type": "code",
   "execution_count": null,
   "id": "6437dad3-779c-4293-beaf-8c967e7fb5d9",
   "metadata": {},
   "outputs": [],
   "source": []
  }
 ],
 "metadata": {
  "kernelspec": {
   "display_name": "Python 3 (ipykernel)",
   "language": "python",
   "name": "python3"
  },
  "language_info": {
   "codemirror_mode": {
    "name": "ipython",
    "version": 3
   },
   "file_extension": ".py",
   "mimetype": "text/x-python",
   "name": "python",
   "nbconvert_exporter": "python",
   "pygments_lexer": "ipython3",
   "version": "3.9.0"
  }
 },
 "nbformat": 4,
 "nbformat_minor": 5
}
