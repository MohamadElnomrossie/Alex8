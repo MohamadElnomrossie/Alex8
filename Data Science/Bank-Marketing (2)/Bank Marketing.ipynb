{
 "cells": [
  {
   "cell_type": "markdown",
   "id": "f941f23c",
   "metadata": {},
   "source": [
    "# Imports"
   ]
  },
  {
   "cell_type": "code",
   "execution_count": 1,
   "id": "20c323d0",
   "metadata": {},
   "outputs": [],
   "source": []
  },
  {
   "cell_type": "markdown",
   "id": "c1e9f52f",
   "metadata": {},
   "source": [
    "# Read the Data"
   ]
  },
  {
   "cell_type": "code",
   "execution_count": 2,
   "id": "6030c36b",
   "metadata": {},
   "outputs": [],
   "source": []
  },
  {
   "cell_type": "markdown",
   "id": "89ed0c6a",
   "metadata": {},
   "source": [
    "# Data Pre-preocessing"
   ]
  },
  {
   "cell_type": "markdown",
   "id": "1b7fd299",
   "metadata": {},
   "source": [
    "### 1- Data Understanding"
   ]
  },
  {
   "cell_type": "code",
   "execution_count": null,
   "id": "bd6ec21e",
   "metadata": {},
   "outputs": [],
   "source": []
  },
  {
   "cell_type": "markdown",
   "id": "760a9bf9",
   "metadata": {},
   "source": [
    "- **Drop Un-necessary Columns**"
   ]
  },
  {
   "cell_type": "code",
   "execution_count": 4,
   "id": "6ee81198",
   "metadata": {},
   "outputs": [],
   "source": []
  },
  {
   "cell_type": "markdown",
   "id": "ad2cba02",
   "metadata": {},
   "source": [
    "### 2- Check for Datatypes"
   ]
  },
  {
   "cell_type": "markdown",
   "id": "479339be",
   "metadata": {},
   "source": [
    "- **Display Datatypes**"
   ]
  },
  {
   "cell_type": "code",
   "execution_count": null,
   "id": "7f409c70",
   "metadata": {
    "scrolled": true
   },
   "outputs": [],
   "source": []
  },
  {
   "cell_type": "markdown",
   "id": "4da5dd11",
   "metadata": {},
   "source": [
    "- **Change In-correct Datatypes**"
   ]
  },
  {
   "cell_type": "code",
   "execution_count": 6,
   "id": "b2c13d2b",
   "metadata": {},
   "outputs": [],
   "source": []
  },
  {
   "cell_type": "markdown",
   "id": "06b31970",
   "metadata": {},
   "source": [
    "- **Check dtypes after correction**"
   ]
  },
  {
   "cell_type": "code",
   "execution_count": null,
   "id": "d7b21ec0",
   "metadata": {},
   "outputs": [],
   "source": []
  },
  {
   "cell_type": "markdown",
   "id": "7cab9200",
   "metadata": {},
   "source": [
    "### 3- Null Values"
   ]
  },
  {
   "cell_type": "markdown",
   "id": "a2b45168",
   "metadata": {},
   "source": [
    "- **Check for Null Values**"
   ]
  },
  {
   "cell_type": "code",
   "execution_count": null,
   "id": "a65d3df1",
   "metadata": {
    "scrolled": true
   },
   "outputs": [],
   "source": []
  },
  {
   "cell_type": "markdown",
   "id": "4cbda0d6",
   "metadata": {},
   "source": [
    "### 4- Handle Outliers"
   ]
  },
  {
   "cell_type": "markdown",
   "id": "658c7fdb",
   "metadata": {},
   "source": [
    "- **Check for Outliers**"
   ]
  },
  {
   "cell_type": "code",
   "execution_count": null,
   "id": "bb6e267f",
   "metadata": {
    "scrolled": false
   },
   "outputs": [],
   "source": []
  },
  {
   "cell_type": "markdown",
   "id": "58157303",
   "metadata": {},
   "source": [
    "- **Remove Outliers**"
   ]
  },
  {
   "cell_type": "code",
   "execution_count": 10,
   "id": "0a8320e4",
   "metadata": {},
   "outputs": [],
   "source": []
  },
  {
   "cell_type": "markdown",
   "id": "1e7df385",
   "metadata": {},
   "source": [
    "- **Make Sure Outliers are removed**"
   ]
  },
  {
   "cell_type": "code",
   "execution_count": null,
   "id": "283e1314",
   "metadata": {
    "scrolled": false
   },
   "outputs": [],
   "source": []
  },
  {
   "cell_type": "markdown",
   "id": "9699c711",
   "metadata": {},
   "source": [
    "### 5- Visualization"
   ]
  },
  {
   "cell_type": "markdown",
   "id": "efe0c25b",
   "metadata": {},
   "source": [
    "- **Relationship between the numerical cols & the target**"
   ]
  },
  {
   "cell_type": "code",
   "execution_count": null,
   "id": "6ebe5263",
   "metadata": {
    "scrolled": false
   },
   "outputs": [],
   "source": []
  },
  {
   "cell_type": "markdown",
   "id": "0e6d55f3",
   "metadata": {},
   "source": [
    "- **Relationship between the categorical cols & the target**"
   ]
  },
  {
   "cell_type": "code",
   "execution_count": null,
   "id": "f37a4364",
   "metadata": {
    "scrolled": false
   },
   "outputs": [],
   "source": []
  },
  {
   "cell_type": "markdown",
   "id": "c3e50413",
   "metadata": {},
   "source": [
    "### 6- Remove Duplicates "
   ]
  },
  {
   "cell_type": "markdown",
   "id": "86aeae94",
   "metadata": {},
   "source": [
    "- **Check for Duplicates**"
   ]
  },
  {
   "cell_type": "code",
   "execution_count": null,
   "id": "9398a45c",
   "metadata": {},
   "outputs": [],
   "source": []
  },
  {
   "cell_type": "markdown",
   "id": "45d0b73c",
   "metadata": {},
   "source": [
    "- **Remove Duplicates**"
   ]
  },
  {
   "cell_type": "code",
   "execution_count": 15,
   "id": "d1ef56ab",
   "metadata": {},
   "outputs": [],
   "source": []
  },
  {
   "cell_type": "markdown",
   "id": "1d99d466",
   "metadata": {},
   "source": [
    "- **Make Sure that Duplicates are Removed**"
   ]
  },
  {
   "cell_type": "code",
   "execution_count": null,
   "id": "0b0736e5",
   "metadata": {},
   "outputs": [],
   "source": []
  },
  {
   "cell_type": "markdown",
   "id": "cb5a807e",
   "metadata": {},
   "source": [
    "### 7- Data Splitting"
   ]
  },
  {
   "cell_type": "code",
   "execution_count": 17,
   "id": "ad2e0ac2",
   "metadata": {},
   "outputs": [],
   "source": []
  },
  {
   "cell_type": "markdown",
   "id": "c410252c",
   "metadata": {},
   "source": [
    "### 8- Normalization"
   ]
  },
  {
   "cell_type": "code",
   "execution_count": 18,
   "id": "ec589f54",
   "metadata": {},
   "outputs": [],
   "source": []
  },
  {
   "cell_type": "markdown",
   "id": "ddde2f94",
   "metadata": {},
   "source": [
    "### 9- Encoding"
   ]
  },
  {
   "cell_type": "code",
   "execution_count": null,
   "id": "613d1a71",
   "metadata": {
    "scrolled": true
   },
   "outputs": [],
   "source": []
  },
  {
   "cell_type": "code",
   "execution_count": 20,
   "id": "5305ef05",
   "metadata": {},
   "outputs": [],
   "source": []
  },
  {
   "cell_type": "markdown",
   "id": "4d94c1a8",
   "metadata": {},
   "source": [
    "- **Ordinal Encoding**"
   ]
  },
  {
   "cell_type": "code",
   "execution_count": 21,
   "id": "172f455d",
   "metadata": {},
   "outputs": [],
   "source": []
  },
  {
   "cell_type": "code",
   "execution_count": 22,
   "id": "ad2d6ca2",
   "metadata": {},
   "outputs": [],
   "source": []
  },
  {
   "cell_type": "markdown",
   "id": "5af74342",
   "metadata": {},
   "source": [
    "- **Binary Encoding**"
   ]
  },
  {
   "cell_type": "code",
   "execution_count": 23,
   "id": "be6a197d",
   "metadata": {},
   "outputs": [],
   "source": []
  },
  {
   "cell_type": "markdown",
   "id": "b9f41dc4",
   "metadata": {},
   "source": [
    "- **Label Encoding**\n",
    "    - is the same as Ordinal Encoding but special to the target column"
   ]
  },
  {
   "cell_type": "code",
   "execution_count": 27,
   "id": "f11ca31b",
   "metadata": {},
   "outputs": [],
   "source": []
  },
  {
   "cell_type": "code",
   "execution_count": null,
   "id": "9c5b5a76",
   "metadata": {},
   "outputs": [],
   "source": []
  }
 ],
 "metadata": {
  "kernelspec": {
   "display_name": "Python 3 (ipykernel)",
   "language": "python",
   "name": "python3"
  },
  "language_info": {
   "codemirror_mode": {
    "name": "ipython",
    "version": 3
   },
   "file_extension": ".py",
   "mimetype": "text/x-python",
   "name": "python",
   "nbconvert_exporter": "python",
   "pygments_lexer": "ipython3",
   "version": "3.10.9"
  }
 },
 "nbformat": 4,
 "nbformat_minor": 5
}
