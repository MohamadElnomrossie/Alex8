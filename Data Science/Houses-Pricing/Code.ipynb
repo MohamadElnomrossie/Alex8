{
 "cells": [
  {
   "cell_type": "code",
   "execution_count": 15,
   "id": "3af7dcf7",
   "metadata": {},
   "outputs": [],
   "source": [
    "import numpy as np \n",
    "import pandas as pd\n",
    "import seaborn as sns\n",
    "import matplotlib.pyplot as plt\n",
    "from warnings import filterwarnings\n",
    "\n",
    "filterwarnings(\"ignore\")\n",
    "pd.set_option('display.max_columns', None)\n",
    "pd.set_option('display.max_rows', None)"
   ]
  },
  {
   "cell_type": "markdown",
   "id": "b477e4af",
   "metadata": {},
   "source": [
    "# Preprocessing"
   ]
  },
  {
   "cell_type": "markdown",
   "id": "b1a259c6",
   "metadata": {},
   "source": [
    "### 1. Data Understanding"
   ]
  },
  {
   "cell_type": "code",
   "execution_count": 2,
   "id": "e8acec00",
   "metadata": {},
   "outputs": [],
   "source": [
    "df = pd.read_csv(\"Houses.csv\")"
   ]
  },
  {
   "cell_type": "code",
   "execution_count": null,
   "id": "0f835a58",
   "metadata": {},
   "outputs": [],
   "source": []
  },
  {
   "cell_type": "markdown",
   "id": "00f85685",
   "metadata": {},
   "source": [
    "### 2. Check for Dtypes"
   ]
  },
  {
   "cell_type": "code",
   "execution_count": 3,
   "id": "7dc7275d",
   "metadata": {},
   "outputs": [],
   "source": [
    "cat_cols=df.select_dtypes('object')"
   ]
  },
  {
   "cell_type": "code",
   "execution_count": 6,
   "id": "0d3e9366",
   "metadata": {},
   "outputs": [],
   "source": [
    "df[cat_cols.columns]=df[cat_cols.columns].astype('category')"
   ]
  },
  {
   "cell_type": "code",
   "execution_count": 7,
   "id": "6201e08a-4051-44c6-a450-d428ea8a9303",
   "metadata": {},
   "outputs": [
    {
     "name": "stdout",
     "output_type": "stream",
     "text": [
      "<class 'pandas.core.frame.DataFrame'>\n",
      "RangeIndex: 1460 entries, 0 to 1459\n",
      "Data columns (total 81 columns):\n",
      " #   Column         Non-Null Count  Dtype   \n",
      "---  ------         --------------  -----   \n",
      " 0   Id             1460 non-null   int64   \n",
      " 1   MSSubClass     1460 non-null   int64   \n",
      " 2   MSZoning       1460 non-null   category\n",
      " 3   LotFrontage    1201 non-null   float64 \n",
      " 4   LotArea        1460 non-null   int64   \n",
      " 5   Street         1460 non-null   category\n",
      " 6   Alley          91 non-null     category\n",
      " 7   LotShape       1460 non-null   category\n",
      " 8   LandContour    1460 non-null   category\n",
      " 9   Utilities      1460 non-null   category\n",
      " 10  LotConfig      1460 non-null   category\n",
      " 11  LandSlope      1460 non-null   category\n",
      " 12  Neighborhood   1460 non-null   category\n",
      " 13  Condition1     1460 non-null   category\n",
      " 14  Condition2     1460 non-null   category\n",
      " 15  BldgType       1460 non-null   category\n",
      " 16  HouseStyle     1460 non-null   category\n",
      " 17  OverallQual    1460 non-null   int64   \n",
      " 18  OverallCond    1460 non-null   int64   \n",
      " 19  YearBuilt      1460 non-null   int64   \n",
      " 20  YearRemodAdd   1460 non-null   int64   \n",
      " 21  RoofStyle      1460 non-null   category\n",
      " 22  RoofMatl       1460 non-null   category\n",
      " 23  Exterior1st    1460 non-null   category\n",
      " 24  Exterior2nd    1460 non-null   category\n",
      " 25  MasVnrType     588 non-null    category\n",
      " 26  MasVnrArea     1452 non-null   float64 \n",
      " 27  ExterQual      1460 non-null   category\n",
      " 28  ExterCond      1460 non-null   category\n",
      " 29  Foundation     1460 non-null   category\n",
      " 30  BsmtQual       1423 non-null   category\n",
      " 31  BsmtCond       1423 non-null   category\n",
      " 32  BsmtExposure   1422 non-null   category\n",
      " 33  BsmtFinType1   1423 non-null   category\n",
      " 34  BsmtFinSF1     1460 non-null   int64   \n",
      " 35  BsmtFinType2   1422 non-null   category\n",
      " 36  BsmtFinSF2     1460 non-null   int64   \n",
      " 37  BsmtUnfSF      1460 non-null   int64   \n",
      " 38  TotalBsmtSF    1460 non-null   int64   \n",
      " 39  Heating        1460 non-null   category\n",
      " 40  HeatingQC      1460 non-null   category\n",
      " 41  CentralAir     1460 non-null   category\n",
      " 42  Electrical     1459 non-null   category\n",
      " 43  1stFlrSF       1460 non-null   int64   \n",
      " 44  2ndFlrSF       1460 non-null   int64   \n",
      " 45  LowQualFinSF   1460 non-null   int64   \n",
      " 46  GrLivArea      1460 non-null   int64   \n",
      " 47  BsmtFullBath   1460 non-null   int64   \n",
      " 48  BsmtHalfBath   1460 non-null   int64   \n",
      " 49  FullBath       1460 non-null   int64   \n",
      " 50  HalfBath       1460 non-null   int64   \n",
      " 51  BedroomAbvGr   1460 non-null   int64   \n",
      " 52  KitchenAbvGr   1460 non-null   int64   \n",
      " 53  KitchenQual    1460 non-null   category\n",
      " 54  TotRmsAbvGrd   1460 non-null   int64   \n",
      " 55  Functional     1460 non-null   category\n",
      " 56  Fireplaces     1460 non-null   int64   \n",
      " 57  FireplaceQu    770 non-null    category\n",
      " 58  GarageType     1379 non-null   category\n",
      " 59  GarageYrBlt    1379 non-null   float64 \n",
      " 60  GarageFinish   1379 non-null   category\n",
      " 61  GarageCars     1460 non-null   int64   \n",
      " 62  GarageArea     1460 non-null   int64   \n",
      " 63  GarageQual     1379 non-null   category\n",
      " 64  GarageCond     1379 non-null   category\n",
      " 65  PavedDrive     1460 non-null   category\n",
      " 66  WoodDeckSF     1460 non-null   int64   \n",
      " 67  OpenPorchSF    1460 non-null   int64   \n",
      " 68  EnclosedPorch  1460 non-null   int64   \n",
      " 69  3SsnPorch      1460 non-null   int64   \n",
      " 70  ScreenPorch    1460 non-null   int64   \n",
      " 71  PoolArea       1460 non-null   int64   \n",
      " 72  PoolQC         7 non-null      category\n",
      " 73  Fence          281 non-null    category\n",
      " 74  MiscFeature    54 non-null     category\n",
      " 75  MiscVal        1460 non-null   int64   \n",
      " 76  MoSold         1460 non-null   int64   \n",
      " 77  YrSold         1460 non-null   int64   \n",
      " 78  SaleType       1460 non-null   category\n",
      " 79  SaleCondition  1460 non-null   category\n",
      " 80  SalePrice      1460 non-null   int64   \n",
      "dtypes: category(43), float64(3), int64(35)\n",
      "memory usage: 505.4 KB\n"
     ]
    }
   ],
   "source": [
    "df.info()"
   ]
  },
  {
   "cell_type": "code",
   "execution_count": 8,
   "id": "41e8097d-7b5d-4d4b-a0a6-b376f2890c93",
   "metadata": {},
   "outputs": [],
   "source": [
    "df.drop(columns=['Id',\n",
    "'Alley',\n",
    "'MasVnrType',\n",
    "'FireplaceQu',\n",
    "'PoolQC',\n",
    "'Fence',\n",
    "'MiscFeature'],inplace=True)"
   ]
  },
  {
   "cell_type": "markdown",
   "id": "4288602d",
   "metadata": {},
   "source": [
    "### 3. Null values"
   ]
  },
  {
   "cell_type": "code",
   "execution_count": 14,
   "id": "cf4a55a6-1bf6-4612-84f2-6ad05fe77bf5",
   "metadata": {},
   "outputs": [
    {
     "data": {
      "text/html": [
       "<div>\n",
       "<style scoped>\n",
       "    .dataframe tbody tr th:only-of-type {\n",
       "        vertical-align: middle;\n",
       "    }\n",
       "\n",
       "    .dataframe tbody tr th {\n",
       "        vertical-align: top;\n",
       "    }\n",
       "\n",
       "    .dataframe thead th {\n",
       "        text-align: right;\n",
       "    }\n",
       "</style>\n",
       "<table border=\"1\" class=\"dataframe\">\n",
       "  <thead>\n",
       "    <tr style=\"text-align: right;\">\n",
       "      <th></th>\n",
       "      <th>MSSubClass</th>\n",
       "      <th>MSZoning</th>\n",
       "      <th>LotFrontage</th>\n",
       "      <th>LotArea</th>\n",
       "      <th>Street</th>\n",
       "      <th>LotShape</th>\n",
       "      <th>LandContour</th>\n",
       "      <th>Utilities</th>\n",
       "      <th>LotConfig</th>\n",
       "      <th>LandSlope</th>\n",
       "      <th>Neighborhood</th>\n",
       "      <th>Condition1</th>\n",
       "      <th>Condition2</th>\n",
       "      <th>BldgType</th>\n",
       "      <th>HouseStyle</th>\n",
       "      <th>OverallQual</th>\n",
       "      <th>OverallCond</th>\n",
       "      <th>YearBuilt</th>\n",
       "      <th>YearRemodAdd</th>\n",
       "      <th>RoofStyle</th>\n",
       "      <th>RoofMatl</th>\n",
       "      <th>Exterior1st</th>\n",
       "      <th>Exterior2nd</th>\n",
       "      <th>MasVnrArea</th>\n",
       "      <th>ExterQual</th>\n",
       "      <th>ExterCond</th>\n",
       "      <th>Foundation</th>\n",
       "      <th>BsmtQual</th>\n",
       "      <th>BsmtCond</th>\n",
       "      <th>BsmtExposure</th>\n",
       "      <th>BsmtFinType1</th>\n",
       "      <th>BsmtFinSF1</th>\n",
       "      <th>BsmtFinType2</th>\n",
       "      <th>BsmtFinSF2</th>\n",
       "      <th>BsmtUnfSF</th>\n",
       "      <th>TotalBsmtSF</th>\n",
       "      <th>Heating</th>\n",
       "      <th>HeatingQC</th>\n",
       "      <th>CentralAir</th>\n",
       "      <th>Electrical</th>\n",
       "      <th>1stFlrSF</th>\n",
       "      <th>2ndFlrSF</th>\n",
       "      <th>LowQualFinSF</th>\n",
       "      <th>GrLivArea</th>\n",
       "      <th>BsmtFullBath</th>\n",
       "      <th>BsmtHalfBath</th>\n",
       "      <th>FullBath</th>\n",
       "      <th>HalfBath</th>\n",
       "      <th>BedroomAbvGr</th>\n",
       "      <th>KitchenAbvGr</th>\n",
       "      <th>KitchenQual</th>\n",
       "      <th>TotRmsAbvGrd</th>\n",
       "      <th>Functional</th>\n",
       "      <th>Fireplaces</th>\n",
       "      <th>GarageType</th>\n",
       "      <th>GarageYrBlt</th>\n",
       "      <th>GarageFinish</th>\n",
       "      <th>GarageCars</th>\n",
       "      <th>GarageArea</th>\n",
       "      <th>GarageQual</th>\n",
       "      <th>GarageCond</th>\n",
       "      <th>PavedDrive</th>\n",
       "      <th>WoodDeckSF</th>\n",
       "      <th>OpenPorchSF</th>\n",
       "      <th>EnclosedPorch</th>\n",
       "      <th>3SsnPorch</th>\n",
       "      <th>ScreenPorch</th>\n",
       "      <th>PoolArea</th>\n",
       "      <th>MiscVal</th>\n",
       "      <th>MoSold</th>\n",
       "      <th>YrSold</th>\n",
       "      <th>SaleType</th>\n",
       "      <th>SaleCondition</th>\n",
       "      <th>SalePrice</th>\n",
       "    </tr>\n",
       "  </thead>\n",
       "  <tbody>\n",
       "    <tr>\n",
       "      <th>Null</th>\n",
       "      <td>0.0</td>\n",
       "      <td>0.0</td>\n",
       "      <td>259.000000</td>\n",
       "      <td>0.0</td>\n",
       "      <td>0.0</td>\n",
       "      <td>0.0</td>\n",
       "      <td>0.0</td>\n",
       "      <td>0.0</td>\n",
       "      <td>0.0</td>\n",
       "      <td>0.0</td>\n",
       "      <td>0.0</td>\n",
       "      <td>0.0</td>\n",
       "      <td>0.0</td>\n",
       "      <td>0.0</td>\n",
       "      <td>0.0</td>\n",
       "      <td>0.0</td>\n",
       "      <td>0.0</td>\n",
       "      <td>0.0</td>\n",
       "      <td>0.0</td>\n",
       "      <td>0.0</td>\n",
       "      <td>0.0</td>\n",
       "      <td>0.0</td>\n",
       "      <td>0.0</td>\n",
       "      <td>8.000000</td>\n",
       "      <td>0.0</td>\n",
       "      <td>0.0</td>\n",
       "      <td>0.0</td>\n",
       "      <td>37.000000</td>\n",
       "      <td>37.000000</td>\n",
       "      <td>38.000000</td>\n",
       "      <td>37.000000</td>\n",
       "      <td>0.0</td>\n",
       "      <td>38.000000</td>\n",
       "      <td>0.0</td>\n",
       "      <td>0.0</td>\n",
       "      <td>0.0</td>\n",
       "      <td>0.0</td>\n",
       "      <td>0.0</td>\n",
       "      <td>0.0</td>\n",
       "      <td>1.000000</td>\n",
       "      <td>0.0</td>\n",
       "      <td>0.0</td>\n",
       "      <td>0.0</td>\n",
       "      <td>0.0</td>\n",
       "      <td>0.0</td>\n",
       "      <td>0.0</td>\n",
       "      <td>0.0</td>\n",
       "      <td>0.0</td>\n",
       "      <td>0.0</td>\n",
       "      <td>0.0</td>\n",
       "      <td>0.0</td>\n",
       "      <td>0.0</td>\n",
       "      <td>0.0</td>\n",
       "      <td>0.0</td>\n",
       "      <td>81.000000</td>\n",
       "      <td>81.000000</td>\n",
       "      <td>81.000000</td>\n",
       "      <td>0.0</td>\n",
       "      <td>0.0</td>\n",
       "      <td>81.000000</td>\n",
       "      <td>81.000000</td>\n",
       "      <td>0.0</td>\n",
       "      <td>0.0</td>\n",
       "      <td>0.0</td>\n",
       "      <td>0.0</td>\n",
       "      <td>0.0</td>\n",
       "      <td>0.0</td>\n",
       "      <td>0.0</td>\n",
       "      <td>0.0</td>\n",
       "      <td>0.0</td>\n",
       "      <td>0.0</td>\n",
       "      <td>0.0</td>\n",
       "      <td>0.0</td>\n",
       "      <td>0.0</td>\n",
       "    </tr>\n",
       "    <tr>\n",
       "      <th>Null_ratio</th>\n",
       "      <td>0.0</td>\n",
       "      <td>0.0</td>\n",
       "      <td>0.177397</td>\n",
       "      <td>0.0</td>\n",
       "      <td>0.0</td>\n",
       "      <td>0.0</td>\n",
       "      <td>0.0</td>\n",
       "      <td>0.0</td>\n",
       "      <td>0.0</td>\n",
       "      <td>0.0</td>\n",
       "      <td>0.0</td>\n",
       "      <td>0.0</td>\n",
       "      <td>0.0</td>\n",
       "      <td>0.0</td>\n",
       "      <td>0.0</td>\n",
       "      <td>0.0</td>\n",
       "      <td>0.0</td>\n",
       "      <td>0.0</td>\n",
       "      <td>0.0</td>\n",
       "      <td>0.0</td>\n",
       "      <td>0.0</td>\n",
       "      <td>0.0</td>\n",
       "      <td>0.0</td>\n",
       "      <td>0.005479</td>\n",
       "      <td>0.0</td>\n",
       "      <td>0.0</td>\n",
       "      <td>0.0</td>\n",
       "      <td>0.025342</td>\n",
       "      <td>0.025342</td>\n",
       "      <td>0.026027</td>\n",
       "      <td>0.025342</td>\n",
       "      <td>0.0</td>\n",
       "      <td>0.026027</td>\n",
       "      <td>0.0</td>\n",
       "      <td>0.0</td>\n",
       "      <td>0.0</td>\n",
       "      <td>0.0</td>\n",
       "      <td>0.0</td>\n",
       "      <td>0.0</td>\n",
       "      <td>0.000685</td>\n",
       "      <td>0.0</td>\n",
       "      <td>0.0</td>\n",
       "      <td>0.0</td>\n",
       "      <td>0.0</td>\n",
       "      <td>0.0</td>\n",
       "      <td>0.0</td>\n",
       "      <td>0.0</td>\n",
       "      <td>0.0</td>\n",
       "      <td>0.0</td>\n",
       "      <td>0.0</td>\n",
       "      <td>0.0</td>\n",
       "      <td>0.0</td>\n",
       "      <td>0.0</td>\n",
       "      <td>0.0</td>\n",
       "      <td>0.055479</td>\n",
       "      <td>0.055479</td>\n",
       "      <td>0.055479</td>\n",
       "      <td>0.0</td>\n",
       "      <td>0.0</td>\n",
       "      <td>0.055479</td>\n",
       "      <td>0.055479</td>\n",
       "      <td>0.0</td>\n",
       "      <td>0.0</td>\n",
       "      <td>0.0</td>\n",
       "      <td>0.0</td>\n",
       "      <td>0.0</td>\n",
       "      <td>0.0</td>\n",
       "      <td>0.0</td>\n",
       "      <td>0.0</td>\n",
       "      <td>0.0</td>\n",
       "      <td>0.0</td>\n",
       "      <td>0.0</td>\n",
       "      <td>0.0</td>\n",
       "      <td>0.0</td>\n",
       "    </tr>\n",
       "  </tbody>\n",
       "</table>\n",
       "</div>"
      ],
      "text/plain": [
       "            MSSubClass  MSZoning  LotFrontage  LotArea  Street  LotShape  \\\n",
       "Null               0.0       0.0   259.000000      0.0     0.0       0.0   \n",
       "Null_ratio         0.0       0.0     0.177397      0.0     0.0       0.0   \n",
       "\n",
       "            LandContour  Utilities  LotConfig  LandSlope  Neighborhood  \\\n",
       "Null                0.0        0.0        0.0        0.0           0.0   \n",
       "Null_ratio          0.0        0.0        0.0        0.0           0.0   \n",
       "\n",
       "            Condition1  Condition2  BldgType  HouseStyle  OverallQual  \\\n",
       "Null               0.0         0.0       0.0         0.0          0.0   \n",
       "Null_ratio         0.0         0.0       0.0         0.0          0.0   \n",
       "\n",
       "            OverallCond  YearBuilt  YearRemodAdd  RoofStyle  RoofMatl  \\\n",
       "Null                0.0        0.0           0.0        0.0       0.0   \n",
       "Null_ratio          0.0        0.0           0.0        0.0       0.0   \n",
       "\n",
       "            Exterior1st  Exterior2nd  MasVnrArea  ExterQual  ExterCond  \\\n",
       "Null                0.0          0.0    8.000000        0.0        0.0   \n",
       "Null_ratio          0.0          0.0    0.005479        0.0        0.0   \n",
       "\n",
       "            Foundation   BsmtQual   BsmtCond  BsmtExposure  BsmtFinType1  \\\n",
       "Null               0.0  37.000000  37.000000     38.000000     37.000000   \n",
       "Null_ratio         0.0   0.025342   0.025342      0.026027      0.025342   \n",
       "\n",
       "            BsmtFinSF1  BsmtFinType2  BsmtFinSF2  BsmtUnfSF  TotalBsmtSF  \\\n",
       "Null               0.0     38.000000         0.0        0.0          0.0   \n",
       "Null_ratio         0.0      0.026027         0.0        0.0          0.0   \n",
       "\n",
       "            Heating  HeatingQC  CentralAir  Electrical  1stFlrSF  2ndFlrSF  \\\n",
       "Null            0.0        0.0         0.0    1.000000       0.0       0.0   \n",
       "Null_ratio      0.0        0.0         0.0    0.000685       0.0       0.0   \n",
       "\n",
       "            LowQualFinSF  GrLivArea  BsmtFullBath  BsmtHalfBath  FullBath  \\\n",
       "Null                 0.0        0.0           0.0           0.0       0.0   \n",
       "Null_ratio           0.0        0.0           0.0           0.0       0.0   \n",
       "\n",
       "            HalfBath  BedroomAbvGr  KitchenAbvGr  KitchenQual  TotRmsAbvGrd  \\\n",
       "Null             0.0           0.0           0.0          0.0           0.0   \n",
       "Null_ratio       0.0           0.0           0.0          0.0           0.0   \n",
       "\n",
       "            Functional  Fireplaces  GarageType  GarageYrBlt  GarageFinish  \\\n",
       "Null               0.0         0.0   81.000000    81.000000     81.000000   \n",
       "Null_ratio         0.0         0.0    0.055479     0.055479      0.055479   \n",
       "\n",
       "            GarageCars  GarageArea  GarageQual  GarageCond  PavedDrive  \\\n",
       "Null               0.0         0.0   81.000000   81.000000         0.0   \n",
       "Null_ratio         0.0         0.0    0.055479    0.055479         0.0   \n",
       "\n",
       "            WoodDeckSF  OpenPorchSF  EnclosedPorch  3SsnPorch  ScreenPorch  \\\n",
       "Null               0.0          0.0            0.0        0.0          0.0   \n",
       "Null_ratio         0.0          0.0            0.0        0.0          0.0   \n",
       "\n",
       "            PoolArea  MiscVal  MoSold  YrSold  SaleType  SaleCondition  \\\n",
       "Null             0.0      0.0     0.0     0.0       0.0            0.0   \n",
       "Null_ratio       0.0      0.0     0.0     0.0       0.0            0.0   \n",
       "\n",
       "            SalePrice  \n",
       "Null              0.0  \n",
       "Null_ratio        0.0  "
      ]
     },
     "execution_count": 14,
     "metadata": {},
     "output_type": "execute_result"
    }
   ],
   "source": [
    "null = df.isnull().sum()\n",
    "null_ratio = null / df.shape[0]\n",
    "pd.DataFrame({\"Null\": null, \"Null_ratio\": null_ratio}).T"
   ]
  },
  {
   "cell_type": "code",
   "execution_count": 16,
   "id": "7c358f4a-bacf-45fa-bfe3-9adb2c6d4339",
   "metadata": {},
   "outputs": [
    {
     "data": {
      "text/plain": [
       "MSSubClass         0\n",
       "MSZoning           0\n",
       "LotFrontage      259\n",
       "LotArea            0\n",
       "Street             0\n",
       "LotShape           0\n",
       "LandContour        0\n",
       "Utilities          0\n",
       "LotConfig          0\n",
       "LandSlope          0\n",
       "Neighborhood       0\n",
       "Condition1         0\n",
       "Condition2         0\n",
       "BldgType           0\n",
       "HouseStyle         0\n",
       "OverallQual        0\n",
       "OverallCond        0\n",
       "YearBuilt          0\n",
       "YearRemodAdd       0\n",
       "RoofStyle          0\n",
       "RoofMatl           0\n",
       "Exterior1st        0\n",
       "Exterior2nd        0\n",
       "MasVnrArea         8\n",
       "ExterQual          0\n",
       "ExterCond          0\n",
       "Foundation         0\n",
       "BsmtQual          37\n",
       "BsmtCond          37\n",
       "BsmtExposure      38\n",
       "BsmtFinType1      37\n",
       "BsmtFinSF1         0\n",
       "BsmtFinType2      38\n",
       "BsmtFinSF2         0\n",
       "BsmtUnfSF          0\n",
       "TotalBsmtSF        0\n",
       "Heating            0\n",
       "HeatingQC          0\n",
       "CentralAir         0\n",
       "Electrical         1\n",
       "1stFlrSF           0\n",
       "2ndFlrSF           0\n",
       "LowQualFinSF       0\n",
       "GrLivArea          0\n",
       "BsmtFullBath       0\n",
       "BsmtHalfBath       0\n",
       "FullBath           0\n",
       "HalfBath           0\n",
       "BedroomAbvGr       0\n",
       "KitchenAbvGr       0\n",
       "KitchenQual        0\n",
       "TotRmsAbvGrd       0\n",
       "Functional         0\n",
       "Fireplaces         0\n",
       "GarageType        81\n",
       "GarageYrBlt       81\n",
       "GarageFinish      81\n",
       "GarageCars         0\n",
       "GarageArea         0\n",
       "GarageQual        81\n",
       "GarageCond        81\n",
       "PavedDrive         0\n",
       "WoodDeckSF         0\n",
       "OpenPorchSF        0\n",
       "EnclosedPorch      0\n",
       "3SsnPorch          0\n",
       "ScreenPorch        0\n",
       "PoolArea           0\n",
       "MiscVal            0\n",
       "MoSold             0\n",
       "YrSold             0\n",
       "SaleType           0\n",
       "SaleCondition      0\n",
       "SalePrice          0\n",
       "dtype: int64"
      ]
     },
     "execution_count": 16,
     "metadata": {},
     "output_type": "execute_result"
    }
   ],
   "source": [
    "df.isna().sum()"
   ]
  },
  {
   "cell_type": "markdown",
   "id": "81c7f022",
   "metadata": {},
   "source": [
    "- **Check for Null Values**"
   ]
  },
  {
   "cell_type": "code",
   "execution_count": 18,
   "id": "5b567e63",
   "metadata": {
    "scrolled": true
   },
   "outputs": [],
   "source": [
    "num_cols=df.select_dtypes('number').columns"
   ]
  },
  {
   "cell_type": "code",
   "execution_count": 19,
   "id": "b14f4467-ead3-437b-9412-c7690d476651",
   "metadata": {},
   "outputs": [],
   "source": [
    "for col in num_cols:\n",
    "    df[col].fillna(df[col].mean(),inplace=True)\n",
    "    "
   ]
  },
  {
   "cell_type": "markdown",
   "id": "a1bf52db",
   "metadata": {},
   "source": [
    "- **Drop Null values**"
   ]
  },
  {
   "cell_type": "code",
   "execution_count": 20,
   "id": "92b81689",
   "metadata": {},
   "outputs": [
    {
     "data": {
      "text/plain": [
       "Index(['MSSubClass', 'MSZoning', 'LotFrontage', 'LotArea', 'Street',\n",
       "       'LotShape', 'LandContour', 'Utilities', 'LotConfig', 'LandSlope',\n",
       "       'Neighborhood', 'Condition1', 'Condition2', 'BldgType', 'HouseStyle',\n",
       "       'OverallQual', 'OverallCond', 'YearBuilt', 'YearRemodAdd', 'RoofStyle',\n",
       "       'RoofMatl', 'Exterior1st', 'Exterior2nd', 'MasVnrArea', 'ExterQual',\n",
       "       'ExterCond', 'Foundation', 'BsmtQual', 'BsmtCond', 'BsmtExposure',\n",
       "       'BsmtFinType1', 'BsmtFinSF1', 'BsmtFinType2', 'BsmtFinSF2', 'BsmtUnfSF',\n",
       "       'TotalBsmtSF', 'Heating', 'HeatingQC', 'CentralAir', 'Electrical',\n",
       "       '1stFlrSF', '2ndFlrSF', 'LowQualFinSF', 'GrLivArea', 'BsmtFullBath',\n",
       "       'BsmtHalfBath', 'FullBath', 'HalfBath', 'BedroomAbvGr', 'KitchenAbvGr',\n",
       "       'KitchenQual', 'TotRmsAbvGrd', 'Functional', 'Fireplaces', 'GarageType',\n",
       "       'GarageYrBlt', 'GarageFinish', 'GarageCars', 'GarageArea', 'GarageQual',\n",
       "       'GarageCond', 'PavedDrive', 'WoodDeckSF', 'OpenPorchSF',\n",
       "       'EnclosedPorch', '3SsnPorch', 'ScreenPorch', 'PoolArea', 'MiscVal',\n",
       "       'MoSold', 'YrSold', 'SaleType', 'SaleCondition', 'SalePrice'],\n",
       "      dtype='object')"
      ]
     },
     "execution_count": 20,
     "metadata": {},
     "output_type": "execute_result"
    }
   ],
   "source": [
    "df.columns"
   ]
  },
  {
   "cell_type": "code",
   "execution_count": 21,
   "id": "d1dc9da1-55bd-4371-a17b-b89f4cedc5a1",
   "metadata": {},
   "outputs": [
    {
     "data": {
      "text/plain": [
       "0    Unf\n",
       "Name: BsmtFinType1, dtype: category\n",
       "Categories (6, object): ['ALQ', 'BLQ', 'GLQ', 'LwQ', 'Rec', 'Unf']"
      ]
     },
     "execution_count": 21,
     "metadata": {},
     "output_type": "execute_result"
    }
   ],
   "source": [
    "df['BsmtFinType1'].mode()"
   ]
  },
  {
   "cell_type": "markdown",
   "id": "b6560d46",
   "metadata": {},
   "source": [
    "- **Replace Null values**"
   ]
  },
  {
   "cell_type": "markdown",
   "id": "e341c080",
   "metadata": {},
   "source": [
    "-\n",
    "    - Replace with Mode for categorical columns"
   ]
  },
  {
   "cell_type": "code",
   "execution_count": 37,
   "id": "c7e8ebbe",
   "metadata": {},
   "outputs": [
    {
     "data": {
      "text/plain": [
       "<Axes: xlabel='MSZoning', ylabel='count'>"
      ]
     },
     "execution_count": 37,
     "metadata": {},
     "output_type": "execute_result"
    },
    {
     "data": {
      "image/png": "[encoded data removed]",
      "text/plain": [
       "<Figure size 640x480 with 4 Axes>"
      ]
     },
     "metadata": {},
     "output_type": "display_data"
    }
   ],
   "source": [
    "fig,ax=plt.subplots(2,2)\n",
    "sns.countplot(data=df,x='MSZoning',ax=ax[0,0])"
   ]
  },
  {
   "cell_type": "code",
   "execution_count": 39,
   "id": "4a7cb8d3",
   "metadata": {},
   "outputs": [
    {
     "data": {
      "text/plain": [
       "\u001b[1;31mSignature:\u001b[0m \u001b[0mplt\u001b[0m\u001b[1;33m.\u001b[0m\u001b[0msubplot\u001b[0m\u001b[1;33m(\u001b[0m\u001b[1;33m*\u001b[0m\u001b[0margs\u001b[0m\u001b[1;33m,\u001b[0m \u001b[1;33m**\u001b[0m\u001b[0mkwargs\u001b[0m\u001b[1;33m)\u001b[0m \u001b[1;33m->\u001b[0m \u001b[1;34m'Axes'\u001b[0m\u001b[1;33m\u001b[0m\u001b[1;33m\u001b[0m\u001b[0m\n",
       "\u001b[1;31mDocstring:\u001b[0m\n",
       "Add an Axes to the current figure or retrieve an existing Axes.\n",
       "\n",
       "This is a wrapper of `.Figure.add_subplot` which provides additional\n",
       "behavior when working with the implicit API (see the notes section).\n",
       "\n",
       "Call signatures::\n",
       "\n",
       "   subplot(nrows, ncols, index, **kwargs)\n",
       "   subplot(pos, **kwargs)\n",
       "   subplot(**kwargs)\n",
       "   subplot(ax)\n",
       "\n",
       "Parameters\n",
       "----------\n",
       "*args : int, (int, int, *index*), or `.SubplotSpec`, default: (1, 1, 1)\n",
       "    The position of the subplot described by one of\n",
       "\n",
       "    - Three integers (*nrows*, *ncols*, *index*). The subplot will take the\n",
       "      *index* position on a grid with *nrows* rows and *ncols* columns.\n",
       "      *index* starts at 1 in the upper left corner and increases to the\n",
       "      right. *index* can also be a two-tuple specifying the (*first*,\n",
       "      *last*) indices (1-based, and including *last*) of the subplot, e.g.,\n",
       "      ``fig.add_subplot(3, 1, (1, 2))`` makes a subplot that spans the\n",
       "      upper 2/3 of the figure.\n",
       "    - A 3-digit integer. The digits are interpreted as if given separately\n",
       "      as three single-digit integers, i.e. ``fig.add_subplot(235)`` is the\n",
       "      same as ``fig.add_subplot(2, 3, 5)``. Note that this can only be used\n",
       "      if there are no more than 9 subplots.\n",
       "    - A `.SubplotSpec`.\n",
       "\n",
       "projection : {None, 'aitoff', 'hammer', 'lambert', 'mollweide', 'polar', 'rectilinear', str}, optional\n",
       "    The projection type of the subplot (`~.axes.Axes`). *str* is the name\n",
       "    of a custom projection, see `~matplotlib.projections`. The default\n",
       "    None results in a 'rectilinear' projection.\n",
       "\n",
       "polar : bool, default: False\n",
       "    If True, equivalent to projection='polar'.\n",
       "\n",
       "sharex, sharey : `~matplotlib.axes.Axes`, optional\n",
       "    Share the x or y `~matplotlib.axis` with sharex and/or sharey. The\n",
       "    axis will have the same limits, ticks, and scale as the axis of the\n",
       "    shared Axes.\n",
       "\n",
       "label : str\n",
       "    A label for the returned Axes.\n",
       "\n",
       "Returns\n",
       "-------\n",
       "`~.axes.Axes`\n",
       "\n",
       "    The Axes of the subplot. The returned Axes can actually be an instance\n",
       "    of a subclass, such as `.projections.polar.PolarAxes` for polar\n",
       "    projections.\n",
       "\n",
       "Other Parameters\n",
       "----------------\n",
       "**kwargs\n",
       "    This method also takes the keyword arguments for the returned Axes\n",
       "    base class; except for the *figure* argument. The keyword arguments\n",
       "    for the rectilinear base class `~.axes.Axes` can be found in\n",
       "    the following table but there might also be other keyword\n",
       "    arguments if another projection is used.\n",
       "\n",
       "    Properties:\n",
       "    adjustable: {'box', 'datalim'}\n",
       "    agg_filter: a filter function, which takes a (m, n, 3) float array and a dpi value, and returns a (m, n, 3) array and two offsets from the bottom left corner of the image\n",
       "    alpha: scalar or None\n",
       "    anchor: (float, float) or {'C', 'SW', 'S', 'SE', 'E', 'NE', ...}\n",
       "    animated: bool\n",
       "    aspect: {'auto', 'equal'} or float\n",
       "    autoscale_on: bool\n",
       "    autoscalex_on: unknown\n",
       "    autoscaley_on: unknown\n",
       "    axes_locator: Callable[[Axes, Renderer], Bbox]\n",
       "    axisbelow: bool or 'line'\n",
       "    box_aspect: float or None\n",
       "    clip_box: `~matplotlib.transforms.BboxBase` or None\n",
       "    clip_on: bool\n",
       "    clip_path: Patch or (Path, Transform) or None\n",
       "    facecolor or fc: :mpltype:`color`\n",
       "    figure: `~matplotlib.figure.Figure`\n",
       "    forward_navigation_events: bool or \"auto\"\n",
       "    frame_on: bool\n",
       "    gid: str\n",
       "    in_layout: bool\n",
       "    label: object\n",
       "    mouseover: bool\n",
       "    navigate: bool\n",
       "    navigate_mode: unknown\n",
       "    path_effects: list of `.AbstractPathEffect`\n",
       "    picker: None or bool or float or callable\n",
       "    position: [left, bottom, width, height] or `~matplotlib.transforms.Bbox`\n",
       "    prop_cycle: `~cycler.Cycler`\n",
       "    rasterization_zorder: float or None\n",
       "    rasterized: bool\n",
       "    sketch_params: (scale: float, length: float, randomness: float)\n",
       "    snap: bool or None\n",
       "    subplotspec: unknown\n",
       "    title: str\n",
       "    transform: `~matplotlib.transforms.Transform`\n",
       "    url: str\n",
       "    visible: bool\n",
       "    xbound: (lower: float, upper: float)\n",
       "    xlabel: str\n",
       "    xlim: (left: float, right: float)\n",
       "    xmargin: float greater than -0.5\n",
       "    xscale: unknown\n",
       "    xticklabels: unknown\n",
       "    xticks: unknown\n",
       "    ybound: (lower: float, upper: float)\n",
       "    ylabel: str\n",
       "    ylim: (bottom: float, top: float)\n",
       "    ymargin: float greater than -0.5\n",
       "    yscale: unknown\n",
       "    yticklabels: unknown\n",
       "    yticks: unknown\n",
       "    zorder: float\n",
       "\n",
       "Notes\n",
       "-----\n",
       "Creating a new Axes will delete any preexisting Axes that\n",
       "overlaps with it beyond sharing a boundary::\n",
       "\n",
       "    import matplotlib.pyplot as plt\n",
       "    # plot a line, implicitly creating a subplot(111)\n",
       "    plt.plot([1, 2, 3])\n",
       "    # now create a subplot which represents the top plot of a grid\n",
       "    # with 2 rows and 1 column. Since this subplot will overlap the\n",
       "    # first, the plot (and its Axes) previously created, will be removed\n",
       "    plt.subplot(211)\n",
       "\n",
       "If you do not want this behavior, use the `.Figure.add_subplot` method\n",
       "or the `.pyplot.axes` function instead.\n",
       "\n",
       "If no *kwargs* are passed and there exists an Axes in the location\n",
       "specified by *args* then that Axes will be returned rather than a new\n",
       "Axes being created.\n",
       "\n",
       "If *kwargs* are passed and there exists an Axes in the location\n",
       "specified by *args*, the projection type is the same, and the\n",
       "*kwargs* match with the existing Axes, then the existing Axes is\n",
       "returned.  Otherwise a new Axes is created with the specified\n",
       "parameters.  We save a reference to the *kwargs* which we use\n",
       "for this comparison.  If any of the values in *kwargs* are\n",
       "mutable we will not detect the case where they are mutated.\n",
       "In these cases we suggest using `.Figure.add_subplot` and the\n",
       "explicit Axes API rather than the implicit pyplot API.\n",
       "\n",
       "See Also\n",
       "--------\n",
       ".Figure.add_subplot\n",
       ".pyplot.subplots\n",
       ".pyplot.axes\n",
       ".Figure.subplots\n",
       "\n",
       "Examples\n",
       "--------\n",
       "::\n",
       "\n",
       "    plt.subplot(221)\n",
       "\n",
       "    # equivalent but more general\n",
       "    ax1 = plt.subplot(2, 2, 1)\n",
       "\n",
       "    # add a subplot with no frame\n",
       "    ax2 = plt.subplot(222, frameon=False)\n",
       "\n",
       "    # add a polar subplot\n",
       "    plt.subplot(223, projection='polar')\n",
       "\n",
       "    # add a red subplot that shares the x-axis with ax1\n",
       "    plt.subplot(224, sharex=ax1, facecolor='red')\n",
       "\n",
       "    # delete ax2 from the figure\n",
       "    plt.delaxes(ax2)\n",
       "\n",
       "    # add ax2 to the figure again\n",
       "    plt.subplot(ax2)\n",
       "\n",
       "    # make the first Axes \"current\" again\n",
       "    plt.subplot(221)\n",
       "\u001b[1;31mSource:\u001b[0m   \n",
       "\u001b[1;33m@\u001b[0m\u001b[0m_docstring\u001b[0m\u001b[1;33m.\u001b[0m\u001b[0mdedent_interpd\u001b[0m\u001b[1;33m\n",
       "\u001b[0m\u001b[1;32mdef\u001b[0m \u001b[0msubplot\u001b[0m\u001b[1;33m(\u001b[0m\u001b[1;33m*\u001b[0m\u001b[0margs\u001b[0m\u001b[1;33m,\u001b[0m \u001b[1;33m**\u001b[0m\u001b[0mkwargs\u001b[0m\u001b[1;33m)\u001b[0m \u001b[1;33m->\u001b[0m \u001b[0mAxes\u001b[0m\u001b[1;33m:\u001b[0m\u001b[1;33m\n",
       "\u001b[0m    \u001b[1;34m\"\"\"\n",
       "    Add an Axes to the current figure or retrieve an existing Axes.\n",
       "\n",
       "    This is a wrapper of `.Figure.add_subplot` which provides additional\n",
       "    behavior when working with the implicit API (see the notes section).\n",
       "\n",
       "    Call signatures::\n",
       "\n",
       "       subplot(nrows, ncols, index, **kwargs)\n",
       "       subplot(pos, **kwargs)\n",
       "       subplot(**kwargs)\n",
       "       subplot(ax)\n",
       "\n",
       "    Parameters\n",
       "    ----------\n",
       "    *args : int, (int, int, *index*), or `.SubplotSpec`, default: (1, 1, 1)\n",
       "        The position of the subplot described by one of\n",
       "\n",
       "        - Three integers (*nrows*, *ncols*, *index*). The subplot will take the\n",
       "          *index* position on a grid with *nrows* rows and *ncols* columns.\n",
       "          *index* starts at 1 in the upper left corner and increases to the\n",
       "          right. *index* can also be a two-tuple specifying the (*first*,\n",
       "          *last*) indices (1-based, and including *last*) of the subplot, e.g.,\n",
       "          ``fig.add_subplot(3, 1, (1, 2))`` makes a subplot that spans the\n",
       "          upper 2/3 of the figure.\n",
       "        - A 3-digit integer. The digits are interpreted as if given separately\n",
       "          as three single-digit integers, i.e. ``fig.add_subplot(235)`` is the\n",
       "          same as ``fig.add_subplot(2, 3, 5)``. Note that this can only be used\n",
       "          if there are no more than 9 subplots.\n",
       "        - A `.SubplotSpec`.\n",
       "\n",
       "    projection : {None, 'aitoff', 'hammer', 'lambert', 'mollweide', \\\n",
       "'polar', 'rectilinear', str}, optional\n",
       "        The projection type of the subplot (`~.axes.Axes`). *str* is the name\n",
       "        of a custom projection, see `~matplotlib.projections`. The default\n",
       "        None results in a 'rectilinear' projection.\n",
       "\n",
       "    polar : bool, default: False\n",
       "        If True, equivalent to projection='polar'.\n",
       "\n",
       "    sharex, sharey : `~matplotlib.axes.Axes`, optional\n",
       "        Share the x or y `~matplotlib.axis` with sharex and/or sharey. The\n",
       "        axis will have the same limits, ticks, and scale as the axis of the\n",
       "        shared Axes.\n",
       "\n",
       "    label : str\n",
       "        A label for the returned Axes.\n",
       "\n",
       "    Returns\n",
       "    -------\n",
       "    `~.axes.Axes`\n",
       "\n",
       "        The Axes of the subplot. The returned Axes can actually be an instance\n",
       "        of a subclass, such as `.projections.polar.PolarAxes` for polar\n",
       "        projections.\n",
       "\n",
       "    Other Parameters\n",
       "    ----------------\n",
       "    **kwargs\n",
       "        This method also takes the keyword arguments for the returned Axes\n",
       "        base class; except for the *figure* argument. The keyword arguments\n",
       "        for the rectilinear base class `~.axes.Axes` can be found in\n",
       "        the following table but there might also be other keyword\n",
       "        arguments if another projection is used.\n",
       "\n",
       "        %(Axes:kwdoc)s\n",
       "\n",
       "    Notes\n",
       "    -----\n",
       "    Creating a new Axes will delete any preexisting Axes that\n",
       "    overlaps with it beyond sharing a boundary::\n",
       "\n",
       "        import matplotlib.pyplot as plt\n",
       "        # plot a line, implicitly creating a subplot(111)\n",
       "        plt.plot([1, 2, 3])\n",
       "        # now create a subplot which represents the top plot of a grid\n",
       "        # with 2 rows and 1 column. Since this subplot will overlap the\n",
       "        # first, the plot (and its Axes) previously created, will be removed\n",
       "        plt.subplot(211)\n",
       "\n",
       "    If you do not want this behavior, use the `.Figure.add_subplot` method\n",
       "    or the `.pyplot.axes` function instead.\n",
       "\n",
       "    If no *kwargs* are passed and there exists an Axes in the location\n",
       "    specified by *args* then that Axes will be returned rather than a new\n",
       "    Axes being created.\n",
       "\n",
       "    If *kwargs* are passed and there exists an Axes in the location\n",
       "    specified by *args*, the projection type is the same, and the\n",
       "    *kwargs* match with the existing Axes, then the existing Axes is\n",
       "    returned.  Otherwise a new Axes is created with the specified\n",
       "    parameters.  We save a reference to the *kwargs* which we use\n",
       "    for this comparison.  If any of the values in *kwargs* are\n",
       "    mutable we will not detect the case where they are mutated.\n",
       "    In these cases we suggest using `.Figure.add_subplot` and the\n",
       "    explicit Axes API rather than the implicit pyplot API.\n",
       "\n",
       "    See Also\n",
       "    --------\n",
       "    .Figure.add_subplot\n",
       "    .pyplot.subplots\n",
       "    .pyplot.axes\n",
       "    .Figure.subplots\n",
       "\n",
       "    Examples\n",
       "    --------\n",
       "    ::\n",
       "\n",
       "        plt.subplot(221)\n",
       "\n",
       "        # equivalent but more general\n",
       "        ax1 = plt.subplot(2, 2, 1)\n",
       "\n",
       "        # add a subplot with no frame\n",
       "        ax2 = plt.subplot(222, frameon=False)\n",
       "\n",
       "        # add a polar subplot\n",
       "        plt.subplot(223, projection='polar')\n",
       "\n",
       "        # add a red subplot that shares the x-axis with ax1\n",
       "        plt.subplot(224, sharex=ax1, facecolor='red')\n",
       "\n",
       "        # delete ax2 from the figure\n",
       "        plt.delaxes(ax2)\n",
       "\n",
       "        # add ax2 to the figure again\n",
       "        plt.subplot(ax2)\n",
       "\n",
       "        # make the first Axes \"current\" again\n",
       "        plt.subplot(221)\n",
       "\n",
       "    \"\"\"\u001b[0m\u001b[1;33m\n",
       "\u001b[0m    \u001b[1;31m# Here we will only normalize `polar=True` vs `projection='polar'` and let\u001b[0m\u001b[1;33m\n",
       "\u001b[0m    \u001b[1;31m# downstream code deal with the rest.\u001b[0m\u001b[1;33m\n",
       "\u001b[0m    \u001b[0munset\u001b[0m \u001b[1;33m=\u001b[0m \u001b[0mobject\u001b[0m\u001b[1;33m(\u001b[0m\u001b[1;33m)\u001b[0m\u001b[1;33m\n",
       "\u001b[0m    \u001b[0mprojection\u001b[0m \u001b[1;33m=\u001b[0m \u001b[0mkwargs\u001b[0m\u001b[1;33m.\u001b[0m\u001b[0mget\u001b[0m\u001b[1;33m(\u001b[0m\u001b[1;34m'projection'\u001b[0m\u001b[1;33m,\u001b[0m \u001b[0munset\u001b[0m\u001b[1;33m)\u001b[0m\u001b[1;33m\n",
       "\u001b[0m    \u001b[0mpolar\u001b[0m \u001b[1;33m=\u001b[0m \u001b[0mkwargs\u001b[0m\u001b[1;33m.\u001b[0m\u001b[0mpop\u001b[0m\u001b[1;33m(\u001b[0m\u001b[1;34m'polar'\u001b[0m\u001b[1;33m,\u001b[0m \u001b[0munset\u001b[0m\u001b[1;33m)\u001b[0m\u001b[1;33m\n",
       "\u001b[0m    \u001b[1;32mif\u001b[0m \u001b[0mpolar\u001b[0m \u001b[1;32mis\u001b[0m \u001b[1;32mnot\u001b[0m \u001b[0munset\u001b[0m \u001b[1;32mand\u001b[0m \u001b[0mpolar\u001b[0m\u001b[1;33m:\u001b[0m\u001b[1;33m\n",
       "\u001b[0m        \u001b[1;31m# if we got mixed messages from the user, raise\u001b[0m\u001b[1;33m\n",
       "\u001b[0m        \u001b[1;32mif\u001b[0m \u001b[0mprojection\u001b[0m \u001b[1;32mis\u001b[0m \u001b[1;32mnot\u001b[0m \u001b[0munset\u001b[0m \u001b[1;32mand\u001b[0m \u001b[0mprojection\u001b[0m \u001b[1;33m!=\u001b[0m \u001b[1;34m'polar'\u001b[0m\u001b[1;33m:\u001b[0m\u001b[1;33m\n",
       "\u001b[0m            \u001b[1;32mraise\u001b[0m \u001b[0mValueError\u001b[0m\u001b[1;33m(\u001b[0m\u001b[1;33m\n",
       "\u001b[0m                \u001b[1;34mf\"polar={polar}, yet projection={projection!r}. \"\u001b[0m\u001b[1;33m\n",
       "\u001b[0m                \u001b[1;34m\"Only one of these arguments should be supplied.\"\u001b[0m\u001b[1;33m\n",
       "\u001b[0m            \u001b[1;33m)\u001b[0m\u001b[1;33m\n",
       "\u001b[0m        \u001b[0mkwargs\u001b[0m\u001b[1;33m[\u001b[0m\u001b[1;34m'projection'\u001b[0m\u001b[1;33m]\u001b[0m \u001b[1;33m=\u001b[0m \u001b[0mprojection\u001b[0m \u001b[1;33m=\u001b[0m \u001b[1;34m'polar'\u001b[0m\u001b[1;33m\n",
       "\u001b[0m\u001b[1;33m\n",
       "\u001b[0m    \u001b[1;31m# if subplot called without arguments, create subplot(1, 1, 1)\u001b[0m\u001b[1;33m\n",
       "\u001b[0m    \u001b[1;32mif\u001b[0m \u001b[0mlen\u001b[0m\u001b[1;33m(\u001b[0m\u001b[0margs\u001b[0m\u001b[1;33m)\u001b[0m \u001b[1;33m==\u001b[0m \u001b[1;36m0\u001b[0m\u001b[1;33m:\u001b[0m\u001b[1;33m\n",
       "\u001b[0m        \u001b[0margs\u001b[0m \u001b[1;33m=\u001b[0m \u001b[1;33m(\u001b[0m\u001b[1;36m1\u001b[0m\u001b[1;33m,\u001b[0m \u001b[1;36m1\u001b[0m\u001b[1;33m,\u001b[0m \u001b[1;36m1\u001b[0m\u001b[1;33m)\u001b[0m\u001b[1;33m\n",
       "\u001b[0m\u001b[1;33m\n",
       "\u001b[0m    \u001b[1;31m# This check was added because it is very easy to type subplot(1, 2, False)\u001b[0m\u001b[1;33m\n",
       "\u001b[0m    \u001b[1;31m# when subplots(1, 2, False) was intended (sharex=False, that is). In most\u001b[0m\u001b[1;33m\n",
       "\u001b[0m    \u001b[1;31m# cases, no error will ever occur, but mysterious behavior can result\u001b[0m\u001b[1;33m\n",
       "\u001b[0m    \u001b[1;31m# because what was intended to be the sharex argument is instead treated as\u001b[0m\u001b[1;33m\n",
       "\u001b[0m    \u001b[1;31m# a subplot index for subplot()\u001b[0m\u001b[1;33m\n",
       "\u001b[0m    \u001b[1;32mif\u001b[0m \u001b[0mlen\u001b[0m\u001b[1;33m(\u001b[0m\u001b[0margs\u001b[0m\u001b[1;33m)\u001b[0m \u001b[1;33m>=\u001b[0m \u001b[1;36m3\u001b[0m \u001b[1;32mand\u001b[0m \u001b[0misinstance\u001b[0m\u001b[1;33m(\u001b[0m\u001b[0margs\u001b[0m\u001b[1;33m[\u001b[0m\u001b[1;36m2\u001b[0m\u001b[1;33m]\u001b[0m\u001b[1;33m,\u001b[0m \u001b[0mbool\u001b[0m\u001b[1;33m)\u001b[0m\u001b[1;33m:\u001b[0m\u001b[1;33m\n",
       "\u001b[0m        \u001b[0m_api\u001b[0m\u001b[1;33m.\u001b[0m\u001b[0mwarn_external\u001b[0m\u001b[1;33m(\u001b[0m\u001b[1;34m\"The subplot index argument to subplot() appears \"\u001b[0m\u001b[1;33m\n",
       "\u001b[0m                           \u001b[1;34m\"to be a boolean. Did you intend to use \"\u001b[0m\u001b[1;33m\n",
       "\u001b[0m                           \u001b[1;34m\"subplots()?\"\u001b[0m\u001b[1;33m)\u001b[0m\u001b[1;33m\n",
       "\u001b[0m    \u001b[1;31m# Check for nrows and ncols, which are not valid subplot args:\u001b[0m\u001b[1;33m\n",
       "\u001b[0m    \u001b[1;32mif\u001b[0m \u001b[1;34m'nrows'\u001b[0m \u001b[1;32min\u001b[0m \u001b[0mkwargs\u001b[0m \u001b[1;32mor\u001b[0m \u001b[1;34m'ncols'\u001b[0m \u001b[1;32min\u001b[0m \u001b[0mkwargs\u001b[0m\u001b[1;33m:\u001b[0m\u001b[1;33m\n",
       "\u001b[0m        \u001b[1;32mraise\u001b[0m \u001b[0mTypeError\u001b[0m\u001b[1;33m(\u001b[0m\u001b[1;34m\"subplot() got an unexpected keyword argument 'ncols' \"\u001b[0m\u001b[1;33m\n",
       "\u001b[0m                        \u001b[1;34m\"and/or 'nrows'.  Did you intend to call subplots()?\"\u001b[0m\u001b[1;33m)\u001b[0m\u001b[1;33m\n",
       "\u001b[0m\u001b[1;33m\n",
       "\u001b[0m    \u001b[0mfig\u001b[0m \u001b[1;33m=\u001b[0m \u001b[0mgcf\u001b[0m\u001b[1;33m(\u001b[0m\u001b[1;33m)\u001b[0m\u001b[1;33m\n",
       "\u001b[0m\u001b[1;33m\n",
       "\u001b[0m    \u001b[1;31m# First, search for an existing subplot with a matching spec.\u001b[0m\u001b[1;33m\n",
       "\u001b[0m    \u001b[0mkey\u001b[0m \u001b[1;33m=\u001b[0m \u001b[0mSubplotSpec\u001b[0m\u001b[1;33m.\u001b[0m\u001b[0m_from_subplot_args\u001b[0m\u001b[1;33m(\u001b[0m\u001b[0mfig\u001b[0m\u001b[1;33m,\u001b[0m \u001b[0margs\u001b[0m\u001b[1;33m)\u001b[0m\u001b[1;33m\n",
       "\u001b[0m\u001b[1;33m\n",
       "\u001b[0m    \u001b[1;32mfor\u001b[0m \u001b[0max\u001b[0m \u001b[1;32min\u001b[0m \u001b[0mfig\u001b[0m\u001b[1;33m.\u001b[0m\u001b[0maxes\u001b[0m\u001b[1;33m:\u001b[0m\u001b[1;33m\n",
       "\u001b[0m        \u001b[1;31m# If we found an Axes at the position, we can reuse it if the user passed no\u001b[0m\u001b[1;33m\n",
       "\u001b[0m        \u001b[1;31m# kwargs or if the Axes class and kwargs are identical.\u001b[0m\u001b[1;33m\n",
       "\u001b[0m        \u001b[1;32mif\u001b[0m \u001b[1;33m(\u001b[0m\u001b[0max\u001b[0m\u001b[1;33m.\u001b[0m\u001b[0mget_subplotspec\u001b[0m\u001b[1;33m(\u001b[0m\u001b[1;33m)\u001b[0m \u001b[1;33m==\u001b[0m \u001b[0mkey\u001b[0m\u001b[1;33m\n",
       "\u001b[0m            \u001b[1;32mand\u001b[0m \u001b[1;33m(\u001b[0m\u001b[0mkwargs\u001b[0m \u001b[1;33m==\u001b[0m \u001b[1;33m{\u001b[0m\u001b[1;33m}\u001b[0m\u001b[1;33m\n",
       "\u001b[0m                 \u001b[1;32mor\u001b[0m \u001b[1;33m(\u001b[0m\u001b[0max\u001b[0m\u001b[1;33m.\u001b[0m\u001b[0m_projection_init\u001b[0m\u001b[1;33m\n",
       "\u001b[0m                     \u001b[1;33m==\u001b[0m \u001b[0mfig\u001b[0m\u001b[1;33m.\u001b[0m\u001b[0m_process_projection_requirements\u001b[0m\u001b[1;33m(\u001b[0m\u001b[1;33m**\u001b[0m\u001b[0mkwargs\u001b[0m\u001b[1;33m)\u001b[0m\u001b[1;33m)\u001b[0m\u001b[1;33m)\u001b[0m\u001b[1;33m)\u001b[0m\u001b[1;33m:\u001b[0m\u001b[1;33m\n",
       "\u001b[0m            \u001b[1;32mbreak\u001b[0m\u001b[1;33m\n",
       "\u001b[0m    \u001b[1;32melse\u001b[0m\u001b[1;33m:\u001b[0m\u001b[1;33m\n",
       "\u001b[0m        \u001b[1;31m# we have exhausted the known Axes and none match, make a new one!\u001b[0m\u001b[1;33m\n",
       "\u001b[0m        \u001b[0max\u001b[0m \u001b[1;33m=\u001b[0m \u001b[0mfig\u001b[0m\u001b[1;33m.\u001b[0m\u001b[0madd_subplot\u001b[0m\u001b[1;33m(\u001b[0m\u001b[1;33m*\u001b[0m\u001b[0margs\u001b[0m\u001b[1;33m,\u001b[0m \u001b[1;33m**\u001b[0m\u001b[0mkwargs\u001b[0m\u001b[1;33m)\u001b[0m\u001b[1;33m\n",
       "\u001b[0m\u001b[1;33m\n",
       "\u001b[0m    \u001b[0mfig\u001b[0m\u001b[1;33m.\u001b[0m\u001b[0msca\u001b[0m\u001b[1;33m(\u001b[0m\u001b[0max\u001b[0m\u001b[1;33m)\u001b[0m\u001b[1;33m\n",
       "\u001b[0m\u001b[1;33m\n",
       "\u001b[0m    \u001b[1;32mreturn\u001b[0m \u001b[0max\u001b[0m\u001b[1;33m\u001b[0m\u001b[1;33m\u001b[0m\u001b[0m\n",
       "\u001b[1;31mFile:\u001b[0m      c:\\users\\mohammed\\trials_with_ml\\handson\\lib\\site-packages\\matplotlib\\pyplot.py\n",
       "\u001b[1;31mType:\u001b[0m      function"
      ]
     },
     "metadata": {},
     "output_type": "display_data"
    }
   ],
   "source": [
    "# plt.subplot??\n"
   ]
  },
  {
   "cell_type": "markdown",
   "id": "840c41f5",
   "metadata": {},
   "source": [
    "-\n",
    "    - Replace with Median for numerical columns(due to distribution skewness)"
   ]
  },
  {
   "cell_type": "code",
   "execution_count": 40,
   "id": "be17986a",
   "metadata": {},
   "outputs": [
    {
     "data": {
      "text/plain": [
       "<Figure size 1000x900 with 0 Axes>"
      ]
     },
     "execution_count": 40,
     "metadata": {},
     "output_type": "execute_result"
    },
    {
     "data": {
      "text/plain": [
       "<Figure size 1000x900 with 0 Axes>"
      ]
     },
     "metadata": {},
     "output_type": "display_data"
    }
   ],
   "source": []
  },
  {
   "cell_type": "code",
   "execution_count": 77,
   "id": "6ec9d838",
   "metadata": {},
   "outputs": [
    {
     "data": {
      "image/png": "[encoded data removed]",
      "text/plain": [
       "<Figure size 1000x900 with 36 Axes>"
      ]
     },
     "metadata": {},
     "output_type": "display_data"
    }
   ],
   "source": [
    "num_cols = df.select_dtypes(\"number\").columns.tolist()\n",
    "plt.figure(figsize=(10, 9))\n",
    "for i, col in enumerate(num_cols[:-1]):\n",
    "    plt.subplot(6, 7, i+1)\n",
    "    plt.title(col)\n",
    "    sns.boxplot(df[col], orient=\"h\")\n",
    "plt.subplots_adjust(wspace=.8, hspace=.8)\n",
    "plt.show()"
   ]
  },
  {
   "cell_type": "code",
   "execution_count": 78,
   "id": "604d6a26",
   "metadata": {},
   "outputs": [
    {
     "data": {
      "image/png": "[encoded data removed]",
      "text/plain": [
       "<Figure size 640x480 with 40 Axes>"
      ]
     },
     "metadata": {},
     "output_type": "display_data"
    }
   ],
   "source": [
    "fig,ax=plt.subplots(5,8)"
   ]
  },
  {
   "cell_type": "markdown",
   "id": "58fb8e62",
   "metadata": {},
   "source": [
    "- **Drop columns with high Null Ratio**"
   ]
  },
  {
   "cell_type": "code",
   "execution_count": 75,
   "id": "998f2977",
   "metadata": {},
   "outputs": [
    {
     "data": {
      "text/plain": [
       "37"
      ]
     },
     "execution_count": 75,
     "metadata": {},
     "output_type": "execute_result"
    }
   ],
   "source": [
    "len(num_cols)"
   ]
  },
  {
   "cell_type": "markdown",
   "id": "89df70bd",
   "metadata": {},
   "source": [
    "- **Check for Null Values after handing Null values**"
   ]
  },
  {
   "cell_type": "code",
   "execution_count": null,
   "id": "0b5ac7e4",
   "metadata": {
    "scrolled": true
   },
   "outputs": [],
   "source": []
  },
  {
   "cell_type": "markdown",
   "id": "36cd6f22",
   "metadata": {},
   "source": [
    "### 4. Handle Outliers"
   ]
  },
  {
   "cell_type": "markdown",
   "id": "faa8b13f",
   "metadata": {},
   "source": [
    "- **Numerical columns**"
   ]
  },
  {
   "cell_type": "code",
   "execution_count": null,
   "id": "d6341368",
   "metadata": {},
   "outputs": [],
   "source": []
  },
  {
   "cell_type": "code",
   "execution_count": null,
   "id": "64f6d61c",
   "metadata": {},
   "outputs": [],
   "source": []
  },
  {
   "cell_type": "code",
   "execution_count": null,
   "id": "d989d776",
   "metadata": {},
   "outputs": [],
   "source": []
  },
  {
   "cell_type": "markdown",
   "id": "7bd03aeb",
   "metadata": {},
   "source": [
    "- **Categorical columns**\n",
    "    - replace the outlier categories (which are categories that rarely occur) with the mode."
   ]
  },
  {
   "cell_type": "code",
   "execution_count": null,
   "id": "e3dabcd2",
   "metadata": {},
   "outputs": [],
   "source": []
  },
  {
   "cell_type": "markdown",
   "id": "cf4133dd",
   "metadata": {},
   "source": [
    "### 5. Visualization"
   ]
  },
  {
   "cell_type": "code",
   "execution_count": null,
   "id": "14c37c3a",
   "metadata": {},
   "outputs": [],
   "source": []
  },
  {
   "cell_type": "code",
   "execution_count": null,
   "id": "fdbde65b",
   "metadata": {
    "scrolled": true
   },
   "outputs": [],
   "source": []
  },
  {
   "cell_type": "code",
   "execution_count": null,
   "id": "1a9fd4ac",
   "metadata": {},
   "outputs": [],
   "source": []
  },
  {
   "cell_type": "code",
   "execution_count": null,
   "id": "ece0df43",
   "metadata": {
    "scrolled": true
   },
   "outputs": [],
   "source": []
  },
  {
   "cell_type": "code",
   "execution_count": null,
   "id": "a6d2976d",
   "metadata": {},
   "outputs": [],
   "source": []
  },
  {
   "cell_type": "markdown",
   "id": "8d3e05b4",
   "metadata": {},
   "source": [
    "**Drop columns with low variance**"
   ]
  },
  {
   "cell_type": "code",
   "execution_count": null,
   "id": "dbfc3036",
   "metadata": {},
   "outputs": [],
   "source": []
  },
  {
   "cell_type": "markdown",
   "id": "564ca699",
   "metadata": {},
   "source": [
    "### 6. Remove Duplicates"
   ]
  },
  {
   "cell_type": "code",
   "execution_count": null,
   "id": "1372e04c",
   "metadata": {},
   "outputs": [],
   "source": []
  },
  {
   "cell_type": "markdown",
   "id": "4258209b",
   "metadata": {},
   "source": [
    "### 7. Data Splitting"
   ]
  },
  {
   "cell_type": "code",
   "execution_count": null,
   "id": "05bdb971",
   "metadata": {},
   "outputs": [],
   "source": []
  },
  {
   "cell_type": "markdown",
   "id": "ad10aee0",
   "metadata": {},
   "source": [
    "### 8. Normalization"
   ]
  },
  {
   "cell_type": "code",
   "execution_count": null,
   "id": "88abe6ec",
   "metadata": {},
   "outputs": [],
   "source": []
  },
  {
   "cell_type": "code",
   "execution_count": null,
   "id": "db13fcd6",
   "metadata": {},
   "outputs": [],
   "source": []
  },
  {
   "cell_type": "markdown",
   "id": "6dc1d7da",
   "metadata": {},
   "source": [
    "### 9. Encoding"
   ]
  },
  {
   "cell_type": "markdown",
   "id": "fd261361",
   "metadata": {},
   "source": [
    "- **Nominal/Ordinal filtering**"
   ]
  },
  {
   "cell_type": "code",
   "execution_count": null,
   "id": "80eb5205",
   "metadata": {
    "scrolled": true
   },
   "outputs": [],
   "source": []
  },
  {
   "cell_type": "code",
   "execution_count": null,
   "id": "30e62697",
   "metadata": {},
   "outputs": [],
   "source": []
  },
  {
   "cell_type": "code",
   "execution_count": null,
   "id": "71afe9b6",
   "metadata": {},
   "outputs": [],
   "source": []
  },
  {
   "cell_type": "markdown",
   "id": "92b7ef1a",
   "metadata": {},
   "source": [
    "- **Ordinal Encoding**"
   ]
  },
  {
   "cell_type": "code",
   "execution_count": null,
   "id": "eb6b2687",
   "metadata": {},
   "outputs": [],
   "source": []
  },
  {
   "cell_type": "code",
   "execution_count": null,
   "id": "9114d40e",
   "metadata": {},
   "outputs": [],
   "source": []
  },
  {
   "cell_type": "markdown",
   "id": "c3a075fd",
   "metadata": {},
   "source": [
    "- **Onehot Encoding**"
   ]
  },
  {
   "cell_type": "code",
   "execution_count": null,
   "id": "4d885d89",
   "metadata": {},
   "outputs": [],
   "source": []
  },
  {
   "cell_type": "code",
   "execution_count": null,
   "id": "2f6c7ca2",
   "metadata": {},
   "outputs": [],
   "source": []
  },
  {
   "cell_type": "markdown",
   "id": "c1a54770",
   "metadata": {},
   "source": [
    "- **Binary Encoding**"
   ]
  },
  {
   "cell_type": "code",
   "execution_count": null,
   "id": "80bdea16",
   "metadata": {},
   "outputs": [],
   "source": []
  },
  {
   "cell_type": "code",
   "execution_count": null,
   "id": "5f329c97",
   "metadata": {},
   "outputs": [],
   "source": []
  },
  {
   "cell_type": "code",
   "execution_count": null,
   "id": "418812d4",
   "metadata": {},
   "outputs": [],
   "source": []
  },
  {
   "cell_type": "code",
   "execution_count": null,
   "id": "a04a7f0f",
   "metadata": {},
   "outputs": [],
   "source": []
  }
 ],
 "metadata": {
  "kernelspec": {
   "display_name": "Python 3 (ipykernel)",
   "language": "python",
   "name": "python3"
  },
  "language_info": {
   "codemirror_mode": {
    "name": "ipython",
    "version": 3
   },
   "file_extension": ".py",
   "mimetype": "text/x-python",
   "name": "python",
   "nbconvert_exporter": "python",
   "pygments_lexer": "ipython3",
   "version": "3.9.0"
  }
 },
 "nbformat": 4,
 "nbformat_minor": 5
}
