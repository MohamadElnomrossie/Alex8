{
 "cells": [
  {
   "cell_type": "code",
   "execution_count": null,
   "id": "3af7dcf7",
   "metadata": {},
   "outputs": [],
   "source": [
    "# Imports"
   ]
  },
  {
   "cell_type": "markdown",
   "id": "b477e4af",
   "metadata": {},
   "source": [
    "# Preprocessing"
   ]
  },
  {
   "cell_type": "markdown",
   "id": "b1a259c6",
   "metadata": {},
   "source": [
    "### 1. Data Understanding"
   ]
  },
  {
   "cell_type": "code",
   "execution_count": null,
   "id": "e8acec00",
   "metadata": {
    "scrolled": false
   },
   "outputs": [],
   "source": []
  },
  {
   "cell_type": "code",
   "execution_count": null,
   "id": "0f835a58",
   "metadata": {},
   "outputs": [],
   "source": []
  },
  {
   "cell_type": "markdown",
   "id": "00f85685",
   "metadata": {},
   "source": [
    "### 2. Check for Dtypes"
   ]
  },
  {
   "cell_type": "code",
   "execution_count": null,
   "id": "7dc7275d",
   "metadata": {},
   "outputs": [],
   "source": []
  },
  {
   "cell_type": "code",
   "execution_count": null,
   "id": "0d3e9366",
   "metadata": {},
   "outputs": [],
   "source": []
  },
  {
   "cell_type": "markdown",
   "id": "4288602d",
   "metadata": {},
   "source": [
    "### 3. Null values"
   ]
  },
  {
   "cell_type": "markdown",
   "id": "81c7f022",
   "metadata": {},
   "source": [
    "- **Check for Null Values**"
   ]
  },
  {
   "cell_type": "code",
   "execution_count": null,
   "id": "5b567e63",
   "metadata": {
    "scrolled": true
   },
   "outputs": [],
   "source": []
  },
  {
   "cell_type": "markdown",
   "id": "a1bf52db",
   "metadata": {},
   "source": [
    "- **Drop Null values**"
   ]
  },
  {
   "cell_type": "code",
   "execution_count": null,
   "id": "92b81689",
   "metadata": {
    "scrolled": false
   },
   "outputs": [],
   "source": []
  },
  {
   "cell_type": "markdown",
   "id": "b6560d46",
   "metadata": {},
   "source": [
    "- **Replace Null values**"
   ]
  },
  {
   "cell_type": "markdown",
   "id": "e341c080",
   "metadata": {},
   "source": [
    "-\n",
    "    - Replace with Mode for categorical columns"
   ]
  },
  {
   "cell_type": "code",
   "execution_count": null,
   "id": "c7e8ebbe",
   "metadata": {},
   "outputs": [],
   "source": []
  },
  {
   "cell_type": "code",
   "execution_count": null,
   "id": "4a7cb8d3",
   "metadata": {},
   "outputs": [],
   "source": []
  },
  {
   "cell_type": "markdown",
   "id": "840c41f5",
   "metadata": {},
   "source": [
    "-\n",
    "    - Replace with Median for numerical columns(due to distribution skewness)"
   ]
  },
  {
   "cell_type": "code",
   "execution_count": null,
   "id": "be17986a",
   "metadata": {
    "scrolled": false
   },
   "outputs": [],
   "source": []
  },
  {
   "cell_type": "code",
   "execution_count": null,
   "id": "6ec9d838",
   "metadata": {},
   "outputs": [],
   "source": []
  },
  {
   "cell_type": "code",
   "execution_count": null,
   "id": "604d6a26",
   "metadata": {},
   "outputs": [],
   "source": []
  },
  {
   "cell_type": "markdown",
   "id": "58fb8e62",
   "metadata": {},
   "source": [
    "- **Drop columns with high Null Ratio**"
   ]
  },
  {
   "cell_type": "code",
   "execution_count": null,
   "id": "998f2977",
   "metadata": {},
   "outputs": [],
   "source": []
  },
  {
   "cell_type": "markdown",
   "id": "89df70bd",
   "metadata": {},
   "source": [
    "- **Check for Null Values after handing Null values**"
   ]
  },
  {
   "cell_type": "code",
   "execution_count": null,
   "id": "0b5ac7e4",
   "metadata": {
    "scrolled": true
   },
   "outputs": [],
   "source": []
  },
  {
   "cell_type": "markdown",
   "id": "36cd6f22",
   "metadata": {},
   "source": [
    "### 4. Handle Outliers"
   ]
  },
  {
   "cell_type": "markdown",
   "id": "faa8b13f",
   "metadata": {},
   "source": [
    "- **Numerical columns**"
   ]
  },
  {
   "cell_type": "code",
   "execution_count": null,
   "id": "d6341368",
   "metadata": {},
   "outputs": [],
   "source": []
  },
  {
   "cell_type": "code",
   "execution_count": null,
   "id": "64f6d61c",
   "metadata": {},
   "outputs": [],
   "source": []
  },
  {
   "cell_type": "code",
   "execution_count": null,
   "id": "d989d776",
   "metadata": {},
   "outputs": [],
   "source": []
  },
  {
   "cell_type": "markdown",
   "id": "7bd03aeb",
   "metadata": {},
   "source": [
    "- **Categorical columns**\n",
    "    - replace the outlier categories (which are categories that rarely occur) with the mode."
   ]
  },
  {
   "cell_type": "code",
   "execution_count": null,
   "id": "e3dabcd2",
   "metadata": {},
   "outputs": [],
   "source": []
  },
  {
   "cell_type": "markdown",
   "id": "cf4133dd",
   "metadata": {},
   "source": [
    "### 5. Visualization"
   ]
  },
  {
   "cell_type": "code",
   "execution_count": null,
   "id": "14c37c3a",
   "metadata": {},
   "outputs": [],
   "source": []
  },
  {
   "cell_type": "code",
   "execution_count": null,
   "id": "fdbde65b",
   "metadata": {
    "scrolled": true
   },
   "outputs": [],
   "source": []
  },
  {
   "cell_type": "code",
   "execution_count": null,
   "id": "1a9fd4ac",
   "metadata": {},
   "outputs": [],
   "source": []
  },
  {
   "cell_type": "code",
   "execution_count": null,
   "id": "ece0df43",
   "metadata": {
    "scrolled": true
   },
   "outputs": [],
   "source": []
  },
  {
   "cell_type": "code",
   "execution_count": null,
   "id": "a6d2976d",
   "metadata": {
    "scrolled": false
   },
   "outputs": [],
   "source": []
  },
  {
   "cell_type": "markdown",
   "id": "8d3e05b4",
   "metadata": {},
   "source": [
    "**Drop columns with low variance**"
   ]
  },
  {
   "cell_type": "code",
   "execution_count": null,
   "id": "dbfc3036",
   "metadata": {},
   "outputs": [],
   "source": []
  },
  {
   "cell_type": "markdown",
   "id": "564ca699",
   "metadata": {},
   "source": [
    "### 6. Remove Duplicates"
   ]
  },
  {
   "cell_type": "code",
   "execution_count": null,
   "id": "1372e04c",
   "metadata": {},
   "outputs": [],
   "source": []
  },
  {
   "cell_type": "markdown",
   "id": "4258209b",
   "metadata": {},
   "source": [
    "### 7. Data Splitting"
   ]
  },
  {
   "cell_type": "code",
   "execution_count": null,
   "id": "05bdb971",
   "metadata": {},
   "outputs": [],
   "source": []
  },
  {
   "cell_type": "markdown",
   "id": "ad10aee0",
   "metadata": {},
   "source": [
    "### 8. Normalization"
   ]
  },
  {
   "cell_type": "code",
   "execution_count": null,
   "id": "88abe6ec",
   "metadata": {},
   "outputs": [],
   "source": []
  },
  {
   "cell_type": "code",
   "execution_count": null,
   "id": "db13fcd6",
   "metadata": {},
   "outputs": [],
   "source": []
  },
  {
   "cell_type": "markdown",
   "id": "6dc1d7da",
   "metadata": {},
   "source": [
    "### 9. Encoding"
   ]
  },
  {
   "cell_type": "markdown",
   "id": "fd261361",
   "metadata": {},
   "source": [
    "- **Nominal/Ordinal filtering**"
   ]
  },
  {
   "cell_type": "code",
   "execution_count": null,
   "id": "80eb5205",
   "metadata": {
    "scrolled": true
   },
   "outputs": [],
   "source": []
  },
  {
   "cell_type": "code",
   "execution_count": null,
   "id": "30e62697",
   "metadata": {},
   "outputs": [],
   "source": []
  },
  {
   "cell_type": "code",
   "execution_count": null,
   "id": "71afe9b6",
   "metadata": {},
   "outputs": [],
   "source": []
  },
  {
   "cell_type": "markdown",
   "id": "92b7ef1a",
   "metadata": {},
   "source": [
    "- **Ordinal Encoding**"
   ]
  },
  {
   "cell_type": "code",
   "execution_count": null,
   "id": "eb6b2687",
   "metadata": {},
   "outputs": [],
   "source": []
  },
  {
   "cell_type": "code",
   "execution_count": null,
   "id": "9114d40e",
   "metadata": {},
   "outputs": [],
   "source": []
  },
  {
   "cell_type": "markdown",
   "id": "c3a075fd",
   "metadata": {},
   "source": [
    "- **Onehot Encoding**"
   ]
  },
  {
   "cell_type": "code",
   "execution_count": null,
   "id": "4d885d89",
   "metadata": {},
   "outputs": [],
   "source": []
  },
  {
   "cell_type": "code",
   "execution_count": null,
   "id": "2f6c7ca2",
   "metadata": {},
   "outputs": [],
   "source": []
  },
  {
   "cell_type": "markdown",
   "id": "c1a54770",
   "metadata": {},
   "source": [
    "- **Binary Encoding**"
   ]
  },
  {
   "cell_type": "code",
   "execution_count": null,
   "id": "80bdea16",
   "metadata": {},
   "outputs": [],
   "source": []
  },
  {
   "cell_type": "code",
   "execution_count": null,
   "id": "5f329c97",
   "metadata": {},
   "outputs": [],
   "source": []
  },
  {
   "cell_type": "code",
   "execution_count": null,
   "id": "418812d4",
   "metadata": {},
   "outputs": [],
   "source": []
  },
  {
   "cell_type": "code",
   "execution_count": null,
   "id": "a04a7f0f",
   "metadata": {},
   "outputs": [],
   "source": []
  }
 ],
 "metadata": {
  "kernelspec": {
   "display_name": "Python 3 (ipykernel)",
   "language": "python",
   "name": "python3"
  },
  "language_info": {
   "codemirror_mode": {
    "name": "ipython",
    "version": 3
   },
   "file_extension": ".py",
   "mimetype": "text/x-python",
   "name": "python",
   "nbconvert_exporter": "python",
   "pygments_lexer": "ipython3",
   "version": "3.10.9"
  }
 },
 "nbformat": 4,
 "nbformat_minor": 5
}
