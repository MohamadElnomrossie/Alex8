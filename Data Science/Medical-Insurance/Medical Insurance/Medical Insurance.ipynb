{
 "cells": [
  {
   "cell_type": "code",
   "execution_count": null,
   "id": "f6ecdb5b",
   "metadata": {},
   "outputs": [],
   "source": [
    "from warnings import filterwarnings\n",
    "filterwarnings(\"ignore\")"
   ]
  },
  {
   "cell_type": "markdown",
   "id": "57abab25",
   "metadata": {},
   "source": [
    "# 1. Data Reading & Understanding "
   ]
  },
  {
   "cell_type": "code",
   "execution_count": null,
   "id": "5ed3874a",
   "metadata": {
    "scrolled": true
   },
   "outputs": [],
   "source": []
  },
  {
   "cell_type": "markdown",
   "id": "7c232358",
   "metadata": {},
   "source": [
    "# 2. Check for Dtypes"
   ]
  },
  {
   "cell_type": "code",
   "execution_count": null,
   "id": "b4347389",
   "metadata": {},
   "outputs": [],
   "source": []
  },
  {
   "cell_type": "code",
   "execution_count": null,
   "id": "7f468582",
   "metadata": {},
   "outputs": [],
   "source": []
  },
  {
   "cell_type": "code",
   "execution_count": null,
   "id": "b3b104e2",
   "metadata": {},
   "outputs": [],
   "source": []
  },
  {
   "cell_type": "markdown",
   "id": "b8b82b19",
   "metadata": {},
   "source": [
    "# 3. Null Values"
   ]
  },
  {
   "cell_type": "code",
   "execution_count": null,
   "id": "b578968a",
   "metadata": {
    "scrolled": true
   },
   "outputs": [],
   "source": []
  },
  {
   "cell_type": "markdown",
   "id": "daa7ab2e",
   "metadata": {},
   "source": [
    "# 4. Outliers"
   ]
  },
  {
   "cell_type": "code",
   "execution_count": null,
   "id": "e9c294f5",
   "metadata": {},
   "outputs": [],
   "source": []
  },
  {
   "cell_type": "code",
   "execution_count": null,
   "id": "bd27e56a",
   "metadata": {
    "scrolled": true
   },
   "outputs": [],
   "source": []
  },
  {
   "cell_type": "code",
   "execution_count": null,
   "id": "337bb13a",
   "metadata": {
    "scrolled": true
   },
   "outputs": [],
   "source": []
  },
  {
   "cell_type": "markdown",
   "id": "a8e179c7",
   "metadata": {},
   "source": [
    "# 5. Visualization "
   ]
  },
  {
   "cell_type": "code",
   "execution_count": null,
   "id": "ee9cddf9",
   "metadata": {},
   "outputs": [],
   "source": []
  },
  {
   "cell_type": "markdown",
   "id": "0a9f29ae",
   "metadata": {},
   "source": [
    "### Check for relation between each feature & the target"
   ]
  },
  {
   "cell_type": "markdown",
   "id": "0db23560",
   "metadata": {},
   "source": []
  },
  {
   "cell_type": "code",
   "execution_count": null,
   "id": "a442ceba",
   "metadata": {},
   "outputs": [],
   "source": []
  },
  {
   "cell_type": "code",
   "execution_count": null,
   "id": "077fbc81",
   "metadata": {
    "scrolled": false
   },
   "outputs": [],
   "source": []
  },
  {
   "cell_type": "markdown",
   "id": "20527ab6",
   "metadata": {},
   "source": [
    "### Check for Variation"
   ]
  },
  {
   "cell_type": "code",
   "execution_count": null,
   "id": "f16785bb",
   "metadata": {
    "scrolled": true
   },
   "outputs": [],
   "source": []
  },
  {
   "cell_type": "code",
   "execution_count": null,
   "id": "96eee9ca",
   "metadata": {},
   "outputs": [],
   "source": []
  },
  {
   "cell_type": "markdown",
   "id": "69ebd1da",
   "metadata": {},
   "source": [
    "# 6. Duplicates"
   ]
  },
  {
   "cell_type": "code",
   "execution_count": null,
   "id": "bff0c974",
   "metadata": {},
   "outputs": [],
   "source": []
  },
  {
   "cell_type": "markdown",
   "id": "a733981c",
   "metadata": {},
   "source": [
    "# 7. Splitting Data "
   ]
  },
  {
   "cell_type": "code",
   "execution_count": null,
   "id": "b8a23198",
   "metadata": {},
   "outputs": [],
   "source": []
  },
  {
   "cell_type": "markdown",
   "id": "1ee39500",
   "metadata": {},
   "source": [
    "# 8. Normalization"
   ]
  },
  {
   "cell_type": "code",
   "execution_count": null,
   "id": "cab6a1fb",
   "metadata": {},
   "outputs": [],
   "source": []
  },
  {
   "cell_type": "code",
   "execution_count": null,
   "id": "d3d72fc2",
   "metadata": {},
   "outputs": [],
   "source": []
  },
  {
   "cell_type": "markdown",
   "id": "e040394b",
   "metadata": {},
   "source": [
    "# 9. Encoding"
   ]
  },
  {
   "cell_type": "code",
   "execution_count": null,
   "id": "a48e3ffe",
   "metadata": {
    "scrolled": true
   },
   "outputs": [],
   "source": []
  },
  {
   "cell_type": "markdown",
   "id": "77593537",
   "metadata": {},
   "source": [
    "- **Ordinal Encoding**"
   ]
  },
  {
   "cell_type": "code",
   "execution_count": null,
   "id": "0535d8dd",
   "metadata": {},
   "outputs": [],
   "source": []
  },
  {
   "cell_type": "markdown",
   "id": "11897151",
   "metadata": {},
   "source": [
    "- **One Hot Encoding**"
   ]
  },
  {
   "cell_type": "code",
   "execution_count": null,
   "id": "1861fbe4",
   "metadata": {},
   "outputs": [],
   "source": []
  },
  {
   "cell_type": "code",
   "execution_count": null,
   "id": "316522f9",
   "metadata": {},
   "outputs": [],
   "source": [
    "X"
   ]
  },
  {
   "cell_type": "code",
   "execution_count": null,
   "id": "42f04dca",
   "metadata": {},
   "outputs": [],
   "source": []
  }
 ],
 "metadata": {
  "kernelspec": {
   "display_name": "Python 3 (ipykernel)",
   "language": "python",
   "name": "python3"
  },
  "language_info": {
   "codemirror_mode": {
    "name": "ipython",
    "version": 3
   },
   "file_extension": ".py",
   "mimetype": "text/x-python",
   "name": "python",
   "nbconvert_exporter": "python",
   "pygments_lexer": "ipython3",
   "version": "3.10.9"
  }
 },
 "nbformat": 4,
 "nbformat_minor": 5
}
