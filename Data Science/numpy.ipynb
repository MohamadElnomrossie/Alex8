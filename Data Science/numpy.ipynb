{
 "cells": [
  {
   "cell_type": "code",
   "execution_count": 115,
   "id": "0c6424f1-349c-4255-a8f9-b6fe452ee6d6",
   "metadata": {},
   "outputs": [],
   "source": [
    "import numpy as np\n",
    "import matplotlib.pyplot as plt"
   ]
  },
  {
   "cell_type": "code",
   "execution_count": 17,
   "id": "1c3a1fcd-0ee2-4373-a0e6-73d157fa715c",
   "metadata": {},
   "outputs": [
    {
     "name": "stdout",
     "output_type": "stream",
     "text": [
      "Number of dimensions=\t 1\n",
      "Shape=\t (9,)\n",
      "[1 2 3 4 5 6 7 8 9]\n"
     ]
    }
   ],
   "source": [
    "mat=np.array(range(1,10))\n",
    "print(\"Number of dimensions=\\t\",mat.ndim)\n",
    "print(\"Shape=\\t\",mat.shape)\n",
    "print(mat)"
   ]
  },
  {
   "cell_type": "code",
   "execution_count": 16,
   "id": "8c019ac1-eea3-4268-8bef-41fcbaf68a67",
   "metadata": {},
   "outputs": [
    {
     "name": "stdout",
     "output_type": "stream",
     "text": [
      "Number of dimensions=\t 2\n",
      "Shape=\t (3, 3)\n",
      "[[1 2 3]\n",
      " [4 5 6]\n",
      " [7 8 9]]\n"
     ]
    }
   ],
   "source": [
    "mat=np.array(range(1,10)).reshape(3,3)\n",
    "print(\"Number of dimensions=\\t\",mat.ndim)\n",
    "print(\"Shape=\\t\",mat.shape)\n",
    "print(mat)"
   ]
  },
  {
   "cell_type": "code",
   "execution_count": 21,
   "id": "f2dc926d-16ec-4718-b425-619df249e5c3",
   "metadata": {},
   "outputs": [
    {
     "name": "stdout",
     "output_type": "stream",
     "text": [
      "Number of dimensions=\t 4\n",
      "Shape=\t (3, 3, 1, 1)\n"
     ]
    }
   ],
   "source": [
    "mat=np.array(range(1,10)).reshape(3,3,-1,1)\n",
    "print(\"Number of dimensions=\\t\",mat.ndim)\n",
    "print(\"Shape=\\t\",mat.shape)\n"
   ]
  },
  {
   "cell_type": "code",
   "execution_count": 23,
   "id": "e0bb896d-96ef-48d9-899c-11cf6d069f68",
   "metadata": {},
   "outputs": [
    {
     "name": "stdout",
     "output_type": "stream",
     "text": [
      "Number of dimensions=\t 1\n",
      "Shape=\t (20,)\n",
      "[ 1  2  3  4  5  6  7  8  9 10 11 12 13 14 15 16 17 18 19 20]\n"
     ]
    },
    {
     "data": {
      "text/plain": [
       "array([[ 1],\n",
       "       [ 2],\n",
       "       [ 3],\n",
       "       [ 4],\n",
       "       [ 5],\n",
       "       [ 6],\n",
       "       [ 7],\n",
       "       [ 8],\n",
       "       [ 9],\n",
       "       [10],\n",
       "       [11],\n",
       "       [12],\n",
       "       [13],\n",
       "       [14],\n",
       "       [15],\n",
       "       [16],\n",
       "       [17],\n",
       "       [18],\n",
       "       [19],\n",
       "       [20]])"
      ]
     },
     "execution_count": 23,
     "metadata": {},
     "output_type": "execute_result"
    }
   ],
   "source": [
    "mat=np.array(range(1,21))\n",
    "print(\"Number of dimensions=\\t\",mat.ndim)\n",
    "print(\"Shape=\\t\",mat.shape)\n",
    "print(mat)\n",
    "mat.reshape((20,-1))"
   ]
  },
  {
   "cell_type": "code",
   "execution_count": 24,
   "id": "bfddc53c-f208-4fa3-aeed-8976859b4761",
   "metadata": {},
   "outputs": [
    {
     "name": "stdout",
     "output_type": "stream",
     "text": [
      "Number of dimensions=\t 1\n",
      "Shape=\t (20,)\n",
      "[ 1  2  3  4  5  6  7  8  9 10 11 12 13 14 15 16 17 18 19 20]\n"
     ]
    },
    {
     "data": {
      "text/plain": [
       "array([[ 1,  2,  3,  4,  5,  6,  7,  8,  9, 10, 11, 12, 13, 14, 15, 16,\n",
       "        17, 18, 19, 20]])"
      ]
     },
     "execution_count": 24,
     "metadata": {},
     "output_type": "execute_result"
    }
   ],
   "source": [
    "print(\"Number of dimensions=\\t\",mat.ndim)\n",
    "print(\"Shape=\\t\",mat.shape)\n",
    "print(mat)\n",
    "mat.reshape((-1,20))"
   ]
  },
  {
   "cell_type": "code",
   "execution_count": 25,
   "id": "12293367-1e45-4850-8f37-c0e71176c2e4",
   "metadata": {},
   "outputs": [
    {
     "name": "stdout",
     "output_type": "stream",
     "text": [
      "Number of dimensions=\t 1\n",
      "Shape=\t (20,)\n",
      "[ 1  2  3  4  5  6  7  8  9 10 11 12 13 14 15 16 17 18 19 20]\n"
     ]
    },
    {
     "data": {
      "text/plain": [
       "array([[ 1,  2,  3,  4],\n",
       "       [ 5,  6,  7,  8],\n",
       "       [ 9, 10, 11, 12],\n",
       "       [13, 14, 15, 16],\n",
       "       [17, 18, 19, 20]])"
      ]
     },
     "execution_count": 25,
     "metadata": {},
     "output_type": "execute_result"
    }
   ],
   "source": [
    "print(\"Number of dimensions=\\t\",mat.ndim)\n",
    "print(\"Shape=\\t\",mat.shape)\n",
    "print(mat)\n",
    "mat.reshape((5,-1))"
   ]
  },
  {
   "cell_type": "code",
   "execution_count": 26,
   "id": "eb0937f6-c77c-46ac-bc2b-66561a7128c7",
   "metadata": {},
   "outputs": [
    {
     "name": "stdout",
     "output_type": "stream",
     "text": [
      "Number of dimensions=\t 1\n",
      "Shape=\t (20,)\n",
      "[ 1  2  3  4  5  6  7  8  9 10 11 12 13 14 15 16 17 18 19 20]\n"
     ]
    },
    {
     "data": {
      "text/plain": [
       "array([[ 1,  2,  3,  4,  5],\n",
       "       [ 6,  7,  8,  9, 10],\n",
       "       [11, 12, 13, 14, 15],\n",
       "       [16, 17, 18, 19, 20]])"
      ]
     },
     "execution_count": 26,
     "metadata": {},
     "output_type": "execute_result"
    }
   ],
   "source": [
    "print(\"Number of dimensions=\\t\",mat.ndim)\n",
    "print(\"Shape=\\t\",mat.shape)\n",
    "print(mat)\n",
    "mat.reshape((-1,5))"
   ]
  },
  {
   "cell_type": "code",
   "execution_count": 30,
   "id": "48067aad-d8a1-4f40-98cf-2c2863ddc628",
   "metadata": {},
   "outputs": [
    {
     "name": "stdout",
     "output_type": "stream",
     "text": [
      "Number of dimensions=\t 1\n",
      "Shape=\t (20,)\n",
      "[ 1  2  3  4  5  6  7  8  9 10 11 12 13 14 15 16 17 18 19 20]\n"
     ]
    },
    {
     "data": {
      "text/plain": [
       "array([[ 1,  2,  3,  4,  5,  6,  7,  8,  9, 10],\n",
       "       [11, 12, 13, 14, 15, 16, 17, 18, 19, 20]])"
      ]
     },
     "execution_count": 30,
     "metadata": {},
     "output_type": "execute_result"
    }
   ],
   "source": [
    "print(\"Number of dimensions=\\t\",mat.ndim)\n",
    "print(\"Shape=\\t\",mat.shape)\n",
    "print(mat)\n",
    "mat.reshape((2,-1))"
   ]
  },
  {
   "cell_type": "code",
   "execution_count": 47,
   "id": "99a4613e-4c35-4556-9a2e-d9f83aee8a84",
   "metadata": {},
   "outputs": [],
   "source": [
    "mat=np.array(['1',1,'0','2.5'])"
   ]
  },
  {
   "cell_type": "code",
   "execution_count": 48,
   "id": "509a7070-5fa2-4941-a647-a60f8afced2a",
   "metadata": {},
   "outputs": [
    {
     "data": {
      "text/plain": [
       "array([1. , 1. , 0. , 2.5])"
      ]
     },
     "execution_count": 48,
     "metadata": {},
     "output_type": "execute_result"
    }
   ],
   "source": [
    "mat.astype(float)"
   ]
  },
  {
   "cell_type": "code",
   "execution_count": 93,
   "id": "c647a3da-6e8e-4958-a3d8-1e58dd32982d",
   "metadata": {},
   "outputs": [
    {
     "name": "stdout",
     "output_type": "stream",
     "text": [
      "Number of dimensions=\t 1\n",
      "Shape=\t (20,)\n",
      "[[[ 1  2  3  4  5]\n",
      "  [ 6  7  8  9 10]]\n",
      "\n",
      " [[11 12 13 14 15]\n",
      "  [16 17 18 19 20]]]\n"
     ]
    }
   ],
   "source": [
    "mat=np.array(range(1,21))\n",
    "print(\"Number of dimensions=\\t\",mat.ndim)\n",
    "print(\"Shape=\\t\",mat.shape)\n",
    "\n",
    "mat=mat.reshape((2,2,5))\n",
    "print(mat)"
   ]
  },
  {
   "cell_type": "code",
   "execution_count": 94,
   "id": "49dbeb03-767d-446c-89ce-7172cf212c84",
   "metadata": {},
   "outputs": [
    {
     "name": "stdout",
     "output_type": "stream",
     "text": [
      "[[[ 1  2  3  4  5]\n",
      "  [ 6  7  8  9 10]]\n",
      "\n",
      " [[11 12 13 14 15]\n",
      "  [16 17 18 19 20]]]\n"
     ]
    }
   ],
   "source": [
    "print(mat)"
   ]
  },
  {
   "cell_type": "code",
   "execution_count": 97,
   "id": "e2f1c1ef-15b3-40c8-8b66-f3b93328eec1",
   "metadata": {},
   "outputs": [
    {
     "data": {
      "text/plain": [
       "np.int64(13)"
      ]
     },
     "execution_count": 97,
     "metadata": {},
     "output_type": "execute_result"
    }
   ],
   "source": [
    "mat[1][0][2]"
   ]
  },
  {
   "cell_type": "code",
   "execution_count": 99,
   "id": "9fa0faf3-bad2-483b-b41f-a9cc4742f1c4",
   "metadata": {},
   "outputs": [
    {
     "name": "stdout",
     "output_type": "stream",
     "text": [
      "Number of dimensions=\t 1\n",
      "Shape=\t (20,)\n",
      "[[ 1  2  3  4  5]\n",
      " [ 6  7  8  9 10]\n",
      " [11 12 13 14 15]\n",
      " [16 17 18 19 20]]\n"
     ]
    }
   ],
   "source": [
    "mat=np.array(range(1,21))\n",
    "print(\"Number of dimensions=\\t\",mat.ndim)\n",
    "print(\"Shape=\\t\",mat.shape)\n",
    "\n",
    "mat=mat.reshape((4,5))\n",
    "print(mat)"
   ]
  },
  {
   "cell_type": "code",
   "execution_count": 103,
   "id": "c70f49ee-5e43-47ec-aed1-f18700eb6105",
   "metadata": {},
   "outputs": [
    {
     "name": "stdout",
     "output_type": "stream",
     "text": [
      "[[ 1  2  3  4  5]\n",
      " [ 6  7  8  9 10]\n",
      " [11 12 13 14 15]\n",
      " [16 17 18 19 20]]\n"
     ]
    }
   ],
   "source": [
    "mat=np.array(range(1,21))\n",
    "\n",
    "\n",
    "mat=mat.reshape((4,5))\n",
    "print(mat)"
   ]
  },
  {
   "cell_type": "code",
   "execution_count": 104,
   "id": "55cf4086-3b6d-4b55-bd6c-e79bd7d8d85c",
   "metadata": {},
   "outputs": [
    {
     "name": "stdout",
     "output_type": "stream",
     "text": [
      "[[ 1  6 11 16]\n",
      " [ 2  7 12 17]\n",
      " [ 3  8 13 18]\n",
      " [ 4  9 14 19]\n",
      " [ 5 10 15 20]]\n"
     ]
    }
   ],
   "source": [
    "print(mat.T)"
   ]
  },
  {
   "cell_type": "code",
   "execution_count": 107,
   "id": "323175e9-da4f-49bb-97f0-da492e137d52",
   "metadata": {},
   "outputs": [],
   "source": [
    "mat=np.ones((3,3))"
   ]
  },
  {
   "cell_type": "code",
   "execution_count": 130,
   "id": "db9173bf-995c-4ab9-89bf-72e02dce6fea",
   "metadata": {},
   "outputs": [
    {
     "data": {
      "text/plain": [
       "array([0.        , 0.02040816, 0.04081633, 0.06122449, 0.08163265,\n",
       "       0.10204082, 0.12244898, 0.14285714, 0.16326531, 0.18367347,\n",
       "       0.20408163, 0.2244898 , 0.24489796, 0.26530612, 0.28571429,\n",
       "       0.30612245, 0.32653061, 0.34693878, 0.36734694, 0.3877551 ,\n",
       "       0.40816327, 0.42857143, 0.44897959, 0.46938776, 0.48979592,\n",
       "       0.51020408, 0.53061224, 0.55102041, 0.57142857, 0.59183673,\n",
       "       0.6122449 , 0.63265306, 0.65306122, 0.67346939, 0.69387755,\n",
       "       0.71428571, 0.73469388, 0.75510204, 0.7755102 , 0.79591837,\n",
       "       0.81632653, 0.83673469, 0.85714286, 0.87755102, 0.89795918,\n",
       "       0.91836735, 0.93877551, 0.95918367, 0.97959184, 1.        ])"
      ]
     },
     "execution_count": 130,
     "metadata": {},
     "output_type": "execute_result"
    }
   ],
   "source": [
    "# plt.plot(np.linspace(0,1))\n",
    "np.linspace(0,1)"
   ]
  },
  {
   "cell_type": "code",
   "execution_count": 119,
   "id": "bc929b4c-2fc3-4a0a-9bfb-87dd6179bfb9",
   "metadata": {},
   "outputs": [
    {
     "data": {
      "text/plain": [
       "array([[6, 6, 6],\n",
       "       [6, 6, 6],\n",
       "       [6, 6, 6]])"
      ]
     },
     "execution_count": 119,
     "metadata": {},
     "output_type": "execute_result"
    }
   ],
   "source": [
    "np.full((3,3),6)"
   ]
  },
  {
   "cell_type": "code",
   "execution_count": 150,
   "id": "1e877fff-4d00-4a27-9ff5-bdf3f210404a",
   "metadata": {},
   "outputs": [
    {
     "data": {
      "text/plain": [
       "array([[0.43194502, 0.29122914, 0.61185289],\n",
       "       [0.13949386, 0.29214465, 0.36636184],\n",
       "       [0.45606998, 0.78517596, 0.19967378]])"
      ]
     },
     "execution_count": 150,
     "metadata": {},
     "output_type": "execute_result"
    }
   ],
   "source": [
    "# np.random.seed(42)\n",
    "np.random.random((3,3))"
   ]
  },
  {
   "cell_type": "code",
   "execution_count": 137,
   "id": "1425a51e-336d-4d03-acf7-8d9223a483b3",
   "metadata": {},
   "outputs": [
    {
     "data": {
      "text/plain": [
       "array([[0.37454012, 0.95071431, 0.73199394],\n",
       "       [0.59865848, 0.15601864, 0.15599452],\n",
       "       [0.05808361, 0.86617615, 0.60111501]])"
      ]
     },
     "execution_count": 137,
     "metadata": {},
     "output_type": "execute_result"
    }
   ],
   "source": [
    "np.empty((3,3))"
   ]
  },
  {
   "cell_type": "code",
   "execution_count": 167,
   "id": "f960d025-8d18-4862-814f-f608be1e7974",
   "metadata": {},
   "outputs": [],
   "source": [
    "ar=[1,1,1,2,2,3,3,3,3,4,5,6]"
   ]
  },
  {
   "cell_type": "code",
   "execution_count": 168,
   "id": "10fbdb19-07ab-4d2e-8621-680b4e6267f1",
   "metadata": {},
   "outputs": [
    {
     "data": {
      "text/plain": [
       "np.int64(3)"
      ]
     },
     "execution_count": 168,
     "metadata": {},
     "output_type": "execute_result"
    }
   ],
   "source": [
    "np.random.choice(ar,p=[])"
   ]
  },
  {
   "cell_type": "code",
   "execution_count": 201,
   "id": "d9827728-4dec-407e-92f2-c98fe02906b2",
   "metadata": {},
   "outputs": [],
   "source": [
    "# np.random.choice??"
   ]
  },
  {
   "cell_type": "code",
   "execution_count": 178,
   "id": "aa6be4c0-f47f-462d-8f51-95361817f3e8",
   "metadata": {},
   "outputs": [
    {
     "name": "stdout",
     "output_type": "stream",
     "text": [
      "['pooh' 'Christopher' 'piglet' 'pooh' 'pooh' 'pooh' 'pooh' 'Christopher'\n",
      " 'piglet' 'Christopher' 'pooh' 'pooh' 'Christopher' 'Christopher' 'rabbit'\n",
      " 'Christopher' 'pooh' 'rabbit' 'pooh' 'pooh']\n",
      "['pooh' 'pooh' 'piglet' 'pooh' 'rabbit' 'Christopher' 'pooh' 'pooh'\n",
      " 'Christopher' 'pooh' 'pooh' 'pooh' 'pooh' 'Christopher' 'Christopher'\n",
      " 'piglet' 'Christopher' 'Christopher' 'pooh' 'Christopher']\n",
      "['rabbit' 'Christopher' 'Christopher' 'pooh' 'pooh' 'pooh' 'pooh'\n",
      " 'Christopher' 'Christopher' 'pooh' 'rabbit' 'pooh' 'pooh' 'pooh' 'pooh'\n",
      " 'Christopher' 'pooh' 'rabbit' 'Christopher' 'pooh']\n",
      "['Christopher' 'Christopher' 'pooh' 'pooh' 'pooh' 'pooh' 'pooh' 'piglet'\n",
      " 'rabbit' 'pooh' 'pooh' 'Christopher' 'pooh' 'pooh' 'pooh' 'Christopher'\n",
      " 'pooh' 'piglet' 'Christopher' 'pooh']\n",
      "['Christopher' 'pooh' 'piglet' 'piglet' 'rabbit' 'pooh' 'Christopher'\n",
      " 'pooh' 'pooh' 'pooh' 'rabbit' 'piglet' 'pooh' 'rabbit' 'pooh' 'piglet'\n",
      " 'pooh' 'piglet' 'pooh' 'Christopher']\n",
      "['pooh' 'pooh' 'pooh' 'Christopher' 'Christopher' 'pooh' 'piglet'\n",
      " 'Christopher' 'rabbit' 'rabbit' 'pooh' 'pooh' 'Christopher' 'Christopher'\n",
      " 'piglet' 'pooh' 'pooh' 'Christopher' 'Christopher' 'Christopher']\n",
      "['Christopher' 'piglet' 'pooh' 'pooh' 'Christopher' 'piglet' 'pooh' 'pooh'\n",
      " 'piglet' 'pooh' 'pooh' 'rabbit' 'piglet' 'piglet' 'pooh' 'Christopher'\n",
      " 'pooh' 'pooh' 'Christopher' 'piglet']\n",
      "['Christopher' 'piglet' 'rabbit' 'pooh' 'pooh' 'pooh' 'pooh' 'Christopher'\n",
      " 'pooh' 'Christopher' 'piglet' 'Christopher' 'rabbit' 'rabbit' 'pooh'\n",
      " 'pooh' 'Christopher' 'pooh' 'pooh' 'piglet']\n",
      "['pooh' 'Christopher' 'Christopher' 'Christopher' 'pooh' 'pooh'\n",
      " 'Christopher' 'pooh' 'Christopher' 'Christopher' 'Christopher' 'pooh'\n",
      " 'pooh' 'Christopher' 'pooh' 'pooh' 'rabbit' 'Christopher' 'piglet'\n",
      " 'rabbit']\n",
      "['pooh' 'piglet' 'Christopher' 'pooh' 'rabbit' 'Christopher' 'Christopher'\n",
      " 'piglet' 'Christopher' 'pooh' 'pooh' 'Christopher' 'Christopher'\n",
      " 'Christopher' 'Christopher' 'rabbit' 'rabbit' 'Christopher' 'piglet'\n",
      " 'Christopher']\n"
     ]
    }
   ],
   "source": [
    "aa_milne_arr = ['pooh', 'rabbit', 'piglet', 'Christopher']\n",
    "for _ in range(10):\n",
    "    print(np.random.choice(aa_milne_arr,20, p=[0.5, 0.1, 0.1, 0.3]))"
   ]
  },
  {
   "cell_type": "code",
   "execution_count": 186,
   "id": "73917aac-8e7b-4488-b8b1-677300c54dba",
   "metadata": {},
   "outputs": [],
   "source": []
  },
  {
   "cell_type": "code",
   "execution_count": 195,
   "id": "541005f5-bd10-4993-bb46-59e0eff43922",
   "metadata": {},
   "outputs": [],
   "source": [
    "a2=np.random.random((3,3))\n",
    "np.savez(\"C:/Users/Mohammed/Alex8/output.npz\",environment=mat,mat2=a2)"
   ]
  },
  {
   "cell_type": "code",
   "execution_count": 190,
   "id": "39943978-e93b-4fea-b55a-83e6dc820d92",
   "metadata": {},
   "outputs": [
    {
     "name": "stdout",
     "output_type": "stream",
     "text": [
      "[[0.79579267 0.89000534 0.33799516]\n",
      " [0.37558295 0.09398194 0.57828014]\n",
      " [0.03594227 0.46559802 0.54264463]]\n"
     ]
    }
   ],
   "source": [
    "with np.load('output.npz') as x:\n",
    "    print(x['mat2'])"
   ]
  },
  {
   "cell_type": "code",
   "execution_count": 204,
   "id": "5e3d18fa-5e8b-4503-a6a5-48658257fa05",
   "metadata": {},
   "outputs": [],
   "source": [
    "a2\n",
    "a=np.full((2,2),6)"
   ]
  },
  {
   "cell_type": "code",
   "execution_count": 206,
   "id": "8b9230dd-76aa-4c3e-9413-e7325277331e",
   "metadata": {},
   "outputs": [],
   "source": [
    "ar=np.array([1,3,4,5,0])"
   ]
  },
  {
   "cell_type": "code",
   "execution_count": 211,
   "id": "64c56cdb-ba29-469d-94a1-d632dfe718f5",
   "metadata": {},
   "outputs": [
    {
     "data": {
      "text/plain": [
       "np.False_"
      ]
     },
     "execution_count": 211,
     "metadata": {},
     "output_type": "execute_result"
    }
   ],
   "source": [
    "np.all(ar>=1)"
   ]
  },
  {
   "cell_type": "code",
   "execution_count": 212,
   "id": "b10425eb-2eaf-4a25-90db-33d16f9c5560",
   "metadata": {},
   "outputs": [],
   "source": [
    "a3=np.array([2,4,3,4,10])"
   ]
  },
  {
   "cell_type": "code",
   "execution_count": 216,
   "id": "5621bdfa-bfcc-4042-b03a-f652e8361dd5",
   "metadata": {},
   "outputs": [
    {
     "data": {
      "text/plain": [
       "(array([1, 3, 4]),)"
      ]
     },
     "execution_count": 216,
     "metadata": {},
     "output_type": "execute_result"
    }
   ],
   "source": [
    "np.where(a3>3)"
   ]
  },
  {
   "cell_type": "code",
   "execution_count": 217,
   "id": "0a328bae-720f-4872-8f9a-247dfe1abf2c",
   "metadata": {},
   "outputs": [],
   "source": [
    "a3=np.arange(1,10).reshape(3,3)"
   ]
  },
  {
   "cell_type": "code",
   "execution_count": 218,
   "id": "76291f24-c26c-4fce-96a2-8812a4fedeef",
   "metadata": {},
   "outputs": [
    {
     "data": {
      "text/plain": [
       "array([[1, 2, 3],\n",
       "       [4, 5, 6],\n",
       "       [7, 8, 9]])"
      ]
     },
     "execution_count": 218,
     "metadata": {},
     "output_type": "execute_result"
    }
   ],
   "source": [
    "a3"
   ]
  },
  {
   "cell_type": "code",
   "execution_count": 219,
   "id": "34bc89c7-e816-4a47-98cb-ba1dc868fcfb",
   "metadata": {},
   "outputs": [],
   "source": [
    "v=np.array([.5,.2,.9])"
   ]
  },
  {
   "cell_type": "code",
   "execution_count": 221,
   "id": "d1e926d1-bcc1-4217-acdf-8e79021a16a5",
   "metadata": {},
   "outputs": [
    {
     "name": "stdout",
     "output_type": "stream",
     "text": [
      "[[1.5 2.2 3.9]\n",
      " [4.5 5.2 6.9]\n",
      " [7.5 8.2 9.9]]\n"
     ]
    }
   ],
   "source": [
    "print(a3+v)"
   ]
  },
  {
   "cell_type": "code",
   "execution_count": 224,
   "id": "036cfecd-e0fc-4fdd-8c59-bdc46313aaaa",
   "metadata": {},
   "outputs": [
    {
     "data": {
      "text/plain": [
       "9"
      ]
     },
     "execution_count": 224,
     "metadata": {},
     "output_type": "execute_result"
    }
   ],
   "source": [
    "a3.size"
   ]
  },
  {
   "cell_type": "code",
   "execution_count": 225,
   "id": "fccc7d8a-f36e-4e49-8e99-b26eea5452c7",
   "metadata": {},
   "outputs": [],
   "source": [
    "arr = np.array([2, 1, 5, 3, 7, 4, 6, 8])"
   ]
  },
  {
   "cell_type": "code",
   "execution_count": 227,
   "id": "ca3b1453-808b-439d-83b9-006d29bd3433",
   "metadata": {},
   "outputs": [
    {
     "data": {
      "text/plain": [
       "array([1, 0, 3, 5, 2, 6, 4, 7])"
      ]
     },
     "execution_count": 227,
     "metadata": {},
     "output_type": "execute_result"
    }
   ],
   "source": [
    "np.argsort(arr)"
   ]
  },
  {
   "cell_type": "code",
   "execution_count": 236,
   "id": "c8f0b6b1-2ae9-4b10-a4cc-df8d5876eb40",
   "metadata": {},
   "outputs": [
    {
     "data": {
      "text/plain": [
       "array([[9, 8, 7],\n",
       "       [6, 5, 4],\n",
       "       [3, 2, 1]])"
      ]
     },
     "execution_count": 236,
     "metadata": {},
     "output_type": "execute_result"
    }
   ],
   "source": [
    "np.flip(a3)"
   ]
  },
  {
   "cell_type": "code",
   "execution_count": 239,
   "id": "98bdf3af-723e-47af-8dae-53010883f770",
   "metadata": {},
   "outputs": [
    {
     "data": {
      "text/plain": [
       "array([1, 2, 3, 4, 5, 6, 7, 8, 9])"
      ]
     },
     "execution_count": 239,
     "metadata": {},
     "output_type": "execute_result"
    }
   ],
   "source": [
    "a3.flatten()"
   ]
  },
  {
   "cell_type": "code",
   "execution_count": 256,
   "id": "6b900b6f-0b34-4533-94d5-547f5a5cbf1f",
   "metadata": {},
   "outputs": [],
   "source": [
    "a3=np.arange(1,10).reshape(3,3)"
   ]
  },
  {
   "cell_type": "code",
   "execution_count": 257,
   "id": "16dce461-f3b9-4433-abb0-7863f8538279",
   "metadata": {},
   "outputs": [],
   "source": [
    "a4=a3.copy()"
   ]
  },
  {
   "cell_type": "code",
   "execution_count": 258,
   "id": "cfc4fd81-d7cf-494e-82cd-3230a3dec2c0",
   "metadata": {},
   "outputs": [],
   "source": [
    "a4[0,1]=50"
   ]
  },
  {
   "cell_type": "code",
   "execution_count": 259,
   "id": "a92a14bb-fc3f-43e2-8cd3-15d6fb946b74",
   "metadata": {},
   "outputs": [
    {
     "data": {
      "text/plain": [
       "array([[ 1, 50,  3],\n",
       "       [ 4,  5,  6],\n",
       "       [ 7,  8,  9]])"
      ]
     },
     "execution_count": 259,
     "metadata": {},
     "output_type": "execute_result"
    }
   ],
   "source": [
    "a4"
   ]
  },
  {
   "cell_type": "code",
   "execution_count": 260,
   "id": "43f1ae32-6069-494f-a7a9-ec6c42707cf5",
   "metadata": {},
   "outputs": [
    {
     "data": {
      "text/plain": [
       "array([[1, 2, 3],\n",
       "       [4, 5, 6],\n",
       "       [7, 8, 9]])"
      ]
     },
     "execution_count": 260,
     "metadata": {},
     "output_type": "execute_result"
    }
   ],
   "source": [
    "a3"
   ]
  },
  {
   "cell_type": "code",
   "execution_count": 279,
   "id": "0aa33412-d9aa-4e51-b125-dedf124d4e02",
   "metadata": {},
   "outputs": [],
   "source": [
    "ar=np.zeros((9,9))"
   ]
  },
  {
   "cell_type": "code",
   "execution_count": 287,
   "id": "827b0e2f-5bef-4998-a4bd-b5c553454b6f",
   "metadata": {},
   "outputs": [],
   "source": [
    "r=.1\n",
    "for i in range(ar.shape[0]):\n",
    "    for j in range(ar.shape[1]):\n",
    "        ar[i,j]+=r\n",
    "        r+=.1"
   ]
  },
  {
   "cell_type": "code",
   "execution_count": 288,
   "id": "959db7bb-e780-46fc-848f-868ba2f8bfd9",
   "metadata": {},
   "outputs": [
    {
     "data": {
      "text/plain": [
       "9"
      ]
     },
     "execution_count": 288,
     "metadata": {},
     "output_type": "execute_result"
    }
   ],
   "source": [
    "ar.shape[0]"
   ]
  },
  {
   "cell_type": "code",
   "execution_count": 289,
   "id": "cf1f0ad8-ad13-48af-a2d0-155b139e4acb",
   "metadata": {},
   "outputs": [],
   "source": [
    "die=np.arange(1,7)"
   ]
  },
  {
   "cell_type": "code",
   "execution_count": 290,
   "id": "caf04c4c-73db-4b65-b3cf-eaa2b50f3739",
   "metadata": {},
   "outputs": [
    {
     "data": {
      "text/plain": [
       "array([1, 2, 3, 4, 5, 6])"
      ]
     },
     "execution_count": 290,
     "metadata": {},
     "output_type": "execute_result"
    }
   ],
   "source": [
    "die"
   ]
  },
  {
   "cell_type": "code",
   "execution_count": 301,
   "id": "a67ff75e-f0b5-4a23-961e-f5a7a00c426c",
   "metadata": {},
   "outputs": [
    {
     "name": "stdout",
     "output_type": "stream",
     "text": [
      "[5 1]\n",
      "[3 1]\n",
      "[6 1]\n",
      "[1 6]\n",
      "[4 1]\n",
      "[6 5]\n",
      "[3 3]\n",
      "[1 4]\n",
      "[4 5]\n",
      "[1 3]\n"
     ]
    }
   ],
   "source": [
    "for i in range(10):\n",
    "    print(np.array(np.random.choice(die,2)))"
   ]
  },
  {
   "cell_type": "code",
   "execution_count": 302,
   "id": "94a48651-1877-4f13-bd6a-9b1c40a05829",
   "metadata": {},
   "outputs": [
    {
     "data": {
      "text/plain": [
       "array([[10, 10, 10],\n",
       "       [10, 10, 10],\n",
       "       [10, 10, 10]])"
      ]
     },
     "execution_count": 302,
     "metadata": {},
     "output_type": "execute_result"
    }
   ],
   "source": [
    "np.full((3,3),10)"
   ]
  },
  {
   "cell_type": "code",
   "execution_count": 308,
   "id": "a23d63be-363b-4236-b476-cc9c109140ad",
   "metadata": {},
   "outputs": [
    {
     "data": {
      "text/plain": [
       "array([[ 198.45,  202.5 ,  206.55,  210.6 ,  214.65,  218.7 ,  222.75,\n",
       "         226.8 ,  230.85],\n",
       "       [ 468.18,  479.52,  490.86,  502.2 ,  513.54,  524.88,  536.22,\n",
       "         547.56,  558.9 ],\n",
       "       [ 737.91,  756.54,  775.17,  793.8 ,  812.43,  831.06,  849.69,\n",
       "         868.32,  886.95],\n",
       "       [1007.64, 1033.56, 1059.48, 1085.4 , 1111.32, 1137.24, 1163.16,\n",
       "        1189.08, 1215.  ],\n",
       "       [1277.37, 1310.58, 1343.79, 1377.  , 1410.21, 1443.42, 1476.63,\n",
       "        1509.84, 1543.05],\n",
       "       [1547.1 , 1587.6 , 1628.1 , 1668.6 , 1709.1 , 1749.6 , 1790.1 ,\n",
       "        1830.6 , 1871.1 ],\n",
       "       [1816.83, 1864.62, 1912.41, 1960.2 , 2007.99, 2055.78, 2103.57,\n",
       "        2151.36, 2199.15],\n",
       "       [2086.56, 2141.64, 2196.72, 2251.8 , 2306.88, 2361.96, 2417.04,\n",
       "        2472.12, 2527.2 ],\n",
       "       [2356.29, 2418.66, 2481.03, 2543.4 , 2605.77, 2668.14, 2730.51,\n",
       "        2792.88, 2855.25]])"
      ]
     },
     "execution_count": 308,
     "metadata": {},
     "output_type": "execute_result"
    }
   ],
   "source": [
    "ar.dot(ar)"
   ]
  },
  {
   "cell_type": "code",
   "execution_count": null,
   "id": "ee1fdf87-184a-4cdb-aa82-a2da2aed1385",
   "metadata": {},
   "outputs": [],
   "source": []
  }
 ],
 "metadata": {
  "kernelspec": {
   "display_name": "Python 3 (ipykernel)",
   "language": "python",
   "name": "python3"
  },
  "language_info": {
   "codemirror_mode": {
    "name": "ipython",
    "version": 3
   },
   "file_extension": ".py",
   "mimetype": "text/x-python",
   "name": "python",
   "nbconvert_exporter": "python",
   "pygments_lexer": "ipython3",
   "version": "3.9.0"
  }
 },
 "nbformat": 4,
 "nbformat_minor": 5
}
