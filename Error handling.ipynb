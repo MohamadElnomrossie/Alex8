{
 "cells": [
  {
   "cell_type": "code",
   "execution_count": 1,
   "id": "d3924179",
   "metadata": {},
   "outputs": [],
   "source": [
    "import sys"
   ]
  },
  {
   "cell_type": "code",
   "execution_count": 3,
   "id": "df50564d",
   "metadata": {},
   "outputs": [
    {
     "name": "stdout",
     "output_type": "stream",
     "text": [
      "hello\n"
     ]
    },
    {
     "ename": "NameError",
     "evalue": "name 'dsfsdf' is not defined",
     "output_type": "error",
     "traceback": [
      "\u001b[1;31m---------------------------------------------------------------------------\u001b[0m",
      "\u001b[1;31mNameError\u001b[0m                                 Traceback (most recent call last)",
      "\u001b[1;32m~\\AppData\\Local\\Temp\\ipykernel_16172\\4232570438.py\u001b[0m in \u001b[0;36m<module>\u001b[1;34m\u001b[0m\n\u001b[0;32m      1\u001b[0m \u001b[0mprint\u001b[0m\u001b[1;33m(\u001b[0m\u001b[1;34m\"hello\"\u001b[0m\u001b[1;33m)\u001b[0m\u001b[1;33m\u001b[0m\u001b[1;33m\u001b[0m\u001b[0m\n\u001b[1;32m----> 2\u001b[1;33m \u001b[0mdsfsdf\u001b[0m\u001b[1;33m\u001b[0m\u001b[1;33m\u001b[0m\u001b[0m\n\u001b[0m",
      "\u001b[1;31mNameError\u001b[0m: name 'dsfsdf' is not defined"
     ]
    }
   ],
   "source": [
    "print(\"hello\")\n",
    "dsfsdf"
   ]
  },
  {
   "cell_type": "code",
   "execution_count": 2,
   "id": "4ec538f9",
   "metadata": {},
   "outputs": [
    {
     "ename": "SyntaxError",
     "evalue": "EOL while scanning string literal (4073739019.py, line 1)",
     "output_type": "error",
     "traceback": [
      "\u001b[1;36m  File \u001b[1;32m\"C:\\Users\\Mohammed\\AppData\\Local\\Temp\\ipykernel_16172\\4073739019.py\"\u001b[1;36m, line \u001b[1;32m1\u001b[0m\n\u001b[1;33m    print('\u001b[0m\n\u001b[1;37m           ^\u001b[0m\n\u001b[1;31mSyntaxError\u001b[0m\u001b[1;31m:\u001b[0m EOL while scanning string literal\n"
     ]
    }
   ],
   "source": [
    "print('"
   ]
  },
  {
   "cell_type": "code",
   "execution_count": 5,
   "id": "0b1cd569",
   "metadata": {},
   "outputs": [
    {
     "ename": "ZeroDivisionError",
     "evalue": "division by zero",
     "output_type": "error",
     "traceback": [
      "\u001b[1;31m---------------------------------------------------------------------------\u001b[0m",
      "\u001b[1;31mZeroDivisionError\u001b[0m                         Traceback (most recent call last)",
      "\u001b[1;32m~\\AppData\\Local\\Temp\\ipykernel_16172\\4250728812.py\u001b[0m in \u001b[0;36m<module>\u001b[1;34m\u001b[0m\n\u001b[1;32m----> 1\u001b[1;33m \u001b[1;36m1\u001b[0m\u001b[1;33m/\u001b[0m\u001b[1;36m0\u001b[0m\u001b[1;33m\u001b[0m\u001b[1;33m\u001b[0m\u001b[0m\n\u001b[0m",
      "\u001b[1;31mZeroDivisionError\u001b[0m: division by zero"
     ]
    }
   ],
   "source": [
    "\n",
    "1/0"
   ]
  },
  {
   "cell_type": "markdown",
   "id": "2215e254",
   "metadata": {},
   "source": [
    "# Runtime Error\n",
    "\n",
    "## Exceptions"
   ]
  },
  {
   "cell_type": "code",
   "execution_count": null,
   "id": "3e2b24f6",
   "metadata": {},
   "outputs": [
    {
     "name": "stdout",
     "output_type": "stream",
     "text": [
      "First number:\t1\n",
      "Second number:\t0\n",
      "ddd\n",
      "loop done\n",
      "ddd\n",
      "loop done\n",
      "First number:\tq\n",
      "Misc Error\n",
      "loop done\n",
      "ddd\n",
      "loop done\n",
      "ddd\n",
      "loop done\n",
      "First number:\t1\n",
      "Second number:\t0\n",
      "ddd\n",
      "loop done\n",
      "ddd\n",
      "loop done\n",
      "ddd\n",
      "loop done\n"
     ]
    }
   ],
   "source": [
    "while True:\n",
    "    try:\n",
    "        x=float(input('First number:\\t'))\n",
    "        y=float(input('Second number:\\t'))\n",
    "        print(str(x/y))\n",
    "    except ZeroDivisionError:\n",
    "        print('Error')\n",
    "        continue\n",
    "    except KeyboardInterrupt:\n",
    "        res=input(\"Do you want to Exit\")\n",
    "        if res=='q':\n",
    "            sys.exit()\n",
    "    except:\n",
    "        print('Misc Error')\n",
    "    \n",
    "    finally:\n",
    "        print(\"loop done\")"
   ]
  },
  {
   "cell_type": "code",
   "execution_count": null,
   "id": "14c6ec18",
   "metadata": {},
   "outputs": [],
   "source": []
  }
 ],
 "metadata": {
  "kernelspec": {
   "display_name": "Python 3 (ipykernel)",
   "language": "python",
   "name": "python3"
  },
  "language_info": {
   "codemirror_mode": {
    "name": "ipython",
    "version": 3
   },
   "file_extension": ".py",
   "mimetype": "text/x-python",
   "name": "python",
   "nbconvert_exporter": "python",
   "pygments_lexer": "ipython3",
   "version": "3.9.13"
  }
 },
 "nbformat": 4,
 "nbformat_minor": 5
}
