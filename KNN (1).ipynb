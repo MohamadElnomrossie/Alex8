{
  "cells": [
    {
      "cell_type": "markdown",
      "id": "d0e76f39-8774-4263-87ff-5c8fcc5e7ff1",
      "metadata": {
        "id": "d0e76f39-8774-4263-87ff-5c8fcc5e7ff1"
      },
      "source": [
        "https://www.geeksforgeeks.org/k-nearest-neighbours/"
      ]
    },
    {
      "cell_type": "code",
      "execution_count": null,
      "id": "52a950b2-3b9a-4e3c-a8b1-fcce1fbd6282",
      "metadata": {
        "id": "52a950b2-3b9a-4e3c-a8b1-fcce1fbd6282",
        "outputId": "61888ab3-5305-49e3-dc5a-625f3fa0cd03",
        "colab": {
          "base_uri": "https://localhost:8080/"
        }
      },
      "outputs": [
        {
          "output_type": "stream",
          "name": "stdout",
          "text": [
            "[(1.118033988749895, 0), (1.4142135623730951, 0), (1.5, 0), (2.0615528128088303, 0), (2.0615528128088303, 0), (2.0615528128088303, 1), (2.23606797749979, 1), (3.0413812651491097, 0), (4.031128874149275, 0), (4.313930922024598, 1), (4.716990566028302, 1), (5.024937810560445, 1), (5.220153254455275, 0), (5.220153254455275, 1), (6.139218191268331, 1), (6.726812023536855, 1), (6.946221994724902, 1)]\n",
            "The value classified to unknown point is: 0\n"
          ]
        }
      ],
      "source": [
        "import math\n",
        "\n",
        "def classifyAPoint(points,p,k=3):\n",
        "\n",
        "    distance=[]\n",
        "    for group in points:\n",
        "        #print(group)\n",
        "\n",
        "        for feature in points[group]:\n",
        "            #print(feature)\n",
        "            #calculate the euclidean distance of p from training points\n",
        "            euclidean_distance = math.sqrt((feature[0]-p[0])**2 +(feature[1]-p[1])**2)\n",
        "\n",
        "            # Add a tuple of form (distance,group) in the distance list\n",
        "            distance.append((euclidean_distance,group))\n",
        "\n",
        "    # sort the distance list in ascending order\n",
        "    # and select first k distances\n",
        "    print(sorted(distance))\n",
        "    distance = sorted(distance)[:k]\n",
        "\n",
        "\n",
        "    freq1 = 0 #frequency of group 0\n",
        "    freq2 = 0 #frequency og group 1\n",
        "\n",
        "    for d in distance:\n",
        "        if d[1] == 0:\n",
        "            freq1 += 1\n",
        "        elif d[1] == 1:\n",
        "            freq2 += 1\n",
        "\n",
        "    return 0 if freq1>freq2 else 1\n",
        "\n",
        "# driver function\n",
        "def main():\n",
        "\n",
        "    # Dictionary of training points having two keys - 0 and 1\n",
        "    # key 0 have points belong to class 0\n",
        "    # key 1 have points belong to class 1\n",
        "\n",
        "    points = {0:[(1,12),(2,5),(3,6),(3,10),(3.5,8),(2,11),(2,9),(1,7)],\n",
        "              1:[(5,3),(3,2),(1.5,9),(7,2),(6,1),(3.8,1),(5.6,4),(4,2),(2,5)]}\n",
        "\n",
        "    # testing point p(x,y)\n",
        "    p = (2.5,7)\n",
        "\n",
        "    # Number of neighbours\n",
        "    k = 3\n",
        "\n",
        "    print(\"The value classified to unknown point is: {}\".\\\n",
        "          format(classifyAPoint(points,p,k)))\n",
        "\n",
        "if __name__ == '__main__':\n",
        "    main()"
      ]
    },
    {
      "cell_type": "code",
      "execution_count": null,
      "id": "df159dbd-58a0-4fe2-838c-6c93bd0bc786",
      "metadata": {
        "id": "df159dbd-58a0-4fe2-838c-6c93bd0bc786"
      },
      "outputs": [],
      "source": []
    }
  ],
  "metadata": {
    "kernelspec": {
      "display_name": "Python 3 (ipykernel)",
      "language": "python",
      "name": "python3"
    },
    "language_info": {
      "codemirror_mode": {
        "name": "ipython",
        "version": 3
      },
      "file_extension": ".py",
      "mimetype": "text/x-python",
      "name": "python",
      "nbconvert_exporter": "python",
      "pygments_lexer": "ipython3",
      "version": "3.9.0"
    },
    "colab": {
      "provenance": []
    }
  },
  "nbformat": 4,
  "nbformat_minor": 5
}