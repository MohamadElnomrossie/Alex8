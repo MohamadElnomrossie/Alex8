{
 "cells": [
  {
   "cell_type": "code",
   "execution_count": null,
   "id": "3a76e123-ebcc-4152-b141-6ade7749c27b",
   "metadata": {},
   "outputs": [],
   "source": []
  }
 ],
 "metadata": {
  "kernelspec": {
   "display_name": "",
   "name": ""
  },
  "language_info": {
   "name": ""
  }
 },
 "nbformat": 4,
 "nbformat_minor": 5
}
