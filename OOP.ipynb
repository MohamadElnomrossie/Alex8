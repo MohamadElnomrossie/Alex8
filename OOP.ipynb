{
 "cells": [
  {
   "cell_type": "code",
   "execution_count": 78,
   "id": "c8cdaf08",
   "metadata": {},
   "outputs": [],
   "source": [
    "class student():\n",
    "    def __init__(self,name,age,grade,gender):\n",
    "        self.__name=name\n",
    "        self.__age=age\n",
    "        self.__grade=grade\n",
    "        self.__gender=gender\n",
    "        \n",
    "    def print_data(self):\n",
    "        print('name: ',self.__name)\n",
    "        print('age: ',self.__age)\n",
    "        print('grade: ',self.__grade)\n",
    "        print('gender: ',self.__gender)\n",
    "        \n",
    "    def change_name(self,name):\n",
    "        self.__name=name\n",
    "    def get_name(self):\n",
    "        return self.__name"
   ]
  },
  {
   "cell_type": "markdown",
   "id": "3b934efd",
   "metadata": {},
   "source": [
    "# Create an instance (instantiate) of the class"
   ]
  },
  {
   "cell_type": "code",
   "execution_count": 79,
   "id": "20a72f61",
   "metadata": {},
   "outputs": [],
   "source": [
    "st1=student('Ahmed',15,9,'male')\n",
    "st2=student('Alaa',14,8,'female')"
   ]
  },
  {
   "cell_type": "code",
   "execution_count": 76,
   "id": "3d0e1721",
   "metadata": {},
   "outputs": [],
   "source": [
    "st1.change_name('Waleed')"
   ]
  },
  {
   "cell_type": "code",
   "execution_count": 80,
   "id": "3d4a88f9",
   "metadata": {},
   "outputs": [
    {
     "data": {
      "text/plain": [
       "'Ahmed'"
      ]
     },
     "execution_count": 80,
     "metadata": {},
     "output_type": "execute_result"
    }
   ],
   "source": [
    "st1.get_name()"
   ]
  },
  {
   "cell_type": "code",
   "execution_count": 21,
   "id": "0a5aff8d",
   "metadata": {},
   "outputs": [
    {
     "data": {
      "text/plain": [
       "20"
      ]
     },
     "execution_count": 21,
     "metadata": {},
     "output_type": "execute_result"
    }
   ],
   "source": [
    "st2.age"
   ]
  },
  {
   "cell_type": "code",
   "execution_count": 22,
   "id": "530689ed",
   "metadata": {},
   "outputs": [
    {
     "data": {
      "text/plain": [
       "15"
      ]
     },
     "execution_count": 22,
     "metadata": {},
     "output_type": "execute_result"
    }
   ],
   "source": [
    "st1.age"
   ]
  },
  {
   "cell_type": "code",
   "execution_count": 23,
   "id": "b89ee3af",
   "metadata": {},
   "outputs": [],
   "source": [
    "st2.first_name='Alaa'"
   ]
  },
  {
   "cell_type": "code",
   "execution_count": 24,
   "id": "06745849",
   "metadata": {},
   "outputs": [
    {
     "data": {
      "text/plain": [
       "'Ahmed'"
      ]
     },
     "execution_count": 24,
     "metadata": {},
     "output_type": "execute_result"
    }
   ],
   "source": [
    "st1.first_name"
   ]
  },
  {
   "cell_type": "code",
   "execution_count": 44,
   "id": "ee4f20d1",
   "metadata": {},
   "outputs": [],
   "source": [
    "class st():\n",
    "    name='dsdsd'"
   ]
  },
  {
   "cell_type": "code",
   "execution_count": 47,
   "id": "7a8ded78",
   "metadata": {},
   "outputs": [],
   "source": [
    "h=st()\n",
    "b=st()"
   ]
  },
  {
   "cell_type": "code",
   "execution_count": 46,
   "id": "90af6312",
   "metadata": {},
   "outputs": [
    {
     "data": {
      "text/plain": [
       "'dsdsd'"
      ]
     },
     "execution_count": 46,
     "metadata": {},
     "output_type": "execute_result"
    }
   ],
   "source": [
    "h.name"
   ]
  },
  {
   "cell_type": "code",
   "execution_count": 48,
   "id": "d3ef3d65",
   "metadata": {},
   "outputs": [
    {
     "data": {
      "text/plain": [
       "'dsdsd'"
      ]
     },
     "execution_count": 48,
     "metadata": {},
     "output_type": "execute_result"
    }
   ],
   "source": [
    "b.name"
   ]
  },
  {
   "cell_type": "code",
   "execution_count": null,
   "id": "efd728b2",
   "metadata": {},
   "outputs": [],
   "source": []
  }
 ],
 "metadata": {
  "kernelspec": {
   "display_name": "Python 3 (ipykernel)",
   "language": "python",
   "name": "python3"
  },
  "language_info": {
   "codemirror_mode": {
    "name": "ipython",
    "version": 3
   },
   "file_extension": ".py",
   "mimetype": "text/x-python",
   "name": "python",
   "nbconvert_exporter": "python",
   "pygments_lexer": "ipython3",
   "version": "3.9.13"
  }
 },
 "nbformat": 4,
 "nbformat_minor": 5
}
