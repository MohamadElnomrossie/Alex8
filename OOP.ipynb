{
 "cells": [
  {
   "cell_type": "code",
   "execution_count": 86,
   "id": "fb28e15e",
   "metadata": {},
   "outputs": [],
   "source": [
    "from abc import ABC,abstractmethod"
   ]
  },
  {
   "cell_type": "code",
   "execution_count": 149,
   "id": "f225a0c8",
   "metadata": {},
   "outputs": [],
   "source": [
    "class student():\n",
    "    def __init__(self,name,age,grade,gender):\n",
    "        self.__name=name\n",
    "        self.__age=age\n",
    "        self.__grade=grade\n",
    "        self.__gender=gender\n",
    "        \n",
    "    def print_data(self):\n",
    "        print('name: ',self.__name)\n",
    "        print('age: ',self.__age)\n",
    "        print('grade: ',self.__grade)\n",
    "        print('gender: ',self.__gender)\n",
    "        \n",
    "    def change_name(self,name):\n",
    "        self.__name=name\n",
    "    def get_name(self):\n",
    "        return self.__name\n",
    "    def print_address(self):\n",
    "        print(self)"
   ]
  },
  {
   "cell_type": "markdown",
   "id": "52e7e14c",
   "metadata": {},
   "source": [
    "# Create an instance (instantiate) of the class"
   ]
  },
  {
   "cell_type": "code",
   "execution_count": 82,
   "id": "91c614b0",
   "metadata": {},
   "outputs": [],
   "source": [
    "st1=student('Ahmed',15,9,'male')\n",
    "st2=student('Alaa',14,8,'female')"
   ]
  },
  {
   "cell_type": "code",
   "execution_count": 83,
   "id": "110fd029",
   "metadata": {},
   "outputs": [],
   "source": [
    "st1.change_name('Waleed')"
   ]
  },
  {
   "cell_type": "code",
   "execution_count": 138,
   "id": "6830de1c",
   "metadata": {},
   "outputs": [],
   "source": [
    "class inherited(student):\n",
    "    def __init__(self,name,age,grade,gender):\n",
    "        super().__init__(name,age,grade,gender)\n",
    "    def print_data(self):\n",
    "        print('Hello')"
   ]
  },
  {
   "cell_type": "code",
   "execution_count": 140,
   "id": "b139465a",
   "metadata": {},
   "outputs": [],
   "source": [
    "inh=inherited('Alaa',14,8,'female')\n"
   ]
  },
  {
   "cell_type": "code",
   "execution_count": 129,
   "id": "475d8b08",
   "metadata": {},
   "outputs": [
    {
     "ename": "SyntaxError",
     "evalue": "invalid syntax (2991202131.py, line 1)",
     "output_type": "error",
     "traceback": [
      "\u001b[1;36m  File \u001b[1;32m\"C:\\Users\\Mohammed\\AppData\\Local\\Temp\\ipykernel_13016\\2991202131.py\"\u001b[1;36m, line \u001b[1;32m1\u001b[0m\n\u001b[1;33m    inh.\u001b[0m\n\u001b[1;37m        ^\u001b[0m\n\u001b[1;31mSyntaxError\u001b[0m\u001b[1;31m:\u001b[0m invalid syntax\n"
     ]
    }
   ],
   "source": [
    "inh."
   ]
  },
  {
   "cell_type": "code",
   "execution_count": 23,
   "id": "4f8cebb7",
   "metadata": {},
   "outputs": [],
   "source": [
    "st2.first_name='Alaa'"
   ]
  },
  {
   "cell_type": "code",
   "execution_count": 24,
   "id": "d9cf030f",
   "metadata": {},
   "outputs": [
    {
     "data": {
      "text/plain": [
       "'Ahmed'"
      ]
     },
     "execution_count": 24,
     "metadata": {},
     "output_type": "execute_result"
    }
   ],
   "source": [
    "st1.first_name"
   ]
  },
  {
   "cell_type": "code",
   "execution_count": 44,
   "id": "82d06e8f",
   "metadata": {},
   "outputs": [],
   "source": [
    "class st():\n",
    "    name='dsdsd'"
   ]
  },
  {
   "cell_type": "code",
   "execution_count": 47,
   "id": "a61cb75b",
   "metadata": {},
   "outputs": [],
   "source": [
    "h=st()\n",
    "b=st()"
   ]
  },
  {
   "cell_type": "code",
   "execution_count": 46,
   "id": "d1fce2f6",
   "metadata": {},
   "outputs": [
    {
     "data": {
      "text/plain": [
       "'dsdsd'"
      ]
     },
     "execution_count": 46,
     "metadata": {},
     "output_type": "execute_result"
    }
   ],
   "source": [
    "h.name"
   ]
  },
  {
   "cell_type": "code",
   "execution_count": 147,
   "id": "1132a6dc",
   "metadata": {},
   "outputs": [],
   "source": [
    "sub=student()"
   ]
  },
  {
   "cell_type": "code",
   "execution_count": 143,
   "id": "95dcd314",
   "metadata": {},
   "outputs": [],
   "source": [
    "sub.change_name(\"Ahmed\")"
   ]
  },
  {
   "cell_type": "code",
   "execution_count": 148,
   "id": "5c189927",
   "metadata": {},
   "outputs": [
    {
     "ename": "AttributeError",
     "evalue": "'student' object has no attribute '_student__name'",
     "output_type": "error",
     "traceback": [
      "\u001b[1;31m---------------------------------------------------------------------------\u001b[0m",
      "\u001b[1;31mAttributeError\u001b[0m                            Traceback (most recent call last)",
      "\u001b[1;32m~\\AppData\\Local\\Temp\\ipykernel_13016\\1533060492.py\u001b[0m in \u001b[0;36m<module>\u001b[1;34m\u001b[0m\n\u001b[1;32m----> 1\u001b[1;33m \u001b[0msub\u001b[0m\u001b[1;33m.\u001b[0m\u001b[0mprint_data\u001b[0m\u001b[1;33m(\u001b[0m\u001b[1;33m)\u001b[0m\u001b[1;33m\u001b[0m\u001b[1;33m\u001b[0m\u001b[0m\n\u001b[0m",
      "\u001b[1;32m~\\AppData\\Local\\Temp\\ipykernel_13016\\266055988.py\u001b[0m in \u001b[0;36mprint_data\u001b[1;34m(self)\u001b[0m\n\u001b[0;32m      3\u001b[0m         \u001b[1;32mpass\u001b[0m\u001b[1;33m\u001b[0m\u001b[1;33m\u001b[0m\u001b[0m\n\u001b[0;32m      4\u001b[0m     \u001b[1;32mdef\u001b[0m \u001b[0mprint_data\u001b[0m\u001b[1;33m(\u001b[0m\u001b[0mself\u001b[0m\u001b[1;33m)\u001b[0m\u001b[1;33m:\u001b[0m\u001b[1;33m\u001b[0m\u001b[1;33m\u001b[0m\u001b[0m\n\u001b[1;32m----> 5\u001b[1;33m         \u001b[0mprint\u001b[0m\u001b[1;33m(\u001b[0m\u001b[1;34m'name: '\u001b[0m\u001b[1;33m,\u001b[0m\u001b[0mself\u001b[0m\u001b[1;33m.\u001b[0m\u001b[0m__name\u001b[0m\u001b[1;33m)\u001b[0m\u001b[1;33m\u001b[0m\u001b[1;33m\u001b[0m\u001b[0m\n\u001b[0m\u001b[0;32m      6\u001b[0m         \u001b[0mprint\u001b[0m\u001b[1;33m(\u001b[0m\u001b[1;34m'age: '\u001b[0m\u001b[1;33m,\u001b[0m\u001b[0mself\u001b[0m\u001b[1;33m.\u001b[0m\u001b[0m__age\u001b[0m\u001b[1;33m)\u001b[0m\u001b[1;33m\u001b[0m\u001b[1;33m\u001b[0m\u001b[0m\n\u001b[0;32m      7\u001b[0m         \u001b[0mprint\u001b[0m\u001b[1;33m(\u001b[0m\u001b[1;34m'grade: '\u001b[0m\u001b[1;33m,\u001b[0m\u001b[0mself\u001b[0m\u001b[1;33m.\u001b[0m\u001b[0m__grade\u001b[0m\u001b[1;33m)\u001b[0m\u001b[1;33m\u001b[0m\u001b[1;33m\u001b[0m\u001b[0m\n",
      "\u001b[1;31mAttributeError\u001b[0m: 'student' object has no attribute '_student__name'"
     ]
    }
   ],
   "source": [
    "sub.print_data()"
   ]
  },
  {
   "cell_type": "code",
   "execution_count": 202,
   "id": "bbc9761f",
   "metadata": {},
   "outputs": [],
   "source": [
    "class person():\n",
    "#     Constructor\n",
    "    def __init__(self):\n",
    "        self.__name=None\n",
    "        self.__age=None\n",
    "        self.__gender=None\n",
    "        \n",
    "    def set_name(self,name):\n",
    "        self.__name=name\n",
    "    def get_name(self):\n",
    "        return self.__name\n",
    "    \n",
    "    def set_age(self,age):\n",
    "        self.__age=age\n",
    "    def get_age(self):\n",
    "        print(self.__age)\n",
    "        return self.__age\n",
    "        \n",
    "    def set_gender(self,gender):\n",
    "        self.__gender=gender\n",
    "    def get_gender(self):\n",
    "        return self.__gender\n",
    "    "
   ]
  },
  {
   "cell_type": "code",
   "execution_count": 203,
   "id": "241561de",
   "metadata": {},
   "outputs": [],
   "source": [
    "class employee(person):\n",
    "    def __init__(self):\n",
    "        super().__init__()\n",
    "        pass\n",
    "        self.__job=None\n",
    "        self.__department=None\n",
    "        self.__salary=None\n",
    "        \n",
    "    def set_job(self,job):\n",
    "        self.__job=job"
   ]
  },
  {
   "cell_type": "code",
   "execution_count": 204,
   "id": "c96a4a48",
   "metadata": {},
   "outputs": [],
   "source": [
    "emp=employee()"
   ]
  },
  {
   "cell_type": "code",
   "execution_count": 205,
   "id": "ba2c3874",
   "metadata": {},
   "outputs": [
    {
     "name": "stdout",
     "output_type": "stream",
     "text": [
      "None\n"
     ]
    }
   ],
   "source": [
    "# emp.set_age(15)\n",
    "emp.get_age()"
   ]
  },
  {
   "cell_type": "code",
   "execution_count": 185,
   "id": "9e823584",
   "metadata": {},
   "outputs": [],
   "source": [
    "per=person()"
   ]
  },
  {
   "cell_type": "code",
   "execution_count": 186,
   "id": "48906fad",
   "metadata": {},
   "outputs": [],
   "source": [
    "per.set_age(15)"
   ]
  },
  {
   "cell_type": "code",
   "execution_count": 187,
   "id": "7dd070a9",
   "metadata": {},
   "outputs": [
    {
     "data": {
      "text/plain": [
       "15"
      ]
     },
     "execution_count": 187,
     "metadata": {},
     "output_type": "execute_result"
    }
   ],
   "source": [
    "per.age"
   ]
  },
  {
   "cell_type": "code",
   "execution_count": null,
   "id": "d8293df2",
   "metadata": {},
   "outputs": [],
   "source": []
  }
 ],
 "metadata": {
  "kernelspec": {
   "display_name": "Python 3 (ipykernel)",
   "language": "python",
   "name": "python3"
  },
  "language_info": {
   "codemirror_mode": {
    "name": "ipython",
    "version": 3
   },
   "file_extension": ".py",
   "mimetype": "text/x-python",
   "name": "python",
   "nbconvert_exporter": "python",
   "pygments_lexer": "ipython3",
   "version": "3.9.13"
  }
 },
 "nbformat": 4,
 "nbformat_minor": 5
}
