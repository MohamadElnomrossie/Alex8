{
 "cells": [
  {
   "cell_type": "code",
   "execution_count": 4,
   "id": "b33ae52e",
   "metadata": {},
   "outputs": [],
   "source": [
    "class student():\n",
    "    first_name='Ahmed'\n",
    "    last_name='Ali'\n",
    "    age=15\n",
    "    grade='m3'"
   ]
  },
  {
   "cell_type": "markdown",
   "id": "5912d69e",
   "metadata": {},
   "source": [
    "# Create an instance (instantiate) of the class"
   ]
  },
  {
   "cell_type": "code",
   "execution_count": 10,
   "id": "d0aa631c",
   "metadata": {},
   "outputs": [],
   "source": [
    "st1=student()\n",
    "st2=student()"
   ]
  },
  {
   "cell_type": "code",
   "execution_count": 15,
   "id": "094a01e9",
   "metadata": {},
   "outputs": [
    {
     "data": {
      "text/plain": [
       "<__main__.student at 0x1f4c77eb730>"
      ]
     },
     "execution_count": 15,
     "metadata": {},
     "output_type": "execute_result"
    }
   ],
   "source": [
    "student()"
   ]
  },
  {
   "cell_type": "code",
   "execution_count": 20,
   "id": "faeb017c",
   "metadata": {},
   "outputs": [],
   "source": [
    "st2.age=20"
   ]
  },
  {
   "cell_type": "code",
   "execution_count": 21,
   "id": "4e21b0f6",
   "metadata": {},
   "outputs": [
    {
     "data": {
      "text/plain": [
       "20"
      ]
     },
     "execution_count": 21,
     "metadata": {},
     "output_type": "execute_result"
    }
   ],
   "source": [
    "st2.age"
   ]
  },
  {
   "cell_type": "code",
   "execution_count": 22,
   "id": "4ff4de6b",
   "metadata": {},
   "outputs": [
    {
     "data": {
      "text/plain": [
       "15"
      ]
     },
     "execution_count": 22,
     "metadata": {},
     "output_type": "execute_result"
    }
   ],
   "source": [
    "st1.age"
   ]
  },
  {
   "cell_type": "code",
   "execution_count": 23,
   "id": "4f4eca94",
   "metadata": {},
   "outputs": [],
   "source": [
    "st2.first_name='Alaa'"
   ]
  },
  {
   "cell_type": "code",
   "execution_count": 24,
   "id": "cbb370c8",
   "metadata": {},
   "outputs": [
    {
     "data": {
      "text/plain": [
       "'Ahmed'"
      ]
     },
     "execution_count": 24,
     "metadata": {},
     "output_type": "execute_result"
    }
   ],
   "source": [
    "st1.first_name"
   ]
  },
  {
   "cell_type": "code",
   "execution_count": null,
   "id": "bac0d3c4",
   "metadata": {},
   "outputs": [],
   "source": []
  }
 ],
 "metadata": {
  "kernelspec": {
   "display_name": "Python 3 (ipykernel)",
   "language": "python",
   "name": "python3"
  },
  "language_info": {
   "codemirror_mode": {
    "name": "ipython",
    "version": 3
   },
   "file_extension": ".py",
   "mimetype": "text/x-python",
   "name": "python",
   "nbconvert_exporter": "python",
   "pygments_lexer": "ipython3",
   "version": "3.9.13"
  }
 },
 "nbformat": 4,
 "nbformat_minor": 5
}
