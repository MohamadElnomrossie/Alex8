{
 "cells": [
  {
   "cell_type": "code",
   "execution_count": 373,
   "id": "259d2511",
   "metadata": {},
   "outputs": [],
   "source": [
    "from abc import ABC, abstractmethod"
   ]
  },
  {
   "cell_type": "code",
   "execution_count": 374,
   "id": "d3e3d354",
   "metadata": {},
   "outputs": [],
   "source": [
    "class student():\n",
    "    nn=\"dsd\"\n",
    "    def __init__(self,name,age,grade,gender):\n",
    "        self.__name=name\n",
    "        self.__age=age\n",
    "        self.__grade=grade\n",
    "        self.__gender=gender\n",
    "        \n",
    "    def print_data(self):\n",
    "        print('name: ',self.__name)\n",
    "        print('age: ',self.__age)\n",
    "        print('grade: ',self.__grade)\n",
    "        print('gender: ',self.__gender)\n",
    "        \n",
    "    def change_name(self,name):\n",
    "        self.__name=name\n",
    "    def get_name(self):\n",
    "        return self.__name\n",
    "    def print_address(self):\n",
    "        print(self)"
   ]
  },
  {
   "cell_type": "markdown",
   "id": "a5aab64e",
   "metadata": {},
   "source": [
    "# Create an instance (instantiate) of the class"
   ]
  },
  {
   "cell_type": "code",
   "execution_count": 375,
   "id": "508839aa",
   "metadata": {},
   "outputs": [],
   "source": [
    "st1=student('Ahmed',15,9,'male')\n",
    "st2=student('Alaa',14,8,'female')"
   ]
  },
  {
   "cell_type": "code",
   "execution_count": 376,
   "id": "42c5dde4",
   "metadata": {},
   "outputs": [],
   "source": [
    "st1.change_name('Waleed')"
   ]
  },
  {
   "cell_type": "code",
   "execution_count": 377,
   "id": "fa4ecfdf",
   "metadata": {},
   "outputs": [],
   "source": [
    "class inherited(student):\n",
    "    def __init__(self,name,age,grade,gender):\n",
    "        super().__init__(name,age,grade,gender)\n",
    "    def print_data(self):\n",
    "        print('Hello')"
   ]
  },
  {
   "cell_type": "code",
   "execution_count": 378,
   "id": "f5ac42d2",
   "metadata": {},
   "outputs": [],
   "source": [
    "inh=inherited('Alaa',14,8,'female')\n"
   ]
  },
  {
   "cell_type": "code",
   "execution_count": 379,
   "id": "f638cb05",
   "metadata": {},
   "outputs": [
    {
     "ename": "SyntaxError",
     "evalue": "invalid syntax (2991202131.py, line 1)",
     "output_type": "error",
     "traceback": [
      "\u001b[1;36m  File \u001b[1;32m\"C:\\Users\\Mohammed\\AppData\\Local\\Temp\\ipykernel_13016\\2991202131.py\"\u001b[1;36m, line \u001b[1;32m1\u001b[0m\n\u001b[1;33m    inh.\u001b[0m\n\u001b[1;37m        ^\u001b[0m\n\u001b[1;31mSyntaxError\u001b[0m\u001b[1;31m:\u001b[0m invalid syntax\n"
     ]
    }
   ],
   "source": [
    "inh."
   ]
  },
  {
   "cell_type": "code",
   "execution_count": 380,
   "id": "95a85ebe",
   "metadata": {},
   "outputs": [],
   "source": [
    "st2.first_name='Alaa'"
   ]
  },
  {
   "cell_type": "code",
   "execution_count": 381,
   "id": "59fe857e",
   "metadata": {},
   "outputs": [
    {
     "ename": "AttributeError",
     "evalue": "'student' object has no attribute 'first_name'",
     "output_type": "error",
     "traceback": [
      "\u001b[1;31m---------------------------------------------------------------------------\u001b[0m",
      "\u001b[1;31mAttributeError\u001b[0m                            Traceback (most recent call last)",
      "\u001b[1;32m~\\AppData\\Local\\Temp\\ipykernel_13016\\3696409082.py\u001b[0m in \u001b[0;36m<module>\u001b[1;34m\u001b[0m\n\u001b[1;32m----> 1\u001b[1;33m \u001b[0mst1\u001b[0m\u001b[1;33m.\u001b[0m\u001b[0mfirst_name\u001b[0m\u001b[1;33m\u001b[0m\u001b[1;33m\u001b[0m\u001b[0m\n\u001b[0m",
      "\u001b[1;31mAttributeError\u001b[0m: 'student' object has no attribute 'first_name'"
     ]
    }
   ],
   "source": [
    "st1.first_name"
   ]
  },
  {
   "cell_type": "code",
   "execution_count": 382,
   "id": "daf67848",
   "metadata": {},
   "outputs": [],
   "source": [
    "class st():\n",
    "    name='dsdsd'"
   ]
  },
  {
   "cell_type": "code",
   "execution_count": 383,
   "id": "1b37de50",
   "metadata": {},
   "outputs": [],
   "source": [
    "h=st()\n",
    "b=st()"
   ]
  },
  {
   "cell_type": "code",
   "execution_count": 384,
   "id": "8c145aab",
   "metadata": {},
   "outputs": [
    {
     "data": {
      "text/plain": [
       "'dsdsd'"
      ]
     },
     "execution_count": 384,
     "metadata": {},
     "output_type": "execute_result"
    }
   ],
   "source": [
    "h.name"
   ]
  },
  {
   "cell_type": "code",
   "execution_count": 385,
   "id": "ce10b1dc",
   "metadata": {},
   "outputs": [
    {
     "ename": "TypeError",
     "evalue": "__init__() missing 4 required positional arguments: 'name', 'age', 'grade', and 'gender'",
     "output_type": "error",
     "traceback": [
      "\u001b[1;31m---------------------------------------------------------------------------\u001b[0m",
      "\u001b[1;31mTypeError\u001b[0m                                 Traceback (most recent call last)",
      "\u001b[1;32m~\\AppData\\Local\\Temp\\ipykernel_13016\\926314100.py\u001b[0m in \u001b[0;36m<module>\u001b[1;34m\u001b[0m\n\u001b[1;32m----> 1\u001b[1;33m \u001b[0msub\u001b[0m\u001b[1;33m=\u001b[0m\u001b[0mstudent\u001b[0m\u001b[1;33m(\u001b[0m\u001b[1;33m)\u001b[0m\u001b[1;33m\u001b[0m\u001b[1;33m\u001b[0m\u001b[0m\n\u001b[0m",
      "\u001b[1;31mTypeError\u001b[0m: __init__() missing 4 required positional arguments: 'name', 'age', 'grade', and 'gender'"
     ]
    }
   ],
   "source": [
    "sub=student()"
   ]
  },
  {
   "cell_type": "code",
   "execution_count": 386,
   "id": "1d7d2136",
   "metadata": {},
   "outputs": [],
   "source": [
    "sub.change_name(\"Ahmed\")"
   ]
  },
  {
   "cell_type": "code",
   "execution_count": 387,
   "id": "432bed5d",
   "metadata": {},
   "outputs": [
    {
     "name": "stdout",
     "output_type": "stream",
     "text": [
      "name:  Ahmed\n"
     ]
    },
    {
     "ename": "AttributeError",
     "evalue": "'student' object has no attribute '_student__age'",
     "output_type": "error",
     "traceback": [
      "\u001b[1;31m---------------------------------------------------------------------------\u001b[0m",
      "\u001b[1;31mAttributeError\u001b[0m                            Traceback (most recent call last)",
      "\u001b[1;32m~\\AppData\\Local\\Temp\\ipykernel_13016\\1533060492.py\u001b[0m in \u001b[0;36m<module>\u001b[1;34m\u001b[0m\n\u001b[1;32m----> 1\u001b[1;33m \u001b[0msub\u001b[0m\u001b[1;33m.\u001b[0m\u001b[0mprint_data\u001b[0m\u001b[1;33m(\u001b[0m\u001b[1;33m)\u001b[0m\u001b[1;33m\u001b[0m\u001b[1;33m\u001b[0m\u001b[0m\n\u001b[0m",
      "\u001b[1;32m~\\AppData\\Local\\Temp\\ipykernel_13016\\266055988.py\u001b[0m in \u001b[0;36mprint_data\u001b[1;34m(self)\u001b[0m\n\u001b[0;32m      4\u001b[0m     \u001b[1;32mdef\u001b[0m \u001b[0mprint_data\u001b[0m\u001b[1;33m(\u001b[0m\u001b[0mself\u001b[0m\u001b[1;33m)\u001b[0m\u001b[1;33m:\u001b[0m\u001b[1;33m\u001b[0m\u001b[1;33m\u001b[0m\u001b[0m\n\u001b[0;32m      5\u001b[0m         \u001b[0mprint\u001b[0m\u001b[1;33m(\u001b[0m\u001b[1;34m'name: '\u001b[0m\u001b[1;33m,\u001b[0m\u001b[0mself\u001b[0m\u001b[1;33m.\u001b[0m\u001b[0m__name\u001b[0m\u001b[1;33m)\u001b[0m\u001b[1;33m\u001b[0m\u001b[1;33m\u001b[0m\u001b[0m\n\u001b[1;32m----> 6\u001b[1;33m         \u001b[0mprint\u001b[0m\u001b[1;33m(\u001b[0m\u001b[1;34m'age: '\u001b[0m\u001b[1;33m,\u001b[0m\u001b[0mself\u001b[0m\u001b[1;33m.\u001b[0m\u001b[0m__age\u001b[0m\u001b[1;33m)\u001b[0m\u001b[1;33m\u001b[0m\u001b[1;33m\u001b[0m\u001b[0m\n\u001b[0m\u001b[0;32m      7\u001b[0m         \u001b[0mprint\u001b[0m\u001b[1;33m(\u001b[0m\u001b[1;34m'grade: '\u001b[0m\u001b[1;33m,\u001b[0m\u001b[0mself\u001b[0m\u001b[1;33m.\u001b[0m\u001b[0m__grade\u001b[0m\u001b[1;33m)\u001b[0m\u001b[1;33m\u001b[0m\u001b[1;33m\u001b[0m\u001b[0m\n\u001b[0;32m      8\u001b[0m         \u001b[0mprint\u001b[0m\u001b[1;33m(\u001b[0m\u001b[1;34m'gender: '\u001b[0m\u001b[1;33m,\u001b[0m\u001b[0mself\u001b[0m\u001b[1;33m.\u001b[0m\u001b[0m__gender\u001b[0m\u001b[1;33m)\u001b[0m\u001b[1;33m\u001b[0m\u001b[1;33m\u001b[0m\u001b[0m\n",
      "\u001b[1;31mAttributeError\u001b[0m: 'student' object has no attribute '_student__age'"
     ]
    }
   ],
   "source": [
    "sub.print_data()"
   ]
  },
  {
   "cell_type": "code",
   "execution_count": 388,
   "id": "2f08bc27",
   "metadata": {},
   "outputs": [],
   "source": [
    "class person():\n",
    "#     Constructor\n",
    "    def __init__(self,name,age,gender):\n",
    "        self.__name=name\n",
    "        self.__age=age\n",
    "        self.__gender=gender\n",
    "        \n",
    "    def set_name(self,name):\n",
    "        self.__name=name\n",
    "    def get_name(self):\n",
    "        return self.__name\n",
    "    \n",
    "    def set_age(self,age):\n",
    "        self.__age=age\n",
    "    def get_age(self):\n",
    "        return self.__age\n",
    "    def set_gender(self,gender):\n",
    "        self.__gender=gender\n",
    "    def __get_gender(self):\n",
    "        return self.__gender\n"
   ]
  },
  {
   "cell_type": "code",
   "execution_count": 389,
   "id": "2132e4b1",
   "metadata": {},
   "outputs": [],
   "source": [
    "class employee(person):\n",
    "    def __init__(self,name,age,gender,job,salary,department):\n",
    "        super().__init__(name,age,gender)\n",
    "        \n",
    "        self.__job=job\n",
    "        self.__department=department\n",
    "        self.__salary=salary\n",
    "        \n",
    "    def get_job(self):\n",
    "        return self.__job\n",
    "    def get_salary(salary):\n",
    "        return self.__salary\n",
    "    def get_department(self):\n",
    "        return self.__department"
   ]
  },
  {
   "cell_type": "code",
   "execution_count": 390,
   "id": "b444d135",
   "metadata": {},
   "outputs": [],
   "source": [
    "emp=employee('ahmed',25,'male','accountant',25,'hr')"
   ]
  },
  {
   "cell_type": "code",
   "execution_count": 391,
   "id": "e717b70e",
   "metadata": {},
   "outputs": [
    {
     "data": {
      "text/plain": [
       "25"
      ]
     },
     "execution_count": 391,
     "metadata": {},
     "output_type": "execute_result"
    }
   ],
   "source": [
    "emp.get_age()"
   ]
  },
  {
   "cell_type": "code",
   "execution_count": 392,
   "id": "8650b5cc",
   "metadata": {},
   "outputs": [
    {
     "ename": "AttributeError",
     "evalue": "'employee' object has no attribute 'ge'",
     "output_type": "error",
     "traceback": [
      "\u001b[1;31m---------------------------------------------------------------------------\u001b[0m",
      "\u001b[1;31mAttributeError\u001b[0m                            Traceback (most recent call last)",
      "\u001b[1;32m~\\AppData\\Local\\Temp\\ipykernel_13016\\3066127117.py\u001b[0m in \u001b[0;36m<module>\u001b[1;34m\u001b[0m\n\u001b[1;32m----> 1\u001b[1;33m \u001b[0memp\u001b[0m\u001b[1;33m.\u001b[0m\u001b[0mge\u001b[0m\u001b[1;33m\u001b[0m\u001b[1;33m\u001b[0m\u001b[0m\n\u001b[0m",
      "\u001b[1;31mAttributeError\u001b[0m: 'employee' object has no attribute 'ge'"
     ]
    }
   ],
   "source": [
    "emp.ge"
   ]
  },
  {
   "cell_type": "code",
   "execution_count": 393,
   "id": "41ae07a3",
   "metadata": {},
   "outputs": [],
   "source": [
    "per.set_age(15)"
   ]
  },
  {
   "cell_type": "code",
   "execution_count": 394,
   "id": "038fd701",
   "metadata": {},
   "outputs": [
    {
     "data": {
      "text/plain": [
       "15"
      ]
     },
     "execution_count": 394,
     "metadata": {},
     "output_type": "execute_result"
    }
   ],
   "source": [
    "per.age"
   ]
  },
  {
   "cell_type": "code",
   "execution_count": 395,
   "id": "2aa72c3c",
   "metadata": {},
   "outputs": [],
   "source": [
    "p=person('ahmed',25,'male')"
   ]
  },
  {
   "cell_type": "markdown",
   "id": "33ba4128",
   "metadata": {},
   "source": [
    "# Abstraction"
   ]
  },
  {
   "cell_type": "code",
   "execution_count": 396,
   "id": "d5520ac3",
   "metadata": {},
   "outputs": [],
   "source": [
    "class shape():\n",
    "#     Constructor\n",
    "    def __init__(self):\n",
    "        self.__name=None\n",
    "        \n",
    "    @abstractmethod\n",
    "    def set_type(self):\n",
    "        pass\n",
    "        \n",
    "    @abstractmethod  \n",
    "    def set_area(self):\n",
    "        pass\n",
    "\n"
   ]
  },
  {
   "cell_type": "code",
   "execution_count": 404,
   "id": "8726ea47",
   "metadata": {},
   "outputs": [],
   "source": [
    "class build_shape(shape):\n",
    "    def __init__(self):\n",
    "        pass\n",
    "    def set_type(self):\n",
    "        print('dsds')\n",
    "    def set_area(self):\n",
    "        print('child')\n"
   ]
  },
  {
   "cell_type": "code",
   "execution_count": 398,
   "id": "3fac714d",
   "metadata": {},
   "outputs": [],
   "source": [
    "bs=build_shape()"
   ]
  },
  {
   "cell_type": "code",
   "execution_count": 399,
   "id": "cda6d7e9",
   "metadata": {},
   "outputs": [
    {
     "name": "stdout",
     "output_type": "stream",
     "text": [
      "child\n"
     ]
    }
   ],
   "source": [
    "bs.set_area()"
   ]
  },
  {
   "cell_type": "markdown",
   "id": "06aa6c2b",
   "metadata": {},
   "source": [
    "# polymorphism"
   ]
  },
  {
   "cell_type": "code",
   "execution_count": 400,
   "id": "1f4395d4",
   "metadata": {},
   "outputs": [],
   "source": [
    "class shape(ABC):\n",
    "    @abstractmethod\n",
    "    def set_area(self):\n",
    "        pass"
   ]
  },
  {
   "cell_type": "code",
   "execution_count": 401,
   "id": "099206c3",
   "metadata": {},
   "outputs": [],
   "source": [
    "class circle(shape):\n",
    "    pass\n",
    "#     def set_area(self):\n",
    "#         print('child shape')\n"
   ]
  },
  {
   "cell_type": "code",
   "execution_count": 402,
   "id": "3127c974",
   "metadata": {},
   "outputs": [
    {
     "ename": "TypeError",
     "evalue": "Can't instantiate abstract class circle with abstract method set_area",
     "output_type": "error",
     "traceback": [
      "\u001b[1;31m---------------------------------------------------------------------------\u001b[0m",
      "\u001b[1;31mTypeError\u001b[0m                                 Traceback (most recent call last)",
      "\u001b[1;32m~\\AppData\\Local\\Temp\\ipykernel_13016\\170997003.py\u001b[0m in \u001b[0;36m<module>\u001b[1;34m\u001b[0m\n\u001b[1;32m----> 1\u001b[1;33m \u001b[0mc\u001b[0m\u001b[1;33m=\u001b[0m\u001b[0mcircle\u001b[0m\u001b[1;33m(\u001b[0m\u001b[1;33m)\u001b[0m\u001b[1;33m\u001b[0m\u001b[1;33m\u001b[0m\u001b[0m\n\u001b[0m",
      "\u001b[1;31mTypeError\u001b[0m: Can't instantiate abstract class circle with abstract method set_area"
     ]
    }
   ],
   "source": [
    "c=circle()"
   ]
  },
  {
   "cell_type": "code",
   "execution_count": 403,
   "id": "f54211d6",
   "metadata": {},
   "outputs": [],
   "source": [
    "c.set_area()"
   ]
  },
  {
   "cell_type": "code",
   "execution_count": null,
   "id": "a17795cc",
   "metadata": {},
   "outputs": [],
   "source": []
  },
  {
   "cell_type": "code",
   "execution_count": null,
   "id": "1a19ec75",
   "metadata": {},
   "outputs": [],
   "source": []
  }
 ],
 "metadata": {
  "kernelspec": {
   "display_name": "Python 3 (ipykernel)",
   "language": "python",
   "name": "python3"
  },
  "language_info": {
   "codemirror_mode": {
    "name": "ipython",
    "version": 3
   },
   "file_extension": ".py",
   "mimetype": "text/x-python",
   "name": "python",
   "nbconvert_exporter": "python",
   "pygments_lexer": "ipython3",
   "version": "3.9.13"
  }
 },
 "nbformat": 4,
 "nbformat_minor": 5
}
