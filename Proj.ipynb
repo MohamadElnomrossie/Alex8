{
 "cells": [
  {
   "cell_type": "code",
   "execution_count": 1,
   "metadata": {},
   "outputs": [],
   "source": [
    "from prettytable import PrettyTable"
   ]
  },
  {
   "cell_type": "code",
   "execution_count": 3,
   "metadata": {},
   "outputs": [
    {
     "name": "stdout",
     "output_type": "stream",
     "text": [
      "\n",
      "Stationary Store Products:\n",
      "+----------+-------+----------+\n",
      "|   Name   | Price | Quantity |\n",
      "+----------+-------+----------+\n",
      "| Notebook |  50.0 |   500    |\n",
      "|   Pen    |  10.0 |   1000   |\n",
      "|  Pencil  |  5.0  |   1500   |\n",
      "|  Eraser  |  3.0  |   800    |\n",
      "|  Ruler   |  20.0 |   300    |\n",
      "+----------+-------+----------+\n"
     ]
    }
   ],
   "source": [
    " stationary_products = [\n",
    "        {\"Name\": \"Notebook\", \"Price\": 50.0, \"Quantity\": 500},\n",
    "        {\"Name\": \"Pen\", \"Price\": 10.0, \"Quantity\": 1000},\n",
    "        {\"Name\": \"Pencil\", \"Price\": 5.0, \"Quantity\": 1500},\n",
    "        {\"Name\": \"Eraser\", \"Price\": 3.0, \"Quantity\": 800},\n",
    "        {\"Name\": \"Ruler\", \"Price\": 20.0, \"Quantity\": 300}\n",
    "    ]\n",
    "\n",
    "stationary_table = PrettyTable()\n",
    "stationary_table.field_names = [\"Name\", \"Price\", \"Quantity\"]\n",
    "for product in stationary_products:\n",
    "    stationary_table.add_row([product[\"Name\"], product[\"Price\"], product[\"Quantity\"]])\n",
    "print(\"\\nStationary Store Products:\")\n",
    "print(stationary_table)"
   ]
  }
 ],
 "metadata": {
  "colab": {
   "provenance": []
  },
  "kernelspec": {
   "display_name": "Python 3 (ipykernel)",
   "language": "python",
   "name": "python3"
  },
  "language_info": {
   "codemirror_mode": {
    "name": "ipython",
    "version": 3
   },
   "file_extension": ".py",
   "mimetype": "text/x-python",
   "name": "python",
   "nbconvert_exporter": "python",
   "pygments_lexer": "ipython3",
   "version": "3.9.13"
  }
 },
 "nbformat": 4,
 "nbformat_minor": 1
}
