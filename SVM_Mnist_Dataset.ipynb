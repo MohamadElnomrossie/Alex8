{
  "cells": [
    {
      "cell_type": "code",
      "execution_count": 1,
      "id": "cc98f595-dfd7-445f-a354-02b382efb045",
      "metadata": {
        "id": "cc98f595-dfd7-445f-a354-02b382efb045"
      },
      "outputs": [],
      "source": [
        "# Standard scientific Python imports\n",
        "import matplotlib.pyplot as plt\n",
        "\n",
        "# Import datasets, classifiers and performance metrics\n",
        "from sklearn import datasets, metrics, svm\n",
        "from sklearn.model_selection import train_test_split\n",
        "import cv2 as cv"
      ]
    },
    {
      "cell_type": "code",
      "execution_count": null,
      "id": "c42df754-c5fb-4f00-bd79-a4ef62a4f446",
      "metadata": {
        "colab": {
          "base_uri": "https://localhost:8080/",
          "height": 190
        },
        "id": "c42df754-c5fb-4f00-bd79-a4ef62a4f446",
        "outputId": "47595dc2-2b44-4210-9e05-f0a7e5e8e98e"
      },
      "outputs": [
        {
          "output_type": "display_data",
          "data": {
            "text/plain": [
              "<Figure size 1000x300 with 4 Axes>"
            ],
            "image/png": "[encoded data removed]"
          },
          "metadata": {}
        }
      ],
      "source": [
        "digits = datasets.load_digits()\n",
        "\n",
        "_, axes = plt.subplots(nrows=1, ncols=4, figsize=(10, 3))\n",
        "for ax, image, label in zip(axes, digits.images, digits.target):\n",
        "    ax.set_axis_off()\n",
        "    ax.imshow(image, cmap=plt.cm.gray_r, interpolation=\"nearest\")\n",
        "    ax.set_title(\"Training: %i\" % label)"
      ]
    },
    {
      "cell_type": "code",
      "source": [
        "n_samples = len(digits.images)"
      ],
      "metadata": {
        "id": "afyn7HID1ZJ3"
      },
      "id": "afyn7HID1ZJ3",
      "execution_count": null,
      "outputs": []
    },
    {
      "cell_type": "code",
      "source": [
        "a=digits.images"
      ],
      "metadata": {
        "id": "Tvm_3jgt5QHZ"
      },
      "id": "Tvm_3jgt5QHZ",
      "execution_count": null,
      "outputs": []
    },
    {
      "cell_type": "code",
      "source": [
        "a.shape"
      ],
      "metadata": {
        "colab": {
          "base_uri": "https://localhost:8080/"
        },
        "id": "YD1NnrDU5Gi6",
        "outputId": "616d5730-191c-4bc8-e396-e10ad6e0e934"
      },
      "id": "YD1NnrDU5Gi6",
      "execution_count": null,
      "outputs": [
        {
          "output_type": "execute_result",
          "data": {
            "text/plain": [
              "(1797, 8, 8)"
            ]
          },
          "metadata": {},
          "execution_count": 11
        }
      ]
    },
    {
      "cell_type": "code",
      "source": [
        "n_samples"
      ],
      "metadata": {
        "colab": {
          "base_uri": "https://localhost:8080/"
        },
        "id": "Hpy_ADaM1ajQ",
        "outputId": "7905eff4-3d1a-464a-a290-97eebc503d5d"
      },
      "id": "Hpy_ADaM1ajQ",
      "execution_count": null,
      "outputs": [
        {
          "output_type": "execute_result",
          "data": {
            "text/plain": [
              "1797"
            ]
          },
          "metadata": {},
          "execution_count": 12
        }
      ]
    },
    {
      "cell_type": "code",
      "source": [
        "data = digits.images.reshape((n_samples, -1))"
      ],
      "metadata": {
        "id": "nrGk1C1Q1fOv"
      },
      "id": "nrGk1C1Q1fOv",
      "execution_count": null,
      "outputs": []
    },
    {
      "cell_type": "code",
      "source": [
        "data.shape"
      ],
      "metadata": {
        "colab": {
          "base_uri": "https://localhost:8080/"
        },
        "id": "15hJB-bh5jaR",
        "outputId": "597427c6-b04e-4320-da66-886439582a6a"
      },
      "id": "15hJB-bh5jaR",
      "execution_count": null,
      "outputs": [
        {
          "output_type": "execute_result",
          "data": {
            "text/plain": [
              "(1797, 64)"
            ]
          },
          "metadata": {},
          "execution_count": 14
        }
      ]
    },
    {
      "cell_type": "code",
      "source": [
        "len(data)"
      ],
      "metadata": {
        "colab": {
          "base_uri": "https://localhost:8080/"
        },
        "id": "Ss9TVf2O1gZa",
        "outputId": "19427f57-a962-4bdc-fb99-79ccdf80146b"
      },
      "id": "Ss9TVf2O1gZa",
      "execution_count": null,
      "outputs": [
        {
          "output_type": "execute_result",
          "data": {
            "text/plain": [
              "1797"
            ]
          },
          "metadata": {},
          "execution_count": 15
        }
      ]
    },
    {
      "cell_type": "code",
      "source": [
        "data.ndim"
      ],
      "metadata": {
        "colab": {
          "base_uri": "https://localhost:8080/"
        },
        "id": "9_izOZks2Qg2",
        "outputId": "6a98116a-594e-4bf1-8f2e-0d8985509d78"
      },
      "id": "9_izOZks2Qg2",
      "execution_count": null,
      "outputs": [
        {
          "output_type": "execute_result",
          "data": {
            "text/plain": [
              "2"
            ]
          },
          "metadata": {},
          "execution_count": 16
        }
      ]
    },
    {
      "cell_type": "code",
      "source": [
        "data.size"
      ],
      "metadata": {
        "colab": {
          "base_uri": "https://localhost:8080/"
        },
        "id": "l_I0pm-k1o-U",
        "outputId": "109e4af7-3792-4403-ef8a-ebe5e334708a"
      },
      "id": "l_I0pm-k1o-U",
      "execution_count": null,
      "outputs": [
        {
          "output_type": "execute_result",
          "data": {
            "text/plain": [
              "115008"
            ]
          },
          "metadata": {},
          "execution_count": 17
        }
      ]
    },
    {
      "cell_type": "code",
      "execution_count": null,
      "id": "96f372a9-c6b0-4093-9e5f-50697f8a7c7d",
      "metadata": {
        "colab": {
          "base_uri": "https://localhost:8080/"
        },
        "id": "96f372a9-c6b0-4093-9e5f-50697f8a7c7d",
        "outputId": "eba56d60-acac-4074-976b-0a9e667734ab"
      },
      "outputs": [
        {
          "output_type": "execute_result",
          "data": {
            "text/plain": [
              "array([2, 6, 9, 4, 8, 6, 1, 1, 6, 8, 8, 8, 7, 9, 1, 1, 7, 6, 9, 2, 2, 3,\n",
              "       7, 4, 8, 9, 2, 3, 8, 9, 1, 1, 1, 7, 3, 3, 4, 3, 6, 8, 6, 4, 7, 4,\n",
              "       1, 9, 1, 9, 0, 9, 8, 3, 2, 7, 6, 4, 0, 2, 0, 2, 9, 9, 2, 1, 2, 0,\n",
              "       4, 4, 5, 2, 7, 1, 2, 9, 7, 2, 2, 8, 6, 0, 7, 1, 0, 0, 3, 0, 5, 0,\n",
              "       3, 0, 1, 7, 2, 6, 8, 1, 3, 1, 8, 1, 2, 5, 4, 0, 0, 6, 4, 5, 3, 2,\n",
              "       9, 0, 8, 7, 4, 9, 0, 9, 8, 6, 0, 0, 0, 3, 0, 2, 0, 5, 5, 1, 6, 5,\n",
              "       6, 1, 5, 0, 0, 8, 1, 6, 6, 2, 8, 8, 3, 2, 0, 6, 5, 0, 1, 0, 5, 8,\n",
              "       0, 0, 1, 5, 0, 4, 3, 4, 7, 9, 9, 1, 5, 6, 2, 2, 2, 7, 6, 6, 0, 2,\n",
              "       2, 6, 4, 5, 6, 3, 8, 4, 9, 6, 7, 5, 5, 9, 7, 2, 0, 7, 0, 9, 5, 5,\n",
              "       1, 8, 6, 2, 6, 2, 0, 7, 6, 9, 0, 7, 0, 8, 7, 6, 3, 9, 9, 3, 4, 8,\n",
              "       2, 9, 6, 0, 0, 6, 8, 8, 4, 0, 6, 1, 1, 4, 4, 6, 1, 8, 5, 8, 8, 3,\n",
              "       9, 8, 8, 1, 0, 5, 4, 9, 7, 5, 4, 6, 6, 2, 6, 1, 0, 4, 8, 2, 4, 6,\n",
              "       4, 5, 5, 1, 3, 3, 9, 2, 7, 1, 1, 3, 5, 4, 2, 6, 3, 2, 2, 1, 4, 5,\n",
              "       8, 7, 9, 1, 8, 4, 7, 7, 6, 7, 2, 7, 6, 9, 3, 7, 5, 2, 9, 2, 0, 3,\n",
              "       2, 5, 5, 9, 8, 2, 8, 9, 9, 3, 7, 9, 4, 9, 4, 4, 8, 0, 1, 3, 6, 5,\n",
              "       0, 3, 6, 6, 7, 3, 2, 4, 7, 1, 2, 6, 8, 2, 5, 1, 8, 6, 7, 7, 0, 2,\n",
              "       0, 6, 9, 6, 8, 9, 1, 4, 1, 8, 3, 0, 1, 1, 4, 8, 7, 4, 4, 1, 5, 5,\n",
              "       5, 8, 2, 3, 6, 5, 3, 7, 1, 0, 6, 5, 3, 7, 8, 9, 9, 6, 0, 1, 5, 5,\n",
              "       5, 1, 0, 6, 2, 5, 1, 0, 5, 0, 7, 9, 1, 0, 7, 0, 5, 3, 8, 5, 0, 6,\n",
              "       7, 0, 2, 2, 0, 4, 0, 1, 8, 9, 4, 1, 6, 6, 3, 3, 6, 9, 2, 9, 1, 9,\n",
              "       2, 4, 3, 5, 8, 5, 2, 2, 5, 7, 9, 0, 4, 0, 2, 5, 5, 9, 7, 6, 2, 7,\n",
              "       2, 0, 9, 8, 6, 2, 1, 0, 0, 1, 1, 9, 6, 6, 1, 2, 4, 0, 4, 5, 4, 7,\n",
              "       6, 5, 2, 3, 1, 6, 3, 3, 1, 4, 4, 0, 9, 5, 1, 9, 0, 1, 4, 1, 5, 4,\n",
              "       8, 3, 8, 3, 4, 1, 6, 8, 7, 6, 8, 3, 8, 9, 9, 7, 7, 0, 1, 8, 3, 6,\n",
              "       4, 4, 4, 5, 9, 9, 9, 5, 2, 6, 4, 6, 1, 0, 2, 8, 6, 0, 9, 5, 0, 8,\n",
              "       7, 3, 8, 7, 1, 0, 6, 0, 3, 1, 9, 9, 5, 7, 8, 7, 0, 7, 9, 0, 8, 7,\n",
              "       4, 9, 0, 1, 2, 3, 0, 5, 0, 4, 4, 7, 1, 6, 8, 7, 7, 2, 3, 4, 8, 1,\n",
              "       0, 1, 0, 0, 2, 5, 7, 8, 1, 2, 4, 4, 9, 4, 1, 9, 1, 4, 7, 0, 1, 2,\n",
              "       1, 8, 8, 3, 7, 1, 0, 9, 2, 3, 6, 6, 9, 8, 0, 6, 5, 9, 5, 9, 8, 1,\n",
              "       4, 5, 5, 8, 9, 2, 0, 7, 6, 2, 9, 3, 9, 9, 6, 9, 0, 4, 1, 6, 4, 6,\n",
              "       6, 3, 4, 9, 3, 5, 8, 0, 8, 7, 2, 5, 2, 1, 9, 1, 5, 5, 6, 0, 2, 3,\n",
              "       8, 5, 4, 7, 7, 5, 7, 2, 5, 1, 3, 2, 7, 1, 6, 7, 6, 3, 0, 7, 9, 4,\n",
              "       2, 7, 4, 6, 3, 8, 3, 6, 4, 5, 5, 1, 9, 8, 1, 9, 0, 7, 3, 5, 4, 6,\n",
              "       0, 7, 2, 1, 8, 8, 3, 5, 5, 1, 6, 7, 3, 6, 6, 7, 0, 9, 6, 2, 8, 0,\n",
              "       3, 4, 5, 4, 3, 7, 4, 2, 9, 4, 6, 8, 8, 8, 3, 3, 0, 0, 6, 7, 6, 6,\n",
              "       5, 5, 9, 9, 7, 1, 9, 3, 5, 3, 2, 1, 6, 5, 8, 9, 3, 4, 6, 5, 3, 4,\n",
              "       3, 6, 5, 5, 8, 4, 5, 7, 4, 7, 4, 7, 4, 8, 3, 1, 3, 7, 5, 3, 7, 2,\n",
              "       4, 2, 1, 9, 8, 6, 8, 3, 1, 6, 4, 9, 1, 6, 5, 4, 4, 4, 4, 9, 4, 3,\n",
              "       2, 7, 1, 2, 3, 5, 7, 7, 3, 0, 9, 3, 6, 1, 8, 2, 0, 5, 3, 8, 1, 7,\n",
              "       3, 6, 0, 3, 6, 3, 6, 5, 7, 8, 6, 2, 8, 3, 2, 1, 3, 5, 3, 4, 6, 7,\n",
              "       1, 4, 6, 0, 9, 1, 4, 3, 4, 0, 6, 2, 7, 5, 1, 9, 4, 1, 2])"
            ]
          },
          "metadata": {},
          "execution_count": 18
        }
      ],
      "source": [
        "# flatten the images\n",
        "n_samples = len(digits.images)\n",
        "data = digits.images.reshape((n_samples, -1))\n",
        "\n",
        "# Create a classifier: a support vector classifier\n",
        "clf = svm.SVC(gamma=0.001)\n",
        "\n",
        "# Split data into 50% train and 50% test subsets\n",
        "X_train, X_test, y_train, y_test = train_test_split(\n",
        "    data, digits.target, test_size=0.5, shuffle=True\n",
        ")\n",
        "\n",
        "# Learn the digits on the train subset\n",
        "clf.fit(X_train, y_train)\n",
        "\n",
        "# Predict the value of the digit on the test subset\n",
        "predicted = clf.predict(X_test)\n",
        "predicted"
      ]
    },
    {
      "cell_type": "code",
      "execution_count": null,
      "id": "32f2570f-c18e-42b1-b46b-e30f802ce8cc",
      "metadata": {
        "colab": {
          "base_uri": "https://localhost:8080/"
        },
        "id": "32f2570f-c18e-42b1-b46b-e30f802ce8cc",
        "outputId": "19b5951a-0a83-4994-a447-3109c5f9af66"
      },
      "outputs": [
        {
          "output_type": "stream",
          "name": "stdout",
          "text": [
            "Classification report for classifier SVC(gamma=0.001):\n",
            "              precision    recall  f1-score   support\n",
            "\n",
            "           0       1.00      0.99      0.99        97\n",
            "           1       0.95      1.00      0.97        92\n",
            "           2       1.00      1.00      1.00        86\n",
            "           3       1.00      0.99      0.99        85\n",
            "           4       0.99      1.00      0.99        89\n",
            "           5       0.99      1.00      0.99        87\n",
            "           6       1.00      1.00      1.00       102\n",
            "           7       0.99      0.99      0.99        85\n",
            "           8       0.99      0.94      0.97        88\n",
            "           9       0.99      0.98      0.98        88\n",
            "\n",
            "    accuracy                           0.99       899\n",
            "   macro avg       0.99      0.99      0.99       899\n",
            "weighted avg       0.99      0.99      0.99       899\n",
            "\n",
            "\n"
          ]
        }
      ],
      "source": [
        "print(\n",
        "    f\"Classification report for classifier {clf}:\\n\"\n",
        "    f\"{metrics.classification_report(y_test, predicted)}\\n\"\n",
        ")"
      ]
    },
    {
      "cell_type": "code",
      "source": [
        "X_test"
      ],
      "metadata": {
        "colab": {
          "base_uri": "https://localhost:8080/"
        },
        "id": "bZP35Lqu8gHV",
        "outputId": "113b584b-892d-4e7a-cfd0-61ff54e8a4f9"
      },
      "id": "bZP35Lqu8gHV",
      "execution_count": null,
      "outputs": [
        {
          "output_type": "execute_result",
          "data": {
            "text/plain": [
              "array([[ 0.,  3., 15., ..., 12.,  9.,  0.],\n",
              "       [ 0.,  0.,  0., ...,  9.,  0.,  0.],\n",
              "       [ 0.,  0.,  2., ..., 14.,  0.,  0.],\n",
              "       ...,\n",
              "       [ 0.,  0.,  0., ...,  0.,  0.,  0.],\n",
              "       [ 0.,  0.,  0., ..., 14.,  0.,  0.],\n",
              "       [ 0.,  3., 15., ..., 16., 15.,  0.]])"
            ]
          },
          "metadata": {},
          "execution_count": 20
        }
      ]
    },
    {
      "cell_type": "code",
      "source": [
        "X_test.shape"
      ],
      "metadata": {
        "colab": {
          "base_uri": "https://localhost:8080/"
        },
        "id": "iAs_QFZ38hwj",
        "outputId": "0941b7c3-ef92-42f6-f72b-bc02c1dd4b4d"
      },
      "id": "iAs_QFZ38hwj",
      "execution_count": null,
      "outputs": [
        {
          "output_type": "execute_result",
          "data": {
            "text/plain": [
              "(899, 64)"
            ]
          },
          "metadata": {},
          "execution_count": 21
        }
      ]
    },
    {
      "cell_type": "code",
      "source": [],
      "metadata": {
        "id": "VUgQ3PgH8nBS"
      },
      "id": "VUgQ3PgH8nBS",
      "execution_count": null,
      "outputs": []
    },
    {
      "cell_type": "code",
      "source": [
        "X_test[12].shape"
      ],
      "metadata": {
        "colab": {
          "base_uri": "https://localhost:8080/"
        },
        "id": "XRM-GcxW8lGf",
        "outputId": "0534cd5e-8e29-4013-99b6-1b237af2aafb"
      },
      "id": "XRM-GcxW8lGf",
      "execution_count": null,
      "outputs": [
        {
          "output_type": "execute_result",
          "data": {
            "text/plain": [
              "(64,)"
            ]
          },
          "metadata": {},
          "execution_count": 22
        }
      ]
    },
    {
      "cell_type": "code",
      "execution_count": null,
      "id": "43341341-2551-447c-8297-03f7af18de16",
      "metadata": {
        "colab": {
          "base_uri": "https://localhost:8080/",
          "height": 448
        },
        "id": "43341341-2551-447c-8297-03f7af18de16",
        "outputId": "673a7cc9-3f1b-4850-bf48-2609fc53bb5a"
      },
      "outputs": [
        {
          "output_type": "execute_result",
          "data": {
            "text/plain": [
              "array([7])"
            ]
          },
          "metadata": {},
          "execution_count": 23
        },
        {
          "output_type": "display_data",
          "data": {
            "text/plain": [
              "<Figure size 640x480 with 1 Axes>"
            ],
            "image/png": "[encoded data removed]"
          },
          "metadata": {}
        }
      ],
      "source": [
        "\n",
        "plt.imshow(X_test[12].reshape(8,8),cmap='gray')\n",
        "clf.predict(X_test[12].reshape(1,-1))"
      ]
    },
    {
      "cell_type": "code",
      "execution_count": null,
      "id": "570a708d-0ed4-4fc5-881c-aa7bb64a2e45",
      "metadata": {
        "id": "570a708d-0ed4-4fc5-881c-aa7bb64a2e45",
        "outputId": "8b0f3702-e12f-46b0-f0d9-6d2e577206cf",
        "colab": {
          "base_uri": "https://localhost:8080/"
        }
      },
      "outputs": [
        {
          "output_type": "execute_result",
          "data": {
            "text/plain": [
              "array([ 0.,  0.,  1., 14.,  2.,  0.,  0.,  0.,  0.,  0.,  0., 16.,  5.,\n",
              "        0.,  0.,  0.,  0.,  0.,  0., 14., 10.,  0.,  0.,  0.,  0.,  0.,\n",
              "        0., 11., 16.,  1.,  0.,  0.,  0.,  0.,  0.,  3., 14.,  6.,  0.,\n",
              "        0.,  0.,  0.,  0.,  0.,  8., 12.,  0.,  0.,  0.,  0., 10., 14.,\n",
              "       13., 16.,  8.,  3.,  0.,  0.,  2., 11., 12., 15., 16., 15.])"
            ]
          },
          "metadata": {},
          "execution_count": 24
        }
      ],
      "source": [
        "data[1000]"
      ]
    },
    {
      "cell_type": "code",
      "execution_count": null,
      "id": "b3c4fd55-2641-47d2-b1fc-000a4c31c016",
      "metadata": {
        "id": "b3c4fd55-2641-47d2-b1fc-000a4c31c016"
      },
      "outputs": [],
      "source": [
        "img=cv.imread('zero.jpg')"
      ]
    },
    {
      "cell_type": "code",
      "execution_count": null,
      "id": "3903a638",
      "metadata": {
        "id": "3903a638",
        "colab": {
          "base_uri": "https://localhost:8080/",
          "height": 164
        },
        "outputId": "9d0fbcae-e354-4d9f-ef7a-9519dac9db71"
      },
      "outputs": [
        {
          "output_type": "error",
          "ename": "error",
          "evalue": "OpenCV(4.10.0) /io/opencv/modules/imgproc/src/color.cpp:196: error: (-215:Assertion failed) !_src.empty() in function 'cvtColor'\n",
          "traceback": [
            "\u001b[0;31m---------------------------------------------------------------------------\u001b[0m",
            "\u001b[0;31merror\u001b[0m                                     Traceback (most recent call last)",
            "\u001b[0;32m<ipython-input-26-570cb9e7a4a5>\u001b[0m in \u001b[0;36m<cell line: 1>\u001b[0;34m()\u001b[0m\n\u001b[0;32m----> 1\u001b[0;31m \u001b[0mimg\u001b[0m\u001b[0;34m=\u001b[0m \u001b[0mcv\u001b[0m\u001b[0;34m.\u001b[0m\u001b[0mcvtColor\u001b[0m\u001b[0;34m(\u001b[0m\u001b[0mimg\u001b[0m\u001b[0;34m,\u001b[0m \u001b[0mcv\u001b[0m\u001b[0;34m.\u001b[0m\u001b[0mCOLOR_BGR2GRAY\u001b[0m\u001b[0;34m)\u001b[0m\u001b[0;34m\u001b[0m\u001b[0;34m\u001b[0m\u001b[0m\n\u001b[0m",
            "\u001b[0;31merror\u001b[0m: OpenCV(4.10.0) /io/opencv/modules/imgproc/src/color.cpp:196: error: (-215:Assertion failed) !_src.empty() in function 'cvtColor'\n"
          ]
        }
      ],
      "source": [
        "img= cv.cvtColor(img, cv.COLOR_BGR2GRAY)"
      ]
    },
    {
      "cell_type": "code",
      "execution_count": null,
      "id": "9ef460ae",
      "metadata": {
        "id": "9ef460ae"
      },
      "outputs": [],
      "source": [
        "img=cv.resize(img,(8,8))"
      ]
    },
    {
      "cell_type": "code",
      "execution_count": null,
      "id": "f5351ca3",
      "metadata": {
        "id": "f5351ca3"
      },
      "outputs": [],
      "source": [
        "clf.predict(i)"
      ]
    },
    {
      "cell_type": "code",
      "execution_count": null,
      "id": "63621c32",
      "metadata": {
        "id": "63621c32"
      },
      "outputs": [],
      "source": [
        "i=cv.resize(img,(8,8))"
      ]
    },
    {
      "cell_type": "code",
      "execution_count": null,
      "id": "493c6d67",
      "metadata": {
        "id": "493c6d67"
      },
      "outputs": [],
      "source": [
        "i=i.reshape(1,-1)"
      ]
    },
    {
      "cell_type": "code",
      "execution_count": null,
      "id": "dee7ae65",
      "metadata": {
        "id": "dee7ae65"
      },
      "outputs": [],
      "source": [
        "clf.predict(i)"
      ]
    },
    {
      "cell_type": "code",
      "execution_count": null,
      "id": "dad98829",
      "metadata": {
        "id": "dad98829"
      },
      "outputs": [],
      "source": []
    }
  ],
  "metadata": {
    "kernelspec": {
      "display_name": "Python 3 (ipykernel)",
      "language": "python",
      "name": "python3"
    },
    "language_info": {
      "codemirror_mode": {
        "name": "ipython",
        "version": 3
      },
      "file_extension": ".py",
      "mimetype": "text/x-python",
      "name": "python",
      "nbconvert_exporter": "python",
      "pygments_lexer": "ipython3",
      "version": "3.9.13"
    },
    "colab": {
      "provenance": []
    }
  },
  "nbformat": 4,
  "nbformat_minor": 5
}