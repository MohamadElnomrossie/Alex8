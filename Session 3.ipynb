{
 "cells": [
  {
   "cell_type": "code",
   "execution_count": 187,
   "id": "84f7845d",
   "metadata": {},
   "outputs": [],
   "source": [
    "import string"
   ]
  },
  {
   "cell_type": "code",
   "execution_count": 2,
   "id": "29e74097",
   "metadata": {},
   "outputs": [],
   "source": [
    "numbers=[]\n",
    "for i in range(10):\n",
    "    numbers.append(i)"
   ]
  },
  {
   "cell_type": "code",
   "execution_count": 3,
   "id": "9e119990",
   "metadata": {},
   "outputs": [
    {
     "data": {
      "text/plain": [
       "[0, 1, 2, 3, 4, 5, 6, 7, 8, 9]"
      ]
     },
     "execution_count": 3,
     "metadata": {},
     "output_type": "execute_result"
    }
   ],
   "source": [
    "numbers"
   ]
  },
  {
   "cell_type": "code",
   "execution_count": 6,
   "id": "1783d64c",
   "metadata": {},
   "outputs": [],
   "source": [
    "names=[i for i in range(4)]"
   ]
  },
  {
   "cell_type": "code",
   "execution_count": 7,
   "id": "5c0f3328",
   "metadata": {},
   "outputs": [
    {
     "data": {
      "text/plain": [
       "[0, 1, 2, 3]"
      ]
     },
     "execution_count": 7,
     "metadata": {},
     "output_type": "execute_result"
    }
   ],
   "source": [
    "names"
   ]
  },
  {
   "cell_type": "code",
   "execution_count": 11,
   "id": "85b16f07",
   "metadata": {},
   "outputs": [],
   "source": [
    "let=['a','b','c','d','e']"
   ]
  },
  {
   "cell_type": "code",
   "execution_count": 12,
   "id": "49b38ed1",
   "metadata": {},
   "outputs": [],
   "source": [
    "container={k:v for k,v in zip(let,names)}"
   ]
  },
  {
   "cell_type": "code",
   "execution_count": 13,
   "id": "32a32bf8",
   "metadata": {},
   "outputs": [
    {
     "data": {
      "text/plain": [
       "{'a': 0, 'b': 1, 'c': 2, 'd': 3}"
      ]
     },
     "execution_count": 13,
     "metadata": {},
     "output_type": "execute_result"
    }
   ],
   "source": [
    "container"
   ]
  },
  {
   "cell_type": "code",
   "execution_count": 16,
   "id": "253869b8",
   "metadata": {},
   "outputs": [],
   "source": [
    "dc={}\n",
    "dc2={}\n",
    "for index,item in enumerate(let):\n",
    "    dc[item]=index\n",
    "    dc2[index]=item"
   ]
  },
  {
   "cell_type": "code",
   "execution_count": 17,
   "id": "d08a9f50",
   "metadata": {},
   "outputs": [
    {
     "data": {
      "text/plain": [
       "{'a': 0, 'b': 1, 'c': 2, 'd': 3, 'e': 4}"
      ]
     },
     "execution_count": 17,
     "metadata": {},
     "output_type": "execute_result"
    }
   ],
   "source": [
    "dc"
   ]
  },
  {
   "cell_type": "code",
   "execution_count": 18,
   "id": "76770cba",
   "metadata": {},
   "outputs": [
    {
     "data": {
      "text/plain": [
       "{0: 'a', 1: 'b', 2: 'c', 3: 'd', 4: 'e'}"
      ]
     },
     "execution_count": 18,
     "metadata": {},
     "output_type": "execute_result"
    }
   ],
   "source": [
    "dc2"
   ]
  },
  {
   "cell_type": "code",
   "execution_count": 16,
   "id": "353edc7f",
   "metadata": {},
   "outputs": [],
   "source": [
    "def add(x=0,y=0):\n",
    "    \n",
    "    return x,y,x+y,x*y"
   ]
  },
  {
   "cell_type": "code",
   "execution_count": 20,
   "id": "91f97e36",
   "metadata": {},
   "outputs": [],
   "source": [
    "a,b,c,d=add(1,2)"
   ]
  },
  {
   "cell_type": "code",
   "execution_count": 29,
   "id": "c42dc2a1",
   "metadata": {},
   "outputs": [
    {
     "ename": "TypeError",
     "evalue": "add() missing 2 required positional arguments: 'x' and 'y'",
     "output_type": "error",
     "traceback": [
      "\u001b[1;31m---------------------------------------------------------------------------\u001b[0m",
      "\u001b[1;31mTypeError\u001b[0m                                 Traceback (most recent call last)",
      "\u001b[1;32m~\\AppData\\Local\\Temp\\ipykernel_11380\\3064714114.py\u001b[0m in \u001b[0;36m<module>\u001b[1;34m\u001b[0m\n\u001b[1;32m----> 1\u001b[1;33m \u001b[0madd\u001b[0m\u001b[1;33m(\u001b[0m\u001b[1;33m)\u001b[0m\u001b[1;33m\u001b[0m\u001b[1;33m\u001b[0m\u001b[0m\n\u001b[0m",
      "\u001b[1;31mTypeError\u001b[0m: add() missing 2 required positional arguments: 'x' and 'y'"
     ]
    }
   ],
   "source": [
    "add()"
   ]
  },
  {
   "cell_type": "code",
   "execution_count": 22,
   "id": "0d5911b9",
   "metadata": {},
   "outputs": [
    {
     "data": {
      "text/plain": [
       "1"
      ]
     },
     "execution_count": 22,
     "metadata": {},
     "output_type": "execute_result"
    }
   ],
   "source": [
    "def add(x,y):\n",
    "    \n",
    "    return x,y,x+y,x*y"
   ]
  },
  {
   "cell_type": "code",
   "execution_count": 23,
   "id": "66e678f5",
   "metadata": {},
   "outputs": [
    {
     "data": {
      "text/plain": [
       "2"
      ]
     },
     "execution_count": 23,
     "metadata": {},
     "output_type": "execute_result"
    }
   ],
   "source": [
    "b"
   ]
  },
  {
   "cell_type": "code",
   "execution_count": 24,
   "id": "b00cd9d4",
   "metadata": {},
   "outputs": [
    {
     "data": {
      "text/plain": [
       "3"
      ]
     },
     "execution_count": 24,
     "metadata": {},
     "output_type": "execute_result"
    }
   ],
   "source": [
    "c"
   ]
  },
  {
   "cell_type": "code",
   "execution_count": 25,
   "id": "7aa2850e",
   "metadata": {},
   "outputs": [
    {
     "data": {
      "text/plain": [
       "2"
      ]
     },
     "execution_count": 25,
     "metadata": {},
     "output_type": "execute_result"
    }
   ],
   "source": [
    "d"
   ]
  },
  {
   "cell_type": "code",
   "execution_count": 26,
   "id": "994a34a3",
   "metadata": {},
   "outputs": [],
   "source": [
    "def check(x,y):\n",
    "    if type(x)==type(1)\n"
   ]
  },
  {
   "cell_type": "code",
   "execution_count": 27,
   "id": "cfffd3ba",
   "metadata": {},
   "outputs": [
    {
     "data": {
      "text/plain": [
       "int"
      ]
     },
     "execution_count": 27,
     "metadata": {},
     "output_type": "execute_result"
    }
   ],
   "source": [
    "type(10)"
   ]
  },
  {
   "cell_type": "code",
   "execution_count": 28,
   "id": "4980651a",
   "metadata": {},
   "outputs": [
    {
     "data": {
      "text/plain": [
       "False"
      ]
     },
     "execution_count": 28,
     "metadata": {},
     "output_type": "execute_result"
    }
   ],
   "source": []
  },
  {
   "cell_type": "code",
   "execution_count": 33,
   "id": "557edfe5",
   "metadata": {},
   "outputs": [],
   "source": [
    "import pandas as pd"
   ]
  },
  {
   "cell_type": "code",
   "execution_count": 32,
   "id": "efe93c52",
   "metadata": {},
   "outputs": [
    {
     "data": {
      "text/plain": [
       "3.1"
      ]
     },
     "execution_count": 32,
     "metadata": {},
     "output_type": "execute_result"
    }
   ],
   "source": [
    "round(3.14,ndigits=1)"
   ]
  },
  {
   "cell_type": "code",
   "execution_count": 34,
   "id": "bfbb6cab",
   "metadata": {},
   "outputs": [],
   "source": [
    "df=pd.read_csv('Houses.csv')"
   ]
  },
  {
   "cell_type": "code",
   "execution_count": 38,
   "id": "1686a385",
   "metadata": {},
   "outputs": [],
   "source": [
    "def show_text(text='fdsfdsfsdfsdfsdfsdfsdfdsfsdfsdf'):\n",
    "    print(text)"
   ]
  },
  {
   "cell_type": "code",
   "execution_count": 40,
   "id": "e8859f70",
   "metadata": {},
   "outputs": [
    {
     "name": "stdout",
     "output_type": "stream",
     "text": [
      "123\n"
     ]
    }
   ],
   "source": [
    "show_text(text='123')"
   ]
  },
  {
   "cell_type": "code",
   "execution_count": 43,
   "id": "054093ed",
   "metadata": {},
   "outputs": [],
   "source": [
    "out=list(range(4))"
   ]
  },
  {
   "cell_type": "code",
   "execution_count": 55,
   "id": "db27c14e",
   "metadata": {},
   "outputs": [
    {
     "ename": "TypeError",
     "evalue": "unhashable type: 'list'",
     "output_type": "error",
     "traceback": [
      "\u001b[1;31m---------------------------------------------------------------------------\u001b[0m",
      "\u001b[1;31mTypeError\u001b[0m                                 Traceback (most recent call last)",
      "\u001b[1;32m~\\AppData\\Local\\Temp\\ipykernel_11380\\4072224206.py\u001b[0m in \u001b[0;36m<module>\u001b[1;34m\u001b[0m\n\u001b[1;32m----> 1\u001b[1;33m \u001b[0mout2\u001b[0m\u001b[1;33m=\u001b[0m\u001b[1;33m{\u001b[0m\u001b[0mout\u001b[0m\u001b[1;33m}\u001b[0m\u001b[1;33m\u001b[0m\u001b[1;33m\u001b[0m\u001b[0m\n\u001b[0m",
      "\u001b[1;31mTypeError\u001b[0m: unhashable type: 'list'"
     ]
    }
   ],
   "source": [
    "out2={out}"
   ]
  },
  {
   "cell_type": "code",
   "execution_count": 56,
   "id": "a1070283",
   "metadata": {},
   "outputs": [
    {
     "data": {
      "text/plain": [
       "{0, 1, 2, 3}"
      ]
     },
     "execution_count": 56,
     "metadata": {},
     "output_type": "execute_result"
    }
   ],
   "source": [
    "out2"
   ]
  },
  {
   "cell_type": "code",
   "execution_count": 54,
   "id": "688f2240",
   "metadata": {},
   "outputs": [
    {
     "data": {
      "text/plain": [
       "False"
      ]
     },
     "execution_count": 54,
     "metadata": {},
     "output_type": "execute_result"
    }
   ],
   "source": [
    "out2==out"
   ]
  },
  {
   "cell_type": "code",
   "execution_count": 65,
   "id": "4a0bdfc3",
   "metadata": {},
   "outputs": [],
   "source": [
    "def items(*numbers):\n",
    "    total=0\n",
    "    for n in numbers:\n",
    "        total+=n\n",
    "    return total"
   ]
  },
  {
   "cell_type": "code",
   "execution_count": 66,
   "id": "4dfd723c",
   "metadata": {},
   "outputs": [
    {
     "data": {
      "text/plain": [
       "15"
      ]
     },
     "execution_count": 66,
     "metadata": {},
     "output_type": "execute_result"
    }
   ],
   "source": [
    "items(1,2,3,4,5)"
   ]
  },
  {
   "cell_type": "code",
   "execution_count": 71,
   "id": "14d8372b",
   "metadata": {},
   "outputs": [],
   "source": [
    "def keyword_args(**kwargs):\n",
    "    print(kwargs.values())"
   ]
  },
  {
   "cell_type": "code",
   "execution_count": 72,
   "id": "50f26b7e",
   "metadata": {},
   "outputs": [
    {
     "name": "stdout",
     "output_type": "stream",
     "text": [
      "dict_values([1, 2])\n"
     ]
    }
   ],
   "source": [
    "keyword_args(first=1,second=2)"
   ]
  },
  {
   "cell_type": "code",
   "execution_count": 73,
   "id": "87aa55d8",
   "metadata": {},
   "outputs": [],
   "source": [
    "def show_text(text='fdsfdsfsdfsdfsdfsdfsdfdsfsdfsdf'):\n",
    "    print(text)"
   ]
  },
  {
   "cell_type": "code",
   "execution_count": 95,
   "id": "03de68a5",
   "metadata": {},
   "outputs": [],
   "source": [
    "y=lambda x,y: print(x+y)"
   ]
  },
  {
   "cell_type": "code",
   "execution_count": 96,
   "id": "f8b22fd6",
   "metadata": {},
   "outputs": [],
   "source": [
    "def pr(x):\n",
    "    print(x)"
   ]
  },
  {
   "cell_type": "code",
   "execution_count": 97,
   "id": "a44d9831",
   "metadata": {},
   "outputs": [
    {
     "name": "stdout",
     "output_type": "stream",
     "text": [
      "3\n"
     ]
    }
   ],
   "source": [
    "y(1,2)"
   ]
  },
  {
   "cell_type": "code",
   "execution_count": 94,
   "id": "af335f3f",
   "metadata": {},
   "outputs": [
    {
     "name": "stdout",
     "output_type": "stream",
     "text": [
      "sss\n"
     ]
    }
   ],
   "source": [
    "pr('sss')"
   ]
  },
  {
   "cell_type": "code",
   "execution_count": 116,
   "id": "7c881db8",
   "metadata": {},
   "outputs": [],
   "source": [
    "def out():\n",
    "    for i in range(15):\n",
    "        yield i"
   ]
  },
  {
   "cell_type": "code",
   "execution_count": 111,
   "id": "ad7fe849",
   "metadata": {},
   "outputs": [],
   "source": [
    "text='''Lorem ipsum odor amet, consectetuer adipiscing elit. Ultrices conubia penatibus mus pellentesque dictum tempor. Commodo vestibulum velit quis; parturient porta mauris. Viverra nulla varius pretium; nullam efficitur purus ligula. Bibendum turpis dapibus pharetra dapibus massa. Augue ridiculus eleifend interdum mus suscipit convallis. Nam potenti dolor est purus mi cursus hac.'''"
   ]
  },
  {
   "cell_type": "code",
   "execution_count": 123,
   "id": "a6ac4bf2",
   "metadata": {},
   "outputs": [],
   "source": [
    "word_count=len(text.split(\" \"))"
   ]
  },
  {
   "cell_type": "code",
   "execution_count": 126,
   "id": "814e09f5",
   "metadata": {},
   "outputs": [
    {
     "data": {
      "text/plain": [
       "377"
      ]
     },
     "execution_count": 126,
     "metadata": {},
     "output_type": "execute_result"
    }
   ],
   "source": [
    "len(text)"
   ]
  },
  {
   "cell_type": "code",
   "execution_count": 122,
   "id": "18db0277",
   "metadata": {},
   "outputs": [
    {
     "data": {
      "text/plain": [
       "3"
      ]
     },
     "execution_count": 122,
     "metadata": {},
     "output_type": "execute_result"
    }
   ],
   "source": [
    "next(x)"
   ]
  },
  {
   "cell_type": "code",
   "execution_count": 136,
   "id": "6030a6eb",
   "metadata": {},
   "outputs": [],
   "source": [
    "def remove_punc(text):\n",
    "    for t in text:\n",
    "        if not t.isalpha() and t!=' ':\n",
    "            text=text.replace(t,\"\")\n",
    "    return text"
   ]
  },
  {
   "cell_type": "code",
   "execution_count": 137,
   "id": "09d30970",
   "metadata": {},
   "outputs": [
    {
     "data": {
      "text/plain": [
       "'LoremipsumodorametconsectetueradipiscingelitUltricesconubiapenatibusmuspellentesquedictumtemporCommodovestibulumvelitquisparturientportamaurisViverranullavariuspretiumnullamefficiturpurusligulaBibendumturpisdapibuspharetradapibusmassaAugueridiculuseleifendinterdummussuscipitconvallisNampotentidolorestpurusmicursushac'"
      ]
     },
     "execution_count": 137,
     "metadata": {},
     "output_type": "execute_result"
    }
   ],
   "source": [
    "remove_punc(text)"
   ]
  },
  {
   "cell_type": "code",
   "execution_count": 138,
   "id": "0d8c2eff",
   "metadata": {},
   "outputs": [],
   "source": [
    "with open('filename.txt','w') as f:\n",
    "    f.write('eesewewe')"
   ]
  },
  {
   "cell_type": "code",
   "execution_count": 141,
   "id": "494df2ea",
   "metadata": {},
   "outputs": [],
   "source": [
    "mail='sdsdasd@sdsfds.cdsc'"
   ]
  },
  {
   "cell_type": "code",
   "execution_count": 196,
   "id": "7639702d",
   "metadata": {},
   "outputs": [],
   "source": [
    "def name_function(name):\n",
    "    names=name.split(\" \")\n",
    "    if len(names)<2:\n",
    "        return False\n",
    "    for n in names:\n",
    "        if not n.isalpha():\n",
    "            return False\n",
    "    return True"
   ]
  },
  {
   "cell_type": "code",
   "execution_count": 198,
   "id": "1fd855ef",
   "metadata": {},
   "outputs": [],
   "source": [
    "def data_entry(name,age=0,phone_number=0,email=0,gender=0):\n",
    "    name_function(name)\n",
    "    with open(name+'.txt','w') as f:\n",
    "        f.write(name)"
   ]
  },
  {
   "cell_type": "code",
   "execution_count": 200,
   "id": "82a5cd4c",
   "metadata": {},
   "outputs": [],
   "source": [
    "data_entry(name='ahmed ahmed')"
   ]
  },
  {
   "cell_type": "code",
   "execution_count": 211,
   "id": "4a974416",
   "metadata": {},
   "outputs": [],
   "source": [
    "def out(s):\n",
    "    '''\n",
    "    Doctstring\n",
    "    fsdfsd\n",
    "    sdsfsdf\n",
    "    dsfsdfsd\n",
    "    '''\n",
    "    for i in range(s):\n",
    "        yield i"
   ]
  },
  {
   "cell_type": "code",
   "execution_count": 204,
   "id": "f0a5893d",
   "metadata": {},
   "outputs": [],
   "source": [
    "x=out(10)"
   ]
  },
  {
   "cell_type": "code",
   "execution_count": 209,
   "id": "bff9d55e",
   "metadata": {},
   "outputs": [
    {
     "data": {
      "text/plain": [
       "4"
      ]
     },
     "execution_count": 209,
     "metadata": {},
     "output_type": "execute_result"
    }
   ],
   "source": [
    "next(x)"
   ]
  },
  {
   "cell_type": "code",
   "execution_count": 210,
   "id": "45d2f589",
   "metadata": {},
   "outputs": [],
   "source": [
    "round??"
   ]
  },
  {
   "cell_type": "code",
   "execution_count": 212,
   "id": "17af413f",
   "metadata": {},
   "outputs": [],
   "source": [
    "out??"
   ]
  },
  {
   "cell_type": "code",
   "execution_count": 213,
   "id": "10cf368c",
   "metadata": {},
   "outputs": [],
   "source": [
    "pd.read_csv??"
   ]
  },
  {
   "cell_type": "code",
   "execution_count": null,
   "id": "efb9a140",
   "metadata": {},
   "outputs": [],
   "source": []
  }
 ],
 "metadata": {
  "kernelspec": {
   "display_name": "Python 3 (ipykernel)",
   "language": "python",
   "name": "python3"
  },
  "language_info": {
   "codemirror_mode": {
    "name": "ipython",
    "version": 3
   },
   "file_extension": ".py",
   "mimetype": "text/x-python",
   "name": "python",
   "nbconvert_exporter": "python",
   "pygments_lexer": "ipython3",
   "version": "3.9.13"
  }
 },
 "nbformat": 4,
 "nbformat_minor": 5
}
